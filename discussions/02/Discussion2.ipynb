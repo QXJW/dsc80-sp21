{
 "cells": [
  {
   "cell_type": "code",
   "execution_count": 1,
   "id": "identified-spice",
   "metadata": {},
   "outputs": [],
   "source": [
    "import numpy as np\n",
    "import pandas as pd\n",
    "import os"
   ]
  },
  {
   "cell_type": "code",
   "execution_count": 12,
   "id": "honest-prompt",
   "metadata": {},
   "outputs": [],
   "source": [
    "def question01(data, labels):\n",
    "    \"\"\"\n",
    "    Returns a dataframe from the\n",
    "    given data (a dictionary of lists),\n",
    "    and list of labels.\n",
    "\n",
    "    >>> data = {'column1': [0,3,5,6], 'column2': [1,3,2,4]}\n",
    "    >>> labels = 'a b c d'.split()\n",
    "    >>> out = question01(data, labels)\n",
    "    >>> isinstance(out, pd.DataFrame)\n",
    "    True\n",
    "    >>> out.index.tolist() == labels\n",
    "    True\n",
    "    \"\"\"\n",
    "\n",
    "    return (pd.DataFrame(data,index=labels))"
   ]
  },
  {
   "cell_type": "code",
   "execution_count": 13,
   "id": "funky-pleasure",
   "metadata": {},
   "outputs": [
    {
     "data": {
      "text/html": [
       "<div>\n",
       "<style scoped>\n",
       "    .dataframe tbody tr th:only-of-type {\n",
       "        vertical-align: middle;\n",
       "    }\n",
       "\n",
       "    .dataframe tbody tr th {\n",
       "        vertical-align: top;\n",
       "    }\n",
       "\n",
       "    .dataframe thead th {\n",
       "        text-align: right;\n",
       "    }\n",
       "</style>\n",
       "<table border=\"1\" class=\"dataframe\">\n",
       "  <thead>\n",
       "    <tr style=\"text-align: right;\">\n",
       "      <th></th>\n",
       "      <th>column1</th>\n",
       "      <th>column2</th>\n",
       "    </tr>\n",
       "  </thead>\n",
       "  <tbody>\n",
       "    <tr>\n",
       "      <th>a</th>\n",
       "      <td>0</td>\n",
       "      <td>1</td>\n",
       "    </tr>\n",
       "    <tr>\n",
       "      <th>b</th>\n",
       "      <td>3</td>\n",
       "      <td>3</td>\n",
       "    </tr>\n",
       "    <tr>\n",
       "      <th>c</th>\n",
       "      <td>5</td>\n",
       "      <td>2</td>\n",
       "    </tr>\n",
       "    <tr>\n",
       "      <th>d</th>\n",
       "      <td>6</td>\n",
       "      <td>4</td>\n",
       "    </tr>\n",
       "  </tbody>\n",
       "</table>\n",
       "</div>"
      ],
      "text/plain": [
       "   column1  column2\n",
       "a        0        1\n",
       "b        3        3\n",
       "c        5        2\n",
       "d        6        4"
      ]
     },
     "execution_count": 13,
     "metadata": {},
     "output_type": "execute_result"
    }
   ],
   "source": [
    "data = {'column1': [0,3,5,6], 'column2': [1,3,2,4]}\n",
    "labels = 'a b c d'.split()\n",
    "out = question01(data, labels)\n",
    "out"
   ]
  },
  {
   "cell_type": "code",
   "execution_count": 14,
   "id": "finite-bulletin",
   "metadata": {},
   "outputs": [
    {
     "data": {
      "text/plain": [
       "True"
      ]
     },
     "execution_count": 14,
     "metadata": {},
     "output_type": "execute_result"
    }
   ],
   "source": [
    "isinstance(out, pd.DataFrame)"
   ]
  },
  {
   "cell_type": "code",
   "execution_count": 15,
   "id": "acute-facial",
   "metadata": {},
   "outputs": [
    {
     "data": {
      "text/plain": [
       "True"
      ]
     },
     "execution_count": 15,
     "metadata": {},
     "output_type": "execute_result"
    }
   ],
   "source": [
    "out.index.tolist() == labels"
   ]
  },
  {
   "cell_type": "code",
   "execution_count": 57,
   "id": "challenging-macro",
   "metadata": {},
   "outputs": [],
   "source": [
    "def question02(ser):\n",
    "    \"\"\"\n",
    "    Given a Pandas Series, outputs the\n",
    "    positions (an index or array) of \n",
    "    entries of ser that are multiples of 3.\n",
    "\n",
    "    >>> ser = pd.Series([1, 3, 6, 9])\n",
    "    >>> out = question02(ser)\n",
    "    >>> out.tolist() == [1, 2, 3]\n",
    "    True\n",
    "    \"\"\"\n",
    "    return ser.loc[ser.apply(lambda x: x%3==0)].index"
   ]
  },
  {
   "cell_type": "code",
   "execution_count": 58,
   "id": "crazy-boxing",
   "metadata": {},
   "outputs": [
    {
     "data": {
      "text/plain": [
       "Int64Index([1, 2, 3], dtype='int64')"
      ]
     },
     "execution_count": 58,
     "metadata": {},
     "output_type": "execute_result"
    }
   ],
   "source": [
    "ser = pd.Series([1, 3, 6, 9])\n",
    "out = question02(ser)\n",
    "out"
   ]
  },
  {
   "cell_type": "code",
   "execution_count": 59,
   "id": "joint-playlist",
   "metadata": {},
   "outputs": [
    {
     "data": {
      "text/plain": [
       "True"
      ]
     },
     "execution_count": 59,
     "metadata": {},
     "output_type": "execute_result"
    }
   ],
   "source": [
    "out.tolist() == [1, 2, 3]"
   ]
  },
  {
   "cell_type": "code",
   "execution_count": null,
   "id": "matched-margin",
   "metadata": {},
   "outputs": [],
   "source": []
  }
 ],
 "metadata": {
  "kernelspec": {
   "display_name": "Python 3",
   "language": "python",
   "name": "python3"
  },
  "language_info": {
   "codemirror_mode": {
    "name": "ipython",
    "version": 3
   },
   "file_extension": ".py",
   "mimetype": "text/x-python",
   "name": "python",
   "nbconvert_exporter": "python",
   "pygments_lexer": "ipython3",
   "version": "3.9.1"
  }
 },
 "nbformat": 4,
 "nbformat_minor": 5
}
