{
 "cells": [
  {
   "cell_type": "markdown",
   "metadata": {},
   "source": [
    "# Discussion 7b\n",
    "\n",
    "### Due Friday May 15, 11:59:59PM"
   ]
  },
  {
   "cell_type": "markdown",
   "metadata": {},
   "source": [
    "---\n",
    "\n",
    "## Regex and Text Data"
   ]
  },
  {
   "cell_type": "code",
   "execution_count": 1,
   "metadata": {},
   "outputs": [],
   "source": [
    "# import libraries\n",
    "import pandas as pd\n",
    "import numpy as np\n",
    "import os\n",
    "import re"
   ]
  },
  {
   "cell_type": "markdown",
   "metadata": {},
   "source": [
    "## Useful links\n",
    "\n",
    "https://pythex.org/\n",
    "\n",
    "https://www.debuggex.com/cheatsheet/regex/python\n"
   ]
  },
  {
   "cell_type": "markdown",
   "metadata": {},
   "source": [
    "### **Q1**: Identify duplicate words in a sentence\n",
    "\n",
    "Given an input sentence, provide a list of words that are duplicated. If there is no duplication return an empty list"
   ]
  },
  {
   "cell_type": "code",
   "execution_count": 2,
   "metadata": {},
   "outputs": [],
   "source": [
    "def duplicate_words(s):\n",
    "    '''Provide a list of all words that are duplicates in an input sentence.\n",
    "    Assume that the sentences are lower case.'''\n",
    "    pat = r'(\\b\\w+\\b)\\s+\\b\\1\\b'\n",
    "    return re.findall(pat, s)"
   ]
  },
  {
   "cell_type": "code",
   "execution_count": 3,
   "metadata": {},
   "outputs": [],
   "source": [
    "s = 'let us plan for a horror movie movie this weekend weekends'\n",
    "# s = 'I like surfing'"
   ]
  },
  {
   "cell_type": "code",
   "execution_count": 4,
   "metadata": {},
   "outputs": [
    {
     "data": {
      "text/plain": [
       "['movie']"
      ]
     },
     "execution_count": 4,
     "metadata": {},
     "output_type": "execute_result"
    }
   ],
   "source": [
    "#re.search, re.match, re.findall\n",
    "pat = r'(\\b\\w+\\b)\\s+\\b\\1\\b'\n",
    "re.findall(pat, s)"
   ]
  },
  {
   "cell_type": "markdown",
   "metadata": {},
   "source": [
    "### **Q2:** Extract laptop specifications\n",
    "The below image provides details on column names and the extract patterns. Given a df with product description - Return df with added columns of processor (i3, i5), generation (9th Gen, 10th Gen), storage (512 GB SSD, 1 TB HDD), display_in_inch (15.6 inch, 14 inch). \n",
    "\n",
    "If there is no specific information present, keep a null (NaN) value.\n",
    "\n",
    "<img src='laptop_specs.png'>"
   ]
  },
  {
   "cell_type": "code",
   "execution_count": 89,
   "metadata": {},
   "outputs": [],
   "source": [
    "def laptop_details(df):\n",
    "    '''Given a df with product description - Return df with added columns of \n",
    "    processor (i3, i5), generation (9th Gen, 10th Gen), \n",
    "    storage (512 GB SSD, 1 TB HDD), display_in_inch (15.6 inch, 14 inch)'''\n",
    "    df['processor'] = df['laptop_description'].str.extract(r'(\\bi[0-9]\\b)')\n",
    "    df['generation'] = df['laptop_description'].str.extract(r'(\\b[0-9]{1,2}[d-t]{2}\\s+Gen\\b)')\n",
    "    #df['generation'] = df['laptop_description'].str.extract(r'(\\b[0-9][d-t]{2} .{3}\\b)')\n",
    "    df['storage'] = df['laptop_description'].str.extract(r'(\\b[0-9]{3}\\s.{2}\\s.{3}\\b)')\n",
    "    df['display_inch'] = df['laptop_description'].str.extract(r'([0-9]{2}(\\.[0-9]{1,2})?\\s+inch)')[0]\n",
    "    \n",
    "    return df"
   ]
  },
  {
   "cell_type": "code",
   "execution_count": 90,
   "metadata": {},
   "outputs": [],
   "source": [
    "df = pd.read_csv('data/laptop_details.csv')\n",
    "new_df = laptop_details(df)"
   ]
  },
  {
   "cell_type": "code",
   "execution_count": 91,
   "metadata": {},
   "outputs": [
    {
     "data": {
      "text/html": [
       "<div>\n",
       "<style scoped>\n",
       "    .dataframe tbody tr th:only-of-type {\n",
       "        vertical-align: middle;\n",
       "    }\n",
       "\n",
       "    .dataframe tbody tr th {\n",
       "        vertical-align: top;\n",
       "    }\n",
       "\n",
       "    .dataframe thead th {\n",
       "        text-align: right;\n",
       "    }\n",
       "</style>\n",
       "<table border=\"1\" class=\"dataframe\">\n",
       "  <thead>\n",
       "    <tr style=\"text-align: right;\">\n",
       "      <th></th>\n",
       "      <th>laptop_description</th>\n",
       "      <th>processor</th>\n",
       "      <th>generation</th>\n",
       "      <th>storage</th>\n",
       "      <th>display_inch</th>\n",
       "    </tr>\n",
       "  </thead>\n",
       "  <tbody>\n",
       "    <tr>\n",
       "      <th>0</th>\n",
       "      <td>Intel Core i5 Processor (9th Gen), 8 GB DDR4 R...</td>\n",
       "      <td>i5</td>\n",
       "      <td>9th Gen</td>\n",
       "      <td>512 GB SSD</td>\n",
       "      <td>15.65 inch</td>\n",
       "    </tr>\n",
       "    <tr>\n",
       "      <th>1</th>\n",
       "      <td>Intel Core i3 Processor (2nd   Gen), 8 GB DDR4...</td>\n",
       "      <td>i3</td>\n",
       "      <td>2nd   Gen</td>\n",
       "      <td>NaN</td>\n",
       "      <td>NaN</td>\n",
       "    </tr>\n",
       "    <tr>\n",
       "      <th>2</th>\n",
       "      <td>Intel Core i5 Processor (  10th Gen), 64 bit W...</td>\n",
       "      <td>i5</td>\n",
       "      <td>10th Gen</td>\n",
       "      <td>512 GB SSD</td>\n",
       "      <td>15.6 inch</td>\n",
       "    </tr>\n",
       "    <tr>\n",
       "      <th>3</th>\n",
       "      <td>Intel Core i5 Processor (10th Gen ), 256 GB SS...</td>\n",
       "      <td>i5</td>\n",
       "      <td>10th Gen</td>\n",
       "      <td>256 GB SSD</td>\n",
       "      <td>14 inch</td>\n",
       "    </tr>\n",
       "    <tr>\n",
       "      <th>4</th>\n",
       "      <td>Intel Core i3 Processor, 4 GB DDR4 RAM, 64 bit...</td>\n",
       "      <td>i3</td>\n",
       "      <td>NaN</td>\n",
       "      <td>NaN</td>\n",
       "      <td>15.6 inch</td>\n",
       "    </tr>\n",
       "    <tr>\n",
       "      <th>5</th>\n",
       "      <td>Intel Core i3 Processor (10th Gen), 4 GB DDR4 ...</td>\n",
       "      <td>i3</td>\n",
       "      <td>10th Gen</td>\n",
       "      <td>NaN</td>\n",
       "      <td>15.65 inch</td>\n",
       "    </tr>\n",
       "    <tr>\n",
       "      <th>6</th>\n",
       "      <td>Intel Core i5 Processor (10th Gen), 8 GB DDR4 ...</td>\n",
       "      <td>i5</td>\n",
       "      <td>10th Gen</td>\n",
       "      <td>NaN</td>\n",
       "      <td>14 inch</td>\n",
       "    </tr>\n",
       "    <tr>\n",
       "      <th>7</th>\n",
       "      <td>Intel Core i5 Processor (10th Gen), 8 GB DDR4 ...</td>\n",
       "      <td>i5</td>\n",
       "      <td>10th Gen</td>\n",
       "      <td>512 GB HDD</td>\n",
       "      <td>14 inch</td>\n",
       "    </tr>\n",
       "    <tr>\n",
       "      <th>8</th>\n",
       "      <td>Intel Core i3 Processor (10th Gen), 64 bit Win...</td>\n",
       "      <td>i3</td>\n",
       "      <td>10th Gen</td>\n",
       "      <td>256 GB SSD</td>\n",
       "      <td>14 inch</td>\n",
       "    </tr>\n",
       "    <tr>\n",
       "      <th>9</th>\n",
       "      <td>Intel Core i5 Processor (10th Gen), 1 TB HDD, ...</td>\n",
       "      <td>i5</td>\n",
       "      <td>10th Gen</td>\n",
       "      <td>NaN</td>\n",
       "      <td>14.2 inch</td>\n",
       "    </tr>\n",
       "    <tr>\n",
       "      <th>10</th>\n",
       "      <td>Intel Core i3 Processor (10th Gen), 4 GB DDR4 ...</td>\n",
       "      <td>i3</td>\n",
       "      <td>10th Gen</td>\n",
       "      <td>256 GB SSD</td>\n",
       "      <td>14 inch</td>\n",
       "    </tr>\n",
       "    <tr>\n",
       "      <th>11</th>\n",
       "      <td>Intel Core i3 Processor (10th Gen), 4 GB DDR4 ...</td>\n",
       "      <td>i3</td>\n",
       "      <td>10th Gen</td>\n",
       "      <td>256 GB SSD</td>\n",
       "      <td>14.3 inch</td>\n",
       "    </tr>\n",
       "    <tr>\n",
       "      <th>12</th>\n",
       "      <td>Intel Core i5 Processor (10th Gen), 8 GB DDR4 ...</td>\n",
       "      <td>i5</td>\n",
       "      <td>10th Gen</td>\n",
       "      <td>NaN</td>\n",
       "      <td>14 inch</td>\n",
       "    </tr>\n",
       "    <tr>\n",
       "      <th>13</th>\n",
       "      <td>Intel Core i3 Processor (8th Gen), 8 GB DDR4 R...</td>\n",
       "      <td>i3</td>\n",
       "      <td>8th Gen</td>\n",
       "      <td>NaN</td>\n",
       "      <td>15.6 inch</td>\n",
       "    </tr>\n",
       "    <tr>\n",
       "      <th>14</th>\n",
       "      <td>Intel Core i5 Processor (10th Gen), 8 GB DDR4 ...</td>\n",
       "      <td>i5</td>\n",
       "      <td>10th Gen</td>\n",
       "      <td>512 GB SSD</td>\n",
       "      <td>14 inch</td>\n",
       "    </tr>\n",
       "    <tr>\n",
       "      <th>15</th>\n",
       "      <td>Intel Core i5 Processor (10th Gen), 8 GB DDR4 ...</td>\n",
       "      <td>i5</td>\n",
       "      <td>10th Gen</td>\n",
       "      <td>512 GB SSD</td>\n",
       "      <td>15.6 inch</td>\n",
       "    </tr>\n",
       "    <tr>\n",
       "      <th>16</th>\n",
       "      <td>Intel Core i5 Processor (8th Gen), 8 GB DDR3 R...</td>\n",
       "      <td>i5</td>\n",
       "      <td>8th Gen</td>\n",
       "      <td>256 GB SSD</td>\n",
       "      <td>13.3 inch</td>\n",
       "    </tr>\n",
       "    <tr>\n",
       "      <th>17</th>\n",
       "      <td>Intel Core i7 Processor (9th Gen), 8 GB DDR4 R...</td>\n",
       "      <td>i7</td>\n",
       "      <td>9th Gen</td>\n",
       "      <td>512 GB SSD</td>\n",
       "      <td>15.6 inch</td>\n",
       "    </tr>\n",
       "    <tr>\n",
       "      <th>18</th>\n",
       "      <td>Intel Core i5 Processor (10th Gen), 8 GB DDR4 ...</td>\n",
       "      <td>i5</td>\n",
       "      <td>10th Gen</td>\n",
       "      <td>256 GB SSD</td>\n",
       "      <td>15.6 inch</td>\n",
       "    </tr>\n",
       "    <tr>\n",
       "      <th>19</th>\n",
       "      <td>Intel Core i7 Processor (10th Gen), 8 GB DDR4 ...</td>\n",
       "      <td>i7</td>\n",
       "      <td>10th Gen</td>\n",
       "      <td>512 GB HDD</td>\n",
       "      <td>15.6 inch</td>\n",
       "    </tr>\n",
       "    <tr>\n",
       "      <th>20</th>\n",
       "      <td>Intel Core i7 Processor (9th Gen), 8 GB DDR4 R...</td>\n",
       "      <td>i7</td>\n",
       "      <td>9th Gen</td>\n",
       "      <td>512 GB SSD</td>\n",
       "      <td>15.6 inch</td>\n",
       "    </tr>\n",
       "  </tbody>\n",
       "</table>\n",
       "</div>"
      ],
      "text/plain": [
       "                                   laptop_description processor generation  \\\n",
       "0   Intel Core i5 Processor (9th Gen), 8 GB DDR4 R...        i5    9th Gen   \n",
       "1   Intel Core i3 Processor (2nd   Gen), 8 GB DDR4...        i3  2nd   Gen   \n",
       "2   Intel Core i5 Processor (  10th Gen), 64 bit W...        i5   10th Gen   \n",
       "3   Intel Core i5 Processor (10th Gen ), 256 GB SS...        i5   10th Gen   \n",
       "4   Intel Core i3 Processor, 4 GB DDR4 RAM, 64 bit...        i3        NaN   \n",
       "5   Intel Core i3 Processor (10th Gen), 4 GB DDR4 ...        i3   10th Gen   \n",
       "6   Intel Core i5 Processor (10th Gen), 8 GB DDR4 ...        i5   10th Gen   \n",
       "7   Intel Core i5 Processor (10th Gen), 8 GB DDR4 ...        i5   10th Gen   \n",
       "8   Intel Core i3 Processor (10th Gen), 64 bit Win...        i3   10th Gen   \n",
       "9   Intel Core i5 Processor (10th Gen), 1 TB HDD, ...        i5   10th Gen   \n",
       "10  Intel Core i3 Processor (10th Gen), 4 GB DDR4 ...        i3   10th Gen   \n",
       "11  Intel Core i3 Processor (10th Gen), 4 GB DDR4 ...        i3   10th Gen   \n",
       "12  Intel Core i5 Processor (10th Gen), 8 GB DDR4 ...        i5   10th Gen   \n",
       "13  Intel Core i3 Processor (8th Gen), 8 GB DDR4 R...        i3    8th Gen   \n",
       "14  Intel Core i5 Processor (10th Gen), 8 GB DDR4 ...        i5   10th Gen   \n",
       "15  Intel Core i5 Processor (10th Gen), 8 GB DDR4 ...        i5   10th Gen   \n",
       "16  Intel Core i5 Processor (8th Gen), 8 GB DDR3 R...        i5    8th Gen   \n",
       "17  Intel Core i7 Processor (9th Gen), 8 GB DDR4 R...        i7    9th Gen   \n",
       "18  Intel Core i5 Processor (10th Gen), 8 GB DDR4 ...        i5   10th Gen   \n",
       "19  Intel Core i7 Processor (10th Gen), 8 GB DDR4 ...        i7   10th Gen   \n",
       "20  Intel Core i7 Processor (9th Gen), 8 GB DDR4 R...        i7    9th Gen   \n",
       "\n",
       "       storage display_inch  \n",
       "0   512 GB SSD   15.65 inch  \n",
       "1          NaN          NaN  \n",
       "2   512 GB SSD    15.6 inch  \n",
       "3   256 GB SSD      14 inch  \n",
       "4          NaN    15.6 inch  \n",
       "5          NaN   15.65 inch  \n",
       "6          NaN      14 inch  \n",
       "7   512 GB HDD      14 inch  \n",
       "8   256 GB SSD      14 inch  \n",
       "9          NaN    14.2 inch  \n",
       "10  256 GB SSD      14 inch  \n",
       "11  256 GB SSD    14.3 inch  \n",
       "12         NaN      14 inch  \n",
       "13         NaN    15.6 inch  \n",
       "14  512 GB SSD      14 inch  \n",
       "15  512 GB SSD    15.6 inch  \n",
       "16  256 GB SSD    13.3 inch  \n",
       "17  512 GB SSD    15.6 inch  \n",
       "18  256 GB SSD    15.6 inch  \n",
       "19  512 GB HDD    15.6 inch  \n",
       "20  512 GB SSD    15.6 inch  "
      ]
     },
     "execution_count": 91,
     "metadata": {},
     "output_type": "execute_result"
    }
   ],
   "source": [
    "df"
   ]
  },
  {
   "cell_type": "code",
   "execution_count": 85,
   "metadata": {},
   "outputs": [
    {
     "data": {
      "text/plain": [
       "'Intel Core i5 Processor (10th Gen ), 256 GB SSD, 64 bit Windows 10 Operating System, 8 GB DDR4 RAM, 35.56 cm (14 inch) Display, Microsoft Office Home and Student 2019, 1 Year Limited Hardware Warranty, In Home Service After Remote Diagnosis - Retail'"
      ]
     },
     "execution_count": 85,
     "metadata": {},
     "output_type": "execute_result"
    }
   ],
   "source": [
    "df.iloc[3]['laptop_description']"
   ]
  },
  {
   "cell_type": "code",
   "execution_count": 86,
   "metadata": {},
   "outputs": [
    {
     "data": {
      "text/plain": [
       "(21, 5)"
      ]
     },
     "execution_count": 86,
     "metadata": {},
     "output_type": "execute_result"
    }
   ],
   "source": [
    "# should be (21,5)\n",
    "new_df.shape"
   ]
  },
  {
   "cell_type": "code",
   "execution_count": 87,
   "metadata": {},
   "outputs": [
    {
     "data": {
      "text/plain": [
       "3"
      ]
     },
     "execution_count": 87,
     "metadata": {},
     "output_type": "execute_result"
    }
   ],
   "source": [
    "# should be 3\n",
    "new_df['processor'].nunique()"
   ]
  },
  {
   "cell_type": "code",
   "execution_count": 74,
   "metadata": {},
   "outputs": [
    {
     "data": {
      "text/plain": [
       "0     9th Gen\n",
       "1         NaN\n",
       "2         NaN\n",
       "3         NaN\n",
       "4         NaN\n",
       "5         NaN\n",
       "6         NaN\n",
       "7         NaN\n",
       "8         NaN\n",
       "9         NaN\n",
       "10        NaN\n",
       "11        NaN\n",
       "12        NaN\n",
       "13    8th Gen\n",
       "14        NaN\n",
       "15        NaN\n",
       "16    8th Gen\n",
       "17    9th Gen\n",
       "18        NaN\n",
       "19        NaN\n",
       "20    9th Gen\n",
       "Name: generation, dtype: object"
      ]
     },
     "execution_count": 74,
     "metadata": {},
     "output_type": "execute_result"
    }
   ],
   "source": [
    "new_df['generation']#.nunique()"
   ]
  },
  {
   "cell_type": "code",
   "execution_count": 6,
   "metadata": {},
   "outputs": [
    {
     "data": {
      "text/html": [
       "<div>\n",
       "<style scoped>\n",
       "    .dataframe tbody tr th:only-of-type {\n",
       "        vertical-align: middle;\n",
       "    }\n",
       "\n",
       "    .dataframe tbody tr th {\n",
       "        vertical-align: top;\n",
       "    }\n",
       "\n",
       "    .dataframe thead th {\n",
       "        text-align: right;\n",
       "    }\n",
       "</style>\n",
       "<table border=\"1\" class=\"dataframe\">\n",
       "  <thead>\n",
       "    <tr style=\"text-align: right;\">\n",
       "      <th></th>\n",
       "      <th>laptop_description</th>\n",
       "    </tr>\n",
       "  </thead>\n",
       "  <tbody>\n",
       "    <tr>\n",
       "      <th>0</th>\n",
       "      <td>Intel Core i5 Processor (9th Gen), 8 GB DDR4 R...</td>\n",
       "    </tr>\n",
       "    <tr>\n",
       "      <th>1</th>\n",
       "      <td>Intel Core i3 Processor (2nd   Gen), 8 GB DDR4...</td>\n",
       "    </tr>\n",
       "    <tr>\n",
       "      <th>2</th>\n",
       "      <td>Intel Core i5 Processor (  10th Gen), 64 bit W...</td>\n",
       "    </tr>\n",
       "    <tr>\n",
       "      <th>3</th>\n",
       "      <td>Intel Core i5 Processor (10th Gen ), 256 GB SS...</td>\n",
       "    </tr>\n",
       "    <tr>\n",
       "      <th>4</th>\n",
       "      <td>Intel Core i3 Processor, 4 GB DDR4 RAM, 64 bit...</td>\n",
       "    </tr>\n",
       "  </tbody>\n",
       "</table>\n",
       "</div>"
      ],
      "text/plain": [
       "                                  laptop_description\n",
       "0  Intel Core i5 Processor (9th Gen), 8 GB DDR4 R...\n",
       "1  Intel Core i3 Processor (2nd   Gen), 8 GB DDR4...\n",
       "2  Intel Core i5 Processor (  10th Gen), 64 bit W...\n",
       "3  Intel Core i5 Processor (10th Gen ), 256 GB SS...\n",
       "4  Intel Core i3 Processor, 4 GB DDR4 RAM, 64 bit..."
      ]
     },
     "execution_count": 6,
     "metadata": {},
     "output_type": "execute_result"
    }
   ],
   "source": [
    "df = pd.read_csv('data/laptop_details.csv')\n",
    "df.head()"
   ]
  },
  {
   "cell_type": "code",
   "execution_count": 7,
   "metadata": {},
   "outputs": [
    {
     "data": {
      "text/plain": [
       "array(['Intel Core i5 Processor (9th Gen), 8 GB DDR4 RAM, 64 bit Windows 10 Operating System, 512 GB SSD, 39.62 cm (15.65 inch) Display, Acer Collection, Acer Product Registration , Quick Access, Acer Care Center, 1 Year International Travelers Warranty (ITW)'],\n",
       "      dtype=object)"
      ]
     },
     "execution_count": 7,
     "metadata": {},
     "output_type": "execute_result"
    }
   ],
   "source": [
    "df.iloc[0].values"
   ]
  },
  {
   "cell_type": "code",
   "execution_count": 8,
   "metadata": {},
   "outputs": [
    {
     "data": {
      "text/html": [
       "<div>\n",
       "<style scoped>\n",
       "    .dataframe tbody tr th:only-of-type {\n",
       "        vertical-align: middle;\n",
       "    }\n",
       "\n",
       "    .dataframe tbody tr th {\n",
       "        vertical-align: top;\n",
       "    }\n",
       "\n",
       "    .dataframe thead th {\n",
       "        text-align: right;\n",
       "    }\n",
       "</style>\n",
       "<table border=\"1\" class=\"dataframe\">\n",
       "  <thead>\n",
       "    <tr style=\"text-align: right;\">\n",
       "      <th></th>\n",
       "      <th>laptop_description</th>\n",
       "      <th>processor</th>\n",
       "      <th>display_inch</th>\n",
       "    </tr>\n",
       "  </thead>\n",
       "  <tbody>\n",
       "    <tr>\n",
       "      <th>0</th>\n",
       "      <td>Intel Core i5 Processor (9th Gen), 8 GB DDR4 R...</td>\n",
       "      <td>i5</td>\n",
       "      <td>15.65 inch</td>\n",
       "    </tr>\n",
       "    <tr>\n",
       "      <th>1</th>\n",
       "      <td>Intel Core i3 Processor (2nd   Gen), 8 GB DDR4...</td>\n",
       "      <td>i3</td>\n",
       "      <td>NaN</td>\n",
       "    </tr>\n",
       "    <tr>\n",
       "      <th>2</th>\n",
       "      <td>Intel Core i5 Processor (  10th Gen), 64 bit W...</td>\n",
       "      <td>i5</td>\n",
       "      <td>15.6 inch</td>\n",
       "    </tr>\n",
       "    <tr>\n",
       "      <th>3</th>\n",
       "      <td>Intel Core i5 Processor (10th Gen ), 256 GB SS...</td>\n",
       "      <td>i5</td>\n",
       "      <td>14 inch</td>\n",
       "    </tr>\n",
       "    <tr>\n",
       "      <th>4</th>\n",
       "      <td>Intel Core i3 Processor, 4 GB DDR4 RAM, 64 bit...</td>\n",
       "      <td>i3</td>\n",
       "      <td>15.6 inch</td>\n",
       "    </tr>\n",
       "    <tr>\n",
       "      <th>5</th>\n",
       "      <td>Intel Core i3 Processor (10th Gen), 4 GB DDR4 ...</td>\n",
       "      <td>i3</td>\n",
       "      <td>15.65 inch</td>\n",
       "    </tr>\n",
       "    <tr>\n",
       "      <th>6</th>\n",
       "      <td>Intel Core i5 Processor (10th Gen), 8 GB DDR4 ...</td>\n",
       "      <td>i5</td>\n",
       "      <td>14 inch</td>\n",
       "    </tr>\n",
       "    <tr>\n",
       "      <th>7</th>\n",
       "      <td>Intel Core i5 Processor (10th Gen), 8 GB DDR4 ...</td>\n",
       "      <td>i5</td>\n",
       "      <td>14 inch</td>\n",
       "    </tr>\n",
       "    <tr>\n",
       "      <th>8</th>\n",
       "      <td>Intel Core i3 Processor (10th Gen), 64 bit Win...</td>\n",
       "      <td>i3</td>\n",
       "      <td>14 inch</td>\n",
       "    </tr>\n",
       "    <tr>\n",
       "      <th>9</th>\n",
       "      <td>Intel Core i5 Processor (10th Gen), 1 TB HDD, ...</td>\n",
       "      <td>i5</td>\n",
       "      <td>14.2 inch</td>\n",
       "    </tr>\n",
       "    <tr>\n",
       "      <th>10</th>\n",
       "      <td>Intel Core i3 Processor (10th Gen), 4 GB DDR4 ...</td>\n",
       "      <td>i3</td>\n",
       "      <td>14 inch</td>\n",
       "    </tr>\n",
       "    <tr>\n",
       "      <th>11</th>\n",
       "      <td>Intel Core i3 Processor (10th Gen), 4 GB DDR4 ...</td>\n",
       "      <td>i3</td>\n",
       "      <td>14.3 inch</td>\n",
       "    </tr>\n",
       "    <tr>\n",
       "      <th>12</th>\n",
       "      <td>Intel Core i5 Processor (10th Gen), 8 GB DDR4 ...</td>\n",
       "      <td>i5</td>\n",
       "      <td>14 inch</td>\n",
       "    </tr>\n",
       "    <tr>\n",
       "      <th>13</th>\n",
       "      <td>Intel Core i3 Processor (8th Gen), 8 GB DDR4 R...</td>\n",
       "      <td>i3</td>\n",
       "      <td>15.6 inch</td>\n",
       "    </tr>\n",
       "    <tr>\n",
       "      <th>14</th>\n",
       "      <td>Intel Core i5 Processor (10th Gen), 8 GB DDR4 ...</td>\n",
       "      <td>i5</td>\n",
       "      <td>14 inch</td>\n",
       "    </tr>\n",
       "    <tr>\n",
       "      <th>15</th>\n",
       "      <td>Intel Core i5 Processor (10th Gen), 8 GB DDR4 ...</td>\n",
       "      <td>i5</td>\n",
       "      <td>15.6 inch</td>\n",
       "    </tr>\n",
       "    <tr>\n",
       "      <th>16</th>\n",
       "      <td>Intel Core i5 Processor (8th Gen), 8 GB DDR3 R...</td>\n",
       "      <td>i5</td>\n",
       "      <td>13.3 inch</td>\n",
       "    </tr>\n",
       "    <tr>\n",
       "      <th>17</th>\n",
       "      <td>Intel Core i7 Processor (9th Gen), 8 GB DDR4 R...</td>\n",
       "      <td>i7</td>\n",
       "      <td>15.6 inch</td>\n",
       "    </tr>\n",
       "    <tr>\n",
       "      <th>18</th>\n",
       "      <td>Intel Core i5 Processor (10th Gen), 8 GB DDR4 ...</td>\n",
       "      <td>i5</td>\n",
       "      <td>15.6 inch</td>\n",
       "    </tr>\n",
       "    <tr>\n",
       "      <th>19</th>\n",
       "      <td>Intel Core i7 Processor (10th Gen), 8 GB DDR4 ...</td>\n",
       "      <td>i7</td>\n",
       "      <td>15.6 inch</td>\n",
       "    </tr>\n",
       "    <tr>\n",
       "      <th>20</th>\n",
       "      <td>Intel Core i7 Processor (9th Gen), 8 GB DDR4 R...</td>\n",
       "      <td>i7</td>\n",
       "      <td>15.6 inch</td>\n",
       "    </tr>\n",
       "  </tbody>\n",
       "</table>\n",
       "</div>"
      ],
      "text/plain": [
       "                                   laptop_description processor display_inch\n",
       "0   Intel Core i5 Processor (9th Gen), 8 GB DDR4 R...        i5   15.65 inch\n",
       "1   Intel Core i3 Processor (2nd   Gen), 8 GB DDR4...        i3          NaN\n",
       "2   Intel Core i5 Processor (  10th Gen), 64 bit W...        i5    15.6 inch\n",
       "3   Intel Core i5 Processor (10th Gen ), 256 GB SS...        i5      14 inch\n",
       "4   Intel Core i3 Processor, 4 GB DDR4 RAM, 64 bit...        i3    15.6 inch\n",
       "5   Intel Core i3 Processor (10th Gen), 4 GB DDR4 ...        i3   15.65 inch\n",
       "6   Intel Core i5 Processor (10th Gen), 8 GB DDR4 ...        i5      14 inch\n",
       "7   Intel Core i5 Processor (10th Gen), 8 GB DDR4 ...        i5      14 inch\n",
       "8   Intel Core i3 Processor (10th Gen), 64 bit Win...        i3      14 inch\n",
       "9   Intel Core i5 Processor (10th Gen), 1 TB HDD, ...        i5    14.2 inch\n",
       "10  Intel Core i3 Processor (10th Gen), 4 GB DDR4 ...        i3      14 inch\n",
       "11  Intel Core i3 Processor (10th Gen), 4 GB DDR4 ...        i3    14.3 inch\n",
       "12  Intel Core i5 Processor (10th Gen), 8 GB DDR4 ...        i5      14 inch\n",
       "13  Intel Core i3 Processor (8th Gen), 8 GB DDR4 R...        i3    15.6 inch\n",
       "14  Intel Core i5 Processor (10th Gen), 8 GB DDR4 ...        i5      14 inch\n",
       "15  Intel Core i5 Processor (10th Gen), 8 GB DDR4 ...        i5    15.6 inch\n",
       "16  Intel Core i5 Processor (8th Gen), 8 GB DDR3 R...        i5    13.3 inch\n",
       "17  Intel Core i7 Processor (9th Gen), 8 GB DDR4 R...        i7    15.6 inch\n",
       "18  Intel Core i5 Processor (10th Gen), 8 GB DDR4 ...        i5    15.6 inch\n",
       "19  Intel Core i7 Processor (10th Gen), 8 GB DDR4 ...        i7    15.6 inch\n",
       "20  Intel Core i7 Processor (9th Gen), 8 GB DDR4 R...        i7    15.6 inch"
      ]
     },
     "execution_count": 8,
     "metadata": {},
     "output_type": "execute_result"
    }
   ],
   "source": [
    "df['processor'] = df['laptop_description'].str.extract(r'(\\bi[0-9]\\b)')\n",
    "df['display_inch'] = df['laptop_description'].str.extract(r'([0-9]{2}(\\.[0-9]{1,2})?\\s+inch)')[0]\n",
    "df"
   ]
  },
  {
   "cell_type": "markdown",
   "metadata": {},
   "source": [
    "### **Q3**: Corpus IDF\n",
    "\n",
    "Given an text corpus (in a Series), return a dictionary with keys as word and values as IDF values. Perform the following cleaning operations initially - Convert text to lower case, Remove all non-alpha-numeric characters.\n",
    "\n",
    "Note: It is always good to replace unnecessary characters with space and perform strip operation, rather than replacing with an empty string."
   ]
  },
  {
   "cell_type": "code",
   "execution_count": 31,
   "metadata": {},
   "outputs": [],
   "source": [
    "def corpus_idf(corpus):\n",
    "    '''Given a text corpus as Series, return a dictionary with keys as words and values as IDF values'''\n",
    "    split = corpus.str.split()\n",
    "    word_list = corpus.str.split().sum()\n",
    "    word_list = list(map(lambda x : re.compile('[^A-Za-z0-9]').sub(' ',x.lower()).strip(), word_list))\n",
    "    word_set = set(word_list)\n",
    "    idfs = {}\n",
    "    for word in word_set:\n",
    "        tf_list = []\n",
    "        for doc in split:\n",
    "            tf_list.append(word in doc)\n",
    "        idfs[word] = np.mean(tf_list)\n",
    "    del idfs['']\n",
    "    \n",
    "    return idfs"
   ]
  },
  {
   "cell_type": "code",
   "execution_count": 32,
   "metadata": {},
   "outputs": [],
   "source": [
    "reviews_df = pd.read_csv('data/musical_instruments_reviews.csv')\n",
    "idf_dict = corpus_idf(reviews_df['reviewText'])"
   ]
  },
  {
   "cell_type": "code",
   "execution_count": 33,
   "metadata": {},
   "outputs": [
    {
     "data": {
      "text/plain": [
       "True"
      ]
     },
     "execution_count": 33,
     "metadata": {},
     "output_type": "execute_result"
    }
   ],
   "source": [
    "isinstance(idf_dict, dict)"
   ]
  },
  {
   "cell_type": "code",
   "execution_count": 34,
   "metadata": {},
   "outputs": [
    {
     "data": {
      "text/plain": [
       "dict"
      ]
     },
     "execution_count": 34,
     "metadata": {},
     "output_type": "execute_result"
    }
   ],
   "source": [
    "type(idf_dict)"
   ]
  },
  {
   "cell_type": "code",
   "execution_count": 35,
   "metadata": {},
   "outputs": [
    {
     "data": {
      "text/plain": [
       "2223"
      ]
     },
     "execution_count": 35,
     "metadata": {},
     "output_type": "execute_result"
    }
   ],
   "source": [
    "#should be 2085\n",
    "len(idf_dict.keys())"
   ]
  },
  {
   "cell_type": "code",
   "execution_count": 36,
   "metadata": {},
   "outputs": [
    {
     "data": {
      "text/plain": [
       "0      Not much to write about here, but it does exac...\n",
       "1      The product does exactly as it should and is q...\n",
       "2      The primary job of this device is to block the...\n",
       "3      Nice windscreen protects my MXL mic and preven...\n",
       "4      This pop filter is great. It looks and perform...\n",
       "                             ...                        \n",
       "195    Good all around mike. If you are looking for a...\n",
       "196    Seriously?  The Shure SM57 sets the standard, ...\n",
       "197    If it's good enough to track Tom Petty's vox o...\n",
       "198    There's a reason every mic cabinet has at leas...\n",
       "199    I use this to mic snare drums and sometimes gu...\n",
       "Name: reviewText, Length: 200, dtype: object"
      ]
     },
     "execution_count": 36,
     "metadata": {},
     "output_type": "execute_result"
    }
   ],
   "source": [
    "df = pd.read_csv('data/musical_instruments_reviews.csv')\n",
    "df.head()\n",
    "corpus = df['reviewText']\n",
    "corpus"
   ]
  },
  {
   "cell_type": "code",
   "execution_count": 15,
   "metadata": {},
   "outputs": [],
   "source": [
    "## idf(word) = log(Total Documents / # docs the word is present)"
   ]
  },
  {
   "cell_type": "code",
   "execution_count": 16,
   "metadata": {},
   "outputs": [],
   "source": [
    "# Corpus cleaning before getting your vocabulary\n",
    "split = corpus.str.split()\n",
    "word_list = corpus.str.split().sum()\n",
    "word_list = list(map(lambda x : re.compile('[^A-Za-z0-9]').sub(' ',x.lower()).strip(), word_list))\n",
    "word_set = set(word_list)"
   ]
  },
  {
   "cell_type": "code",
   "execution_count": 37,
   "metadata": {},
   "outputs": [],
   "source": [
    "#word_set"
   ]
  },
  {
   "cell_type": "code",
   "execution_count": 18,
   "metadata": {},
   "outputs": [
    {
     "data": {
      "text/plain": [
       "2201"
      ]
     },
     "execution_count": 18,
     "metadata": {},
     "output_type": "execute_result"
    }
   ],
   "source": [
    "# calculate idf for each word\n",
    "    # loop through documents and determine if word is in them\n",
    "idfs = {}\n",
    "for word in word_set:\n",
    "    tf_list = []\n",
    "    for doc in split:\n",
    "        tf_list.append(word in doc)\n",
    "    idfs[word] = np.mean(tf_list)\n",
    "del idfs['']\n",
    "len(idfs)"
   ]
  },
  {
   "cell_type": "code",
   "execution_count": 95,
   "metadata": {},
   "outputs": [],
   "source": [
    "#idfs"
   ]
  },
  {
   "cell_type": "code",
   "execution_count": 96,
   "metadata": {},
   "outputs": [],
   "source": [
    "new_dict = {k:v for k,v in idfs.items() if v != 0}\n",
    "#new_dict"
   ]
  },
  {
   "cell_type": "code",
   "execution_count": null,
   "metadata": {},
   "outputs": [],
   "source": []
  }
 ],
 "metadata": {
  "kernelspec": {
   "display_name": "Python 3",
   "language": "python",
   "name": "python3"
  },
  "language_info": {
   "codemirror_mode": {
    "name": "ipython",
    "version": 3
   },
   "file_extension": ".py",
   "mimetype": "text/x-python",
   "name": "python",
   "nbconvert_exporter": "python",
   "pygments_lexer": "ipython3",
   "version": "3.9.1"
  }
 },
 "nbformat": 4,
 "nbformat_minor": 4
}
