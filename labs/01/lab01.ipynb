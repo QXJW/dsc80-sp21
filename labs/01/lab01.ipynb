{
 "cells": [
  {
   "cell_type": "markdown",
   "metadata": {},
   "source": [
    "# DSC 80: Lab 01\n",
    "\n",
    "### Due Date: Tuesday April 6, 11:59 PM"
   ]
  },
  {
   "cell_type": "markdown",
   "metadata": {},
   "source": [
    "## Instructions\n",
    "Much like in DSC 10, this Jupyter Notebook contains the statements of the problems and provides code and markdown cells to display your answers to the problems. Unlike DSC 10, the notebook is *only* for displaying a readable version of your final answers. The coding work will be developed in an accompanying `lab01.py` file, that will be imported into the current notebook.\n",
    "\n",
    "Labs and programming assignments will be graded in (at most) two ways:\n",
    "1. The functions and classes in the accompanying python file will be tested (a la DSC 20),\n",
    "2. The notebook will be graded (for graphs and free response questions).\n",
    "\n",
    "**Do not change the function names in the `*.py` file**\n",
    "- The functions in the `*.py` file are how your assignment is graded, and they are graded by their name. The dictionary at the end of the file (`GRADED FUNCTIONS`) contains the \"grading list\". The final function in the file allows your doctests to check that all the necessary functions exist.\n",
    "- If you changed something you weren't supposed to, just use git to revert!\n",
    "\n",
    "**Tips for working in the Notebook**:\n",
    "- The notebooks serve to present you the questions and give you a place to present your results for later review.\n",
    "- The notebook on *lab assignments* are not graded (only the `.py` file).\n",
    "- Notebooks for PAs will serve as a final report for the assignment, and contain conclusions and answers to open ended questions that are graded.\n",
    "- The notebook serves as a nice environment for 'pre-development' and experimentation before designing your function in your `.py` file.\n",
    "\n",
    "**Tips for developing in the .py file**:\n",
    "- Do not change the function names in the starter code; grading is done using these function names.\n",
    "- Do not change the docstrings in the functions. These are there to tell you if your work is on the right track!\n",
    "- You are encouraged to write your own additional functions to solve the lab! \n",
    "    - Developing in python usually consists of larger files, with many short functions.\n",
    "    - You may write your other functions in an additional `.py` file that you import in `lab01.py` (much like we do in the notebook).\n",
    "- Always document your code!"
   ]
  },
  {
   "cell_type": "markdown",
   "metadata": {},
   "source": [
    "### Importing code from `lab**.py`\n",
    "\n",
    "* We import our `.py` file that's contained in the same directory as this notebook.\n",
    "* We use the `autoreload` notebook extension to make changes to our `lab**.py` file immediately available in our notebook. Without this extension, we would need to restart the notebook kernel to see any changes to `lab**.py` in the notebook.\n",
    "    - `autoreload` is necessary because, upon import, `lab**.py` is compiled to bytecode (in the directory `__pycache__`). Subsequent imports of `lab**` merely import the existing compiled python."
   ]
  },
  {
   "cell_type": "code",
   "execution_count": 1,
   "metadata": {},
   "outputs": [],
   "source": [
    "%load_ext autoreload\n",
    "%autoreload 2"
   ]
  },
  {
   "cell_type": "code",
   "execution_count": 2,
   "metadata": {},
   "outputs": [],
   "source": [
    "import lab01 as lab"
   ]
  },
  {
   "cell_type": "code",
   "execution_count": 3,
   "metadata": {},
   "outputs": [],
   "source": [
    "import os\n",
    "import pandas as pd\n",
    "import numpy as np"
   ]
  },
  {
   "cell_type": "markdown",
   "metadata": {},
   "source": [
    "## Python Basics"
   ]
  },
  {
   "cell_type": "markdown",
   "metadata": {},
   "source": [
    "---\n",
    "**Question 0 (EXAMPLE):**\n",
    "\n",
    "Write a function that takes in a possibly empty list of integers and:\n",
    "* Returns `True` if there exist two adjacent list elements that are consecutive integers.\n",
    "* Otherwise, returns `False`.\n",
    "\n",
    "For example, because `9` is next to `8`:\n",
    "```\n",
    ">>> lab.consecutive_ints([5,3,6,4,9,8])\n",
    "True\n",
    "```\n",
    "Whereas:\n",
    "```\n",
    ">>> lab.consecutive_ints([1,3,5,7,9])\n",
    "False\n",
    "```\n",
    "\n",
    "*Note*: This question is done for you, to demonstrate a completed homework problem."
   ]
  },
  {
   "cell_type": "code",
   "execution_count": 4,
   "metadata": {},
   "outputs": [],
   "source": [
    "# Develop your code here (or in an IDE) if you'd like.\n",
    "# Though only code in lab01.py will be graded!\n",
    "def consecutive_ints(ints):\n",
    "    \"\"\"\n",
    "    consecutive_ints tests whether a list contains two \n",
    "    adjacent elements that are consecutive integers.\n",
    "    :param ints: a list of integers\n",
    "    :returns: a boolean value if ints contains two \n",
    "    adjacent elements that are consecutive integers.\n",
    "    :Example:\n",
    "    >>> consecutive_ints([5,3,6,4,9,8])\n",
    "    True\n",
    "    >>> consecutive_ints([1,3,5,7,9])\n",
    "    False\n",
    "    \"\"\"\n",
    "\n",
    "    if len(ints) == 0:\n",
    "        return False\n",
    "\n",
    "    for k in range(len(ints) - 1):\n",
    "        diff = abs(ints[k] - ints[k+1])\n",
    "        if diff == 1:\n",
    "            return True\n",
    "\n",
    "    return False"
   ]
  },
  {
   "cell_type": "code",
   "execution_count": 5,
   "metadata": {},
   "outputs": [],
   "source": [
    "# Add more cells if you'd like!"
   ]
  },
  {
   "cell_type": "markdown",
   "metadata": {},
   "source": [
    "Test your code in two ways:\n",
    "1. Run the cell below to test your code. You should also copy the cell and change the input to test further (i.e. write your own doctests)! Does it work for corner cases? Real-world data is **very messy** and you should expect your data processing code to break without thorough testing!\n",
    "2. Run doctests on `lab01.py` by running the following command on the commandline:\n",
    "```\n",
    "python -m doctest lab01.py\n",
    "```\n",
    "If the doctests pass, then there should be *no* output."
   ]
  },
  {
   "cell_type": "code",
   "execution_count": 6,
   "metadata": {},
   "outputs": [
    {
     "data": {
      "text/plain": [
       "True"
      ]
     },
     "execution_count": 6,
     "metadata": {},
     "output_type": "execute_result"
    }
   ],
   "source": [
    "# test your code!\n",
    "lab.consecutive_ints([1,3,2,4])"
   ]
  },
  {
   "cell_type": "code",
   "execution_count": 7,
   "metadata": {},
   "outputs": [
    {
     "data": {
      "text/plain": [
       "False"
      ]
     },
     "execution_count": 7,
     "metadata": {},
     "output_type": "execute_result"
    }
   ],
   "source": [
    "lab.consecutive_ints([0])"
   ]
  },
  {
   "cell_type": "code",
   "execution_count": 8,
   "metadata": {},
   "outputs": [
    {
     "data": {
      "text/plain": [
       "False"
      ]
     },
     "execution_count": 8,
     "metadata": {},
     "output_type": "execute_result"
    }
   ],
   "source": [
    "lab.consecutive_ints([])"
   ]
  },
  {
   "cell_type": "markdown",
   "metadata": {},
   "source": [
    "---\n",
    "**Question 1 (median and average):**\n",
    "\n",
    "Write a function called *median_vs_average* that takes a non-empty list of numbers and returns True if median is greater or equal than average and False otherwise. \n",
    "\n",
    "To find median: If the list has even length, it should calculate the mean of the two elements in the middle. Do not use any imported libraries for this question; you may use any built-in function.\n"
   ]
  },
  {
   "cell_type": "code",
   "execution_count": 9,
   "metadata": {},
   "outputs": [],
   "source": [
    "def median_vs_average(nums):\n",
    "    \"\"\"\n",
    "    median takes a non-empty list of numbers,\n",
    "    returning a boolean of whether the median is\n",
    "    greater or equal than the average\n",
    "    If the list has even length, it should return\n",
    "    the mean of the two elements in the middle.\n",
    "    :param nums: a non-empty list of numbers.\n",
    "    :returns: bool, whether median is greater or equal than average.\n",
    "    \n",
    "    :Example:\n",
    "    >>> median_vs_average([6, 5, 4, 3, 2])\n",
    "    True\n",
    "    >>> median_vs_average([50, 20, 15, 40])\n",
    "    False\n",
    "    >>> median_vs_average([1, 2, 3, 4])\n",
    "    True\n",
    "    \"\"\"\n",
    "    nums.sort()\n",
    "    mean = sum(nums) / len(nums)\n",
    "    half = len(nums) // 2\n",
    "\n",
    "    if len(nums) % 2 == 1:\n",
    "        median = nums[half]\n",
    "    else:\n",
    "        median = (nums[half-1] + nums[half]) / 2\n",
    "        \n",
    "    return median >= mean"
   ]
  },
  {
   "cell_type": "code",
   "execution_count": 10,
   "metadata": {},
   "outputs": [
    {
     "data": {
      "text/plain": [
       "True"
      ]
     },
     "execution_count": 10,
     "metadata": {},
     "output_type": "execute_result"
    }
   ],
   "source": [
    "median_vs_average([6, 5, 4, 3, 2])"
   ]
  },
  {
   "cell_type": "code",
   "execution_count": 11,
   "metadata": {},
   "outputs": [
    {
     "data": {
      "text/plain": [
       "False"
      ]
     },
     "execution_count": 11,
     "metadata": {},
     "output_type": "execute_result"
    }
   ],
   "source": [
    "median_vs_average([50, 20, 15, 40])"
   ]
  },
  {
   "cell_type": "code",
   "execution_count": 12,
   "metadata": {},
   "outputs": [
    {
     "data": {
      "text/plain": [
       "True"
      ]
     },
     "execution_count": 12,
     "metadata": {},
     "output_type": "execute_result"
    }
   ],
   "source": [
    "median_vs_average([1, 2, 3, 4])"
   ]
  },
  {
   "cell_type": "markdown",
   "metadata": {},
   "source": [
    "---\n",
    "**Question 2 (List Distances):**\n",
    "\n",
    "Similar to Question 0, write a function that takes in a possibly empty list of integers and:\n",
    "* Returns `True` if there exist two list elements $i$ places apart, whose distance as integers is also $i$.\n",
    "* Otherwise, returns `False`.\n",
    "\n",
    "Assume your inputs tend to satisfy the condition, and the pair(s) saitifying the condition tend to be close together; design your function to run faster for this case. (Optimizing your code for an assumed distribution of incoming data is very common in data science).\n",
    "\n",
    "For example, because `3` and (the second) `5` are two places apart, and $|3-5| = 2$:\n",
    "```\n",
    ">>> lab.same_diff_ints([5,3,1,5,9,8])\n",
    "True\n",
    "```\n",
    "Whereas:\n",
    "```\n",
    ">>> lab.same_diff_ints([1,3,5,7,9])\n",
    "False\n",
    "```\n",
    "\n",
    "*Note*: Make sure to define some extreme test cases. Use the `%time` command to time your function!"
   ]
  },
  {
   "cell_type": "code",
   "execution_count": 13,
   "metadata": {},
   "outputs": [],
   "source": [
    "def same_diff_ints(ints):\n",
    "    \"\"\"\n",
    "    same_diff_ints tests whether a list contains\n",
    "    two list elements i places apart, whose distance \n",
    "    as integers is also i.\n",
    "    :param ints: a list of integers\n",
    "    :returns: a boolean value if ints contains two \n",
    "    elements as described above.\n",
    "    :Example:\n",
    "    >>> same_diff_ints([5,3,1,5,9,8])\n",
    "    True\n",
    "    >>> same_diff_ints([1,3,5,7,9])\n",
    "    False\n",
    "    \"\"\"\n",
    "    if len(ints) == 0:\n",
    "        return False\n",
    "    \n",
    "    for i in range(1, len(ints)):\n",
    "        for j in range(len(ints)):\n",
    "            if i+j >= len(ints):\n",
    "                break\n",
    "            else:\n",
    "                if abs(i-j) == abs(ints[i]-ints[j]):\n",
    "                    return True\n",
    "   \n",
    "    return False"
   ]
  },
  {
   "cell_type": "code",
   "execution_count": 14,
   "metadata": {},
   "outputs": [
    {
     "data": {
      "text/plain": [
       "True"
      ]
     },
     "execution_count": 14,
     "metadata": {},
     "output_type": "execute_result"
    }
   ],
   "source": [
    "same_diff_ints([5,3,1,5,9,8])"
   ]
  },
  {
   "cell_type": "code",
   "execution_count": 15,
   "metadata": {},
   "outputs": [
    {
     "data": {
      "text/plain": [
       "True"
      ]
     },
     "execution_count": 15,
     "metadata": {},
     "output_type": "execute_result"
    }
   ],
   "source": [
    "same_diff_ints([1,3,5,7,9])"
   ]
  },
  {
   "cell_type": "code",
   "execution_count": 16,
   "metadata": {},
   "outputs": [
    {
     "name": "stdout",
     "output_type": "stream",
     "text": [
      "Wall time: 0 ns\n"
     ]
    },
    {
     "data": {
      "text/plain": [
       "True"
      ]
     },
     "execution_count": 16,
     "metadata": {},
     "output_type": "execute_result"
    }
   ],
   "source": [
    "%time lab.same_diff_ints([5,3,1,5,9,8])"
   ]
  },
  {
   "cell_type": "markdown",
   "metadata": {},
   "source": [
    "---\n",
    "## Strings and Files\n",
    "\n",
    "The following questions will help you (re)learn the basics of working with strings and reading data from files (which are read in as strings, by default)."
   ]
  },
  {
   "cell_type": "markdown",
   "metadata": {},
   "source": [
    "---\n",
    "**Question 3 (N Prefixes):**\n",
    "\n",
    "Write a function `n_prefixes` that takes a string and a positive interger `n`. It returns a string of the first `n` number consecutive prefixes of the input string in reverse order. For example, `n_prefixes('Data!', 3)` should return `'DatDaD'`.  (See the doctests for more examples).\n",
    "\n",
    "Recall that [strings may be sliced](https://docs.python.org/3/tutorial/introduction.html#strings), like lists.\n"
   ]
  },
  {
   "cell_type": "code",
   "execution_count": 17,
   "metadata": {},
   "outputs": [],
   "source": [
    "def n_prefixes(s, n):\n",
    "    \"\"\"\n",
    "    n_prefixes returns a string of n\n",
    "    consecutive prefix of the input string.\n",
    "\n",
    "    :param s: a string.\n",
    "    :param n: an integer\n",
    "\n",
    "    :returns: a string of n consecutive prefixes of s backwards.\n",
    "    :Example:\n",
    "    >>> n_prefixes('Data!', 3)\n",
    "    'DatDaD'\n",
    "    >>> n_prefixes('Marina', 4)\n",
    "    'MariMarMaM'\n",
    "    >>> n_prefixes('aaron', 2)\n",
    "    'aaa'\n",
    "    \"\"\"\n",
    "    return_str = ''\n",
    "    \n",
    "    if len(s) == 0:\n",
    "        return\n",
    "    \n",
    "    while n > 0:\n",
    "        return_str += s[:n]\n",
    "        n -= 1\n",
    "    return return_str"
   ]
  },
  {
   "cell_type": "code",
   "execution_count": 18,
   "metadata": {},
   "outputs": [
    {
     "data": {
      "text/plain": [
       "'DatDaD'"
      ]
     },
     "execution_count": 18,
     "metadata": {},
     "output_type": "execute_result"
    }
   ],
   "source": [
    "n_prefixes('Data!', 3)"
   ]
  },
  {
   "cell_type": "code",
   "execution_count": 19,
   "metadata": {},
   "outputs": [
    {
     "data": {
      "text/plain": [
       "'MariMarMaM'"
      ]
     },
     "execution_count": 19,
     "metadata": {},
     "output_type": "execute_result"
    }
   ],
   "source": [
    "n_prefixes('Marina', 4)"
   ]
  },
  {
   "cell_type": "markdown",
   "metadata": {},
   "source": [
    "---\n",
    "**Question 4 (Exploded numbers):**  \n",
    "\n",
    "Write a function `exploded_numbers` that takes in a list of integers and a non-negative integer $N$ and returns a list of strings containing numbers from the list expanded by N digits to both directions, separated by spaces.\n",
    "\n",
    "Additionally, [zero pad](https://www.tutorialspoint.com/python/string_zfill.htm) each integer, so that each has the same length.\n",
    "\n",
    "For example:\n",
    "\n",
    "```\n",
    ">>> lab.exploded_numbers([3, 4], 2)\n",
    "['1 2 3 4 5', '2 3 4 5 6']\n",
    ">>> lab.exploded_numbers([3, 8, 15], 2)\n",
    "['01 02 03 04 05', '06 07 08 09 10', '13 14 15 16 17']\n",
    "```\n",
    "\n",
    "**Note**: you can assume that negative numbers will never be encountered. That is, when testing your code, we will never explode a number so much that it goes negative."
   ]
  },
  {
   "cell_type": "code",
   "execution_count": 55,
   "metadata": {},
   "outputs": [],
   "source": [
    "def exploded_numbers(ints, n):\n",
    "    \"\"\"\n",
    "    exploded_numbers returns a list of strings of numbers from the\n",
    "    input array each exploded by n.\n",
    "    Each integer is zero padded.\n",
    "\n",
    "    :param ints: a list of integers.\n",
    "    :param n: a non-negative integer.\n",
    "\n",
    "    :returns: a list of strings of exploded numbers. \n",
    "    :Example:\n",
    "    >>> exploded_numbers([3, 4], 2) \n",
    "    ['1 2 3 4 5', '2 3 4 5 6']\n",
    "    >>> exploded_numbers([3, 8, 15], 2)\n",
    "    ['01 02 03 04 05', '06 07 08 09 10', '13 14 15 16 17']\n",
    "    \"\"\"\n",
    "    new_list = [x + n for x in ints]  # create list where n is added to all elements of ints\n",
    "    fillcount = len(str(max(new_list)))  # find maximum digit count of list for zfill\n",
    "\n",
    "    explode_lst = []\n",
    "    for x in ints:\n",
    "        seq_str = ''\n",
    "        for y in range(x - n, x + n + 1):\n",
    "            seq_str += str(y).zfill(fillcount) + ' '\n",
    "        explode_lst.append(seq_str[:-1])\n",
    "\n",
    "    return explode_lst"
   ]
  },
  {
   "cell_type": "code",
   "execution_count": 56,
   "metadata": {},
   "outputs": [
    {
     "data": {
      "text/plain": [
       "['1 2 3 4 5', '2 3 4 5 6']"
      ]
     },
     "execution_count": 56,
     "metadata": {},
     "output_type": "execute_result"
    }
   ],
   "source": [
    "exploded_numbers([3, 4], 2)"
   ]
  },
  {
   "cell_type": "code",
   "execution_count": 57,
   "metadata": {},
   "outputs": [
    {
     "data": {
      "text/plain": [
       "['01 02 03 04 05', '06 07 08 09 10', '13 14 15 16 17']"
      ]
     },
     "execution_count": 57,
     "metadata": {},
     "output_type": "execute_result"
    }
   ],
   "source": [
    "exploded_numbers([3, 8, 15], 2)"
   ]
  },
  {
   "cell_type": "code",
   "execution_count": 58,
   "metadata": {},
   "outputs": [
    {
     "data": {
      "text/plain": [
       "['-12 -11 -10 -9 -8', '-7 -6 -5 -4 -3', '03 04 05 06 07', '08 09 10 11 12']"
      ]
     },
     "execution_count": 58,
     "metadata": {},
     "output_type": "execute_result"
    }
   ],
   "source": [
    "exploded_numbers([-10,-5,5,10],2)"
   ]
  },
  {
   "cell_type": "markdown",
   "metadata": {},
   "source": [
    "---\n",
    "\n",
    "[Recall](https://docs.python.org/3/tutorial/inputoutput.html#reading-and-writing-files) that the built-in function `open` takes in a file path and returns *a file object* (sometimes called a *file handle*). Below are a few properties of file objects:\n",
    "\n",
    "* `open(path)` opens the file at location `path` for reading.\n",
    "* `open(path)` is an *iterable*, which contains successive lines of the file.\n",
    "* Once a file object is opened, after use it should be closed to avoid memory leaks. To ensure a file is closed once done, you should use a *context manager* as follows:\n",
    "```\n",
    "with open(path) as fh:\n",
    "    for line in fh:\n",
    "        process_line(line)\n",
    "```\n",
    "* To read the entire file into a string, use the read method:\n",
    "```\n",
    "with open(path) as fh:\n",
    "    s = fh.read()\n",
    "```\n",
    "However, you should be careful when reading an entire file into memory that the file isn't too big! *You should avoid this whenever possible!*\n",
    "\n",
    "**Question 5 (Reading Files):**\n",
    "\n",
    "Create a function `last_chars` that takes a file object and returns a string consisting of the last character of each line.\n",
    "\n",
    "*Remark:* A newline is the \"delimiter\" of the lines of a file, and doesn't count as part of the line (as the tests imply). Every other character is part of the line. For more info on this, see [the interpretation](https://en.wikipedia.org/wiki/Newline#Interpretation) of files as a 'newline delimited variables' file.\n",
    "\n"
   ]
  },
  {
   "cell_type": "code",
   "execution_count": 24,
   "metadata": {},
   "outputs": [],
   "source": [
    "def last_chars(fh):\n",
    "    \"\"\"\n",
    "    last_chars takes a file object and returns a \n",
    "    string consisting of the last character of the line.\n",
    "    :param fh: a file object to read from.\n",
    "    :returns: a string of last characters from fh\n",
    "    :Example:\n",
    "    >>> fp = os.path.join('data', 'chars.txt')\n",
    "    >>> last_chars(open(fp))\n",
    "    'hrg'\n",
    "    \"\"\"\n",
    "    read_data = fh.readlines()\n",
    "    return_str = ''\n",
    "    for line in read_data:\n",
    "        if len(line.strip('\\n')) > 0:\n",
    "            return_str += line.strip('\\n')[-1]\n",
    "    fh.close()\n",
    "    return return_str"
   ]
  },
  {
   "cell_type": "code",
   "execution_count": 25,
   "metadata": {},
   "outputs": [
    {
     "data": {
      "text/plain": [
       "'hrg'"
      ]
     },
     "execution_count": 25,
     "metadata": {},
     "output_type": "execute_result"
    }
   ],
   "source": [
    "fp = os.path.join('data', 'chars.txt')\n",
    "last_chars(open(fp))"
   ]
  },
  {
   "cell_type": "markdown",
   "metadata": {},
   "source": [
    "## numpy exercises\n",
    "\n",
    "For an introduction to arrays and numpy recall the relevant section of DSC 10."
   ]
  },
  {
   "cell_type": "markdown",
   "metadata": {},
   "source": [
    "**Question 6 (Basic Arrays):**\n",
    "\n",
    "Create the following functions using `numpy` methods satisfying the requirements given in each part. Your solutions should **not** contain any loops or list comprehensions.\n",
    "\n",
    "* A function `arr_1` that takes in a `numpy` array and adds to each element the square-root of the index of each element.\n",
    "\n",
    "* A function `arr_2` that takes in a `numpy` array of integers and returns a boolean array (i.e. an array of booleans) whose `ith` element is `True` if and only if the `ith` element of the input array is a perfect square.\n",
    "\n",
    "* A function `arr_3` that takes in a `numpy` array of [stock prices](https://en.wikipedia.org/wiki/Stock) per share on successive days in USD and returns an array of growth rates. That is, the `ith` number of the output array should contain the rate of growth in stock price between the $i^{th}$ day to the $(i+1)^{th}$ day. The growth rate should be a proportion, rounded to the nearest hundredth.\n",
    "\n",
    "* Suppose:\n",
    "    - `A` is a `numpy` array of [stock prices](https://en.wikipedia.org/wiki/Stock) per share for a company on successive days in USD \n",
    "    - You start each day with \\\\$20 to buy as much stock as possible on that day. \n",
    "    - Any money left-over after a given day is saved for possibly buying stock on a future day. \n",
    "    - Create a function `arr_4` that takes in `A` and returns the day on which you can buy at least one share from 'left-over' money. If this never happens, return `-1`. The first stock purchase occurs on day 0. *Note: you cannot buy fractions of a share of stock*.\n",
    "    \n",
    "    - *Example:* If the stock price is \\\\$3 every day, then the answer is 'day 1':\n",
    "        - day 0: buy six stocks with \\\\$20, \\\\$2 are added to the leftover, and your total leftover is currently \\\\$2,  so you can't buy one extra share\n",
    "        - day 1: buy six stocks with \\\\$20, another \\\\$2 are added to the leftover, and your total leftover is now \\\\$4, so you can now buy one extra share, return day1.\n",
    "    - Hint: `np.cumsum` may be helpful for this question"
   ]
  },
  {
   "cell_type": "code",
   "execution_count": 26,
   "metadata": {},
   "outputs": [],
   "source": [
    "fp = os.path.join('data', 'stocks.csv')\n",
    "stocks = np.array([float(x) for x in open(fp)])"
   ]
  },
  {
   "cell_type": "code",
   "execution_count": 27,
   "metadata": {},
   "outputs": [],
   "source": [
    "def arr_1(A):\n",
    "    \"\"\"\n",
    "    arr_1 takes in a numpy array and\n",
    "    adds to each element the square-root of\n",
    "    the index of each element.\n",
    "    :param A: a 1d numpy array.\n",
    "    :returns: a 1d numpy array.\n",
    "    :Example:\n",
    "    >>> A = np.array([2, 4, 6, 7])\n",
    "    >>> out = arr_1(A)\n",
    "    >>> isinstance(out, np.ndarray)\n",
    "    True\n",
    "    >>> np.all(out >= A)\n",
    "    True\n",
    "    \"\"\"\n",
    "    sqrt_indices = np.sqrt(np.arange(len(A)))\n",
    "    return A + sqrt_indices"
   ]
  },
  {
   "cell_type": "code",
   "execution_count": 28,
   "metadata": {},
   "outputs": [
    {
     "data": {
      "text/plain": [
       "array([2.        , 5.        , 7.41421356, 8.73205081])"
      ]
     },
     "execution_count": 28,
     "metadata": {},
     "output_type": "execute_result"
    }
   ],
   "source": [
    "A = np.array([2, 4, 6, 7])\n",
    "out = arr_1(A)\n",
    "out"
   ]
  },
  {
   "cell_type": "code",
   "execution_count": 29,
   "metadata": {},
   "outputs": [
    {
     "data": {
      "text/plain": [
       "True"
      ]
     },
     "execution_count": 29,
     "metadata": {},
     "output_type": "execute_result"
    }
   ],
   "source": [
    "isinstance(out, np.ndarray)"
   ]
  },
  {
   "cell_type": "code",
   "execution_count": 30,
   "metadata": {},
   "outputs": [
    {
     "data": {
      "text/plain": [
       "True"
      ]
     },
     "execution_count": 30,
     "metadata": {},
     "output_type": "execute_result"
    }
   ],
   "source": [
    "np.all(out >= A)"
   ]
  },
  {
   "cell_type": "code",
   "execution_count": 31,
   "metadata": {},
   "outputs": [],
   "source": [
    "def arr_2(A):\n",
    "    \"\"\"\n",
    "    arr_2 takes in a numpy array of integers\n",
    "    and returns a boolean array (i.e. an array of booleans)\n",
    "    whose ith element is True if and only if the ith element\n",
    "    of the input array is a perfect square.\n",
    "    :param A: a 1d numpy array.\n",
    "    :returns: a 1d numpy boolean array.\n",
    "    :Example:\n",
    "    >>> out = arr_2(np.array([1, 2, 16, 17, 32, 49]))\n",
    "    >>> isinstance(out, np.ndarray)\n",
    "    True\n",
    "    >>> out.dtype == np.dtype('bool')\n",
    "    True\n",
    "    \"\"\"\n",
    "    sqrts = np.sqrt(A)\n",
    "    return sqrts % 1 == 0"
   ]
  },
  {
   "cell_type": "code",
   "execution_count": 32,
   "metadata": {},
   "outputs": [
    {
     "data": {
      "text/plain": [
       "array([ True, False,  True, False, False,  True])"
      ]
     },
     "execution_count": 32,
     "metadata": {},
     "output_type": "execute_result"
    }
   ],
   "source": [
    "out = arr_2(np.array([1, 2, 16, 17, 32, 49]))\n",
    "out"
   ]
  },
  {
   "cell_type": "code",
   "execution_count": 33,
   "metadata": {},
   "outputs": [
    {
     "data": {
      "text/plain": [
       "True"
      ]
     },
     "execution_count": 33,
     "metadata": {},
     "output_type": "execute_result"
    }
   ],
   "source": [
    "out.dtype == np.dtype('bool')"
   ]
  },
  {
   "cell_type": "code",
   "execution_count": 34,
   "metadata": {},
   "outputs": [],
   "source": [
    "def arr_3(A):\n",
    "    \"\"\"\n",
    "    arr_3 takes in a numpy array of stock\n",
    "    prices per share on successive days in\n",
    "    USD and returns an array of growth rates.\n",
    "    :param A: a 1d numpy array.\n",
    "    :returns: a 1d numpy array.\n",
    "    :Example:\n",
    "    >>> fp = os.path.join('data', 'stocks.csv')\n",
    "    >>> stocks = np.array([float(x) for x in open(fp)])\n",
    "    >>> out = arr_3(stocks)\n",
    "    >>> isinstance(out, np.ndarray)\n",
    "    True\n",
    "    >>> out.dtype == np.dtype('float')\n",
    "    True\n",
    "    >>> out.max() == 0.03\n",
    "    True\n",
    "    \"\"\"\n",
    "\n",
    "    return np.round(np.diff(A)/np.delete(A, A.size-1),2)"
   ]
  },
  {
   "cell_type": "code",
   "execution_count": 35,
   "metadata": {},
   "outputs": [
    {
     "data": {
      "text/plain": [
       "array([-0.  ,  0.01, -0.01,  0.  ,  0.  , -0.  ,  0.02,  0.01,  0.02,\n",
       "        0.01,  0.01,  0.  ,  0.  ,  0.01, -0.  , -0.01, -0.  ,  0.  ,\n",
       "       -0.01,  0.01,  0.  , -0.  ,  0.02,  0.  ,  0.01, -0.  ,  0.  ,\n",
       "        0.01, -0.02,  0.01,  0.  , -0.01,  0.01,  0.  , -0.  , -0.01,\n",
       "        0.01,  0.03, -0.01, -0.  ,  0.01,  0.01,  0.  ,  0.  , -0.  ,\n",
       "        0.01,  0.01, -0.  ,  0.  ,  0.02, -0.01, -0.01,  0.01, -0.01,\n",
       "        0.01,  0.02, -0.01, -0.01, -0.  ,  0.01,  0.  , -0.  ,  0.  ,\n",
       "        0.01, -0.  ,  0.01, -0.  ,  0.01,  0.01,  0.01, -0.  , -0.  ,\n",
       "        0.01,  0.  ,  0.  ,  0.02, -0.02, -0.  ,  0.01,  0.  ,  0.01,\n",
       "        0.01, -0.  , -0.02, -0.01, -0.01, -0.01, -0.01,  0.  ,  0.01,\n",
       "        0.01,  0.01, -0.  ,  0.  , -0.  , -0.01,  0.01,  0.01,  0.  ])"
      ]
     },
     "execution_count": 35,
     "metadata": {},
     "output_type": "execute_result"
    }
   ],
   "source": [
    "fp = os.path.join('data', 'stocks.csv')\n",
    "stocks = np.array([float(x) for x in open(fp)])\n",
    "out = arr_3(stocks)\n",
    "out"
   ]
  },
  {
   "cell_type": "code",
   "execution_count": 36,
   "metadata": {},
   "outputs": [
    {
     "data": {
      "text/plain": [
       "True"
      ]
     },
     "execution_count": 36,
     "metadata": {},
     "output_type": "execute_result"
    }
   ],
   "source": [
    "isinstance(out, np.ndarray)"
   ]
  },
  {
   "cell_type": "code",
   "execution_count": 37,
   "metadata": {},
   "outputs": [
    {
     "data": {
      "text/plain": [
       "True"
      ]
     },
     "execution_count": 37,
     "metadata": {},
     "output_type": "execute_result"
    }
   ],
   "source": [
    "out.dtype == np.dtype('float')"
   ]
  },
  {
   "cell_type": "code",
   "execution_count": 38,
   "metadata": {},
   "outputs": [
    {
     "data": {
      "text/plain": [
       "True"
      ]
     },
     "execution_count": 38,
     "metadata": {},
     "output_type": "execute_result"
    }
   ],
   "source": [
    "out.max() == 0.03"
   ]
  },
  {
   "cell_type": "code",
   "execution_count": 39,
   "metadata": {},
   "outputs": [],
   "source": [
    "def arr_4(A):\n",
    "    \"\"\"\n",
    "    Create a function arr_4 that takes in A and \n",
    "    returns the day on which you can buy at least \n",
    "    one share from 'left-over' money. If this never \n",
    "    happens, return -1. The first stock purchase occurs on day 0\n",
    "    :param A: a 1d numpy array of stock prices.\n",
    "    :returns: the day on which you can buy at least one share from 'left-over' money\n",
    "    :Example:\n",
    "    >>> import numbers\n",
    "    >>> stocks = np.array([3, 3, 3, 3])\n",
    "    >>> out = arr_4(stocks)\n",
    "    >>> isinstance(out, numbers.Integral)\n",
    "    True\n",
    "    >>> out == 1\n",
    "    True\n",
    "    \"\"\"\n",
    "\n",
    "    daily_rem = 20 % A\n",
    "    cumsum = np.cumsum(daily_rem)\n",
    "    bool_list = list(cumsum > A)\n",
    "    return bool_list.index(next(filter(lambda i: i != 0, bool_list)))"
   ]
  },
  {
   "cell_type": "code",
   "execution_count": 40,
   "metadata": {},
   "outputs": [
    {
     "data": {
      "text/plain": [
       "1"
      ]
     },
     "execution_count": 40,
     "metadata": {},
     "output_type": "execute_result"
    }
   ],
   "source": [
    "import numbers\n",
    "stocks = np.array([3, 3, 3, 3])\n",
    "out = arr_4(stocks)\n",
    "out"
   ]
  },
  {
   "cell_type": "code",
   "execution_count": 41,
   "metadata": {},
   "outputs": [
    {
     "data": {
      "text/plain": [
       "True"
      ]
     },
     "execution_count": 41,
     "metadata": {},
     "output_type": "execute_result"
    }
   ],
   "source": [
    "isinstance(out, numbers.Integral)"
   ]
  },
  {
   "cell_type": "code",
   "execution_count": 42,
   "metadata": {},
   "outputs": [
    {
     "data": {
      "text/plain": [
       "True"
      ]
     },
     "execution_count": 42,
     "metadata": {},
     "output_type": "execute_result"
    }
   ],
   "source": [
    "out == 1"
   ]
  },
  {
   "cell_type": "markdown",
   "metadata": {},
   "source": [
    "---\n",
    "## Getting Started with Pandas\n",
    "\n",
    "The following questions will help you get comfortable with Pandas. These questions are similar to questions on tables in DSC 10; review the [textbook](https://www.inferentialthinking.com) as necessary. As always for Pandas questions:\n",
    "1. Avoid writing loops through the rows of the dataset to do the problem, and\n",
    "2. Test the output/correctness of your code with the help of the dataset given, but be sure your code will also run on data \"like\" the dataset given (sampling rows using the `.sample` method is useful for this!).\n",
    "\n",
    "**Question 7 (Pandas basics):**   \n",
    "\n",
    "Read in the file `salary.csv` in the `data` directory which contains the salary information for the 2017-2018 NBA season and understand the dataset by answering the following questions. To do this, create a function `salary_stats` that takes in a dataframe like `salary` and returns a series containing the following statistics:\n",
    "* The number of players (`num_players`).\n",
    "* The number of teams (`num_teams`).\n",
    "* The total salary amount over the season (`total_salary`).\n",
    "* The name of the player with the highest salary; there are no ties (`highest_salary`).\n",
    "* The average salary of the Boston Celtics ('BOS'), rounded to the nearest hundredth (`avg_bos`).\n",
    "* The name of player and the name of the team whose salary is the third-lowest, separated by a comma and a space (e.g. John Doe, MIA); if there are ties, return the first based on alphabetical order (`third_lowest`).\n",
    "* Whether there are any duplicate last names (True: yes, False: no), as a boolean (`duplicates`).\n",
    "* The total salary of the team that has the highest paid player (`total_highest`).\n",
    "\n",
    "The index of the output series are given in parenthesis above.\n",
    "\n",
    "*Note*: Your function should work on a dataset of the same format that contains information from other years. You may assume that none of the answers involving ranking returns a tie.\n",
    "\n",
    "*Note*: To make sure your function still runs, in the event that one of the 8 parts throws an exception (e.g. due to a very incorrect answer), use `Try... Except...` structures. Here's a useful link: https://www.w3schools.com/python/python_try_except.asp"
   ]
  },
  {
   "cell_type": "code",
   "execution_count": 43,
   "metadata": {},
   "outputs": [],
   "source": [
    "salary_fp = os.path.join('data', 'salary.csv')\n",
    "salary = pd.read_csv(salary_fp)"
   ]
  },
  {
   "cell_type": "code",
   "execution_count": 44,
   "metadata": {},
   "outputs": [
    {
     "data": {
      "text/html": [
       "<div>\n",
       "<style scoped>\n",
       "    .dataframe tbody tr th:only-of-type {\n",
       "        vertical-align: middle;\n",
       "    }\n",
       "\n",
       "    .dataframe tbody tr th {\n",
       "        vertical-align: top;\n",
       "    }\n",
       "\n",
       "    .dataframe thead th {\n",
       "        text-align: right;\n",
       "    }\n",
       "</style>\n",
       "<table border=\"1\" class=\"dataframe\">\n",
       "  <thead>\n",
       "    <tr style=\"text-align: right;\">\n",
       "      <th></th>\n",
       "      <th>Player</th>\n",
       "      <th>Team</th>\n",
       "      <th>Salary</th>\n",
       "    </tr>\n",
       "  </thead>\n",
       "  <tbody>\n",
       "    <tr>\n",
       "      <th>0</th>\n",
       "      <td>A.J. Hammons</td>\n",
       "      <td>MIA</td>\n",
       "      <td>1312611.0</td>\n",
       "    </tr>\n",
       "    <tr>\n",
       "      <th>1</th>\n",
       "      <td>Aaron Brooks</td>\n",
       "      <td>MIN</td>\n",
       "      <td>2116955.0</td>\n",
       "    </tr>\n",
       "    <tr>\n",
       "      <th>2</th>\n",
       "      <td>Aaron Gordon</td>\n",
       "      <td>ORL</td>\n",
       "      <td>5504420.0</td>\n",
       "    </tr>\n",
       "    <tr>\n",
       "      <th>3</th>\n",
       "      <td>Aaron Gray</td>\n",
       "      <td>DET</td>\n",
       "      <td>452059.0</td>\n",
       "    </tr>\n",
       "    <tr>\n",
       "      <th>4</th>\n",
       "      <td>Abdel Nader</td>\n",
       "      <td>BOS</td>\n",
       "      <td>1167333.0</td>\n",
       "    </tr>\n",
       "  </tbody>\n",
       "</table>\n",
       "</div>"
      ],
      "text/plain": [
       "         Player Team     Salary\n",
       "0  A.J. Hammons  MIA  1312611.0\n",
       "1  Aaron Brooks  MIN  2116955.0\n",
       "2  Aaron Gordon  ORL  5504420.0\n",
       "3    Aaron Gray  DET   452059.0\n",
       "4   Abdel Nader  BOS  1167333.0"
      ]
     },
     "execution_count": 44,
     "metadata": {},
     "output_type": "execute_result"
    }
   ],
   "source": [
    "salary.head()"
   ]
  },
  {
   "cell_type": "code",
   "execution_count": 53,
   "metadata": {},
   "outputs": [],
   "source": [
    "def salary_stats(salary):\n",
    "    \"\"\"\n",
    "    salary_stats returns a series as specified in the notebook.\n",
    "    :param salary: a dataframe of NBA salaries as found in `salary.csv`\n",
    "    :return: a series with index specified in the notebook.\n",
    "    :Example:\n",
    "    >>> salary_fp = os.path.join('data', 'salary.csv')\n",
    "    >>> salary = pd.read_csv(salary_fp)\n",
    "    >>> out = salary_stats(salary)\n",
    "    >>> isinstance(out, pd.Series)\n",
    "    True\n",
    "    >>> 'total_highest' in out.index\n",
    "    True\n",
    "    >>> isinstance(out.loc['duplicates'], bool)\n",
    "    True\n",
    "    \"\"\"\n",
    "    try:\n",
    "        NumPlayers = len(salary.index)\n",
    "    except:\n",
    "        print('an exception has occurred with NumPlayers')\n",
    "    try:\n",
    "        NumTeams = len(pd.unique(salary['Team']))\n",
    "    except:\n",
    "        print('an exception has occurred with NumTeams')\n",
    "        \n",
    "    try:\n",
    "        TotalSalary = salary['Salary'].sum()\n",
    "    except:\n",
    "        print('an exception has occurred with TotalSalary')\n",
    "    \n",
    "    try:\n",
    "        HighestSalaryAmount = salary['Salary'].max()\n",
    "        HighestSalary = salary.loc[(salary.Salary == HighestSalaryAmount)]['Player'].item()\n",
    "    except:\n",
    "        print('an exception has occurred with HighestSalary')\n",
    "    \n",
    "    try:\n",
    "        AvgBos = round(salary.loc[(salary.Team == \"BOS\")].Salary.mean(), 2)\n",
    "    except:\n",
    "        print('an exception has occurred with AvgBos')\n",
    "        \n",
    "    try:\n",
    "        ThirdLowest = salary.sort_values(ascending=True,by='Salary').iloc[2]['Player'] + ', ' + salary.sort_values(ascending=True,by='Salary').iloc[2]['Team']\n",
    "    except:\n",
    "        print('an exception has occurred with ThirdLowest')\n",
    "        \n",
    "    try:\n",
    "        last_names = []\n",
    "        for i in range(len(salary['Player'])):\n",
    "            last_names.append(salary['Player'].iloc[i].split(' ')[1])\n",
    "        Duplicates = len(salary['Player']) == len(last_names)\n",
    "    except:\n",
    "        print('an exception has occurred with Duplicates')\n",
    "    \n",
    "    try:\n",
    "        highest_team = salary.sort_values(ascending=False,by='Salary').loc[salary.Player ==HighestSalary].iloc[0]['Team']\n",
    "        TotalHighest = salary.loc[(salary.Team == highest_team)]['Salary'].sum()\n",
    "    except:\n",
    "        print('an exception has occurred with TotalHighest')\n",
    "    \n",
    "    output = {'num_players':NumPlayers, 'num_teams':NumTeams, 'total_salary':TotalSalary, 'highest_salary':HighestSalary, 'avg_bos':AvgBos, 'third_lowest':ThirdLowest, 'duplicates':Duplicates, 'total_highest':TotalHighest}\n",
    "    return pd.Series(output)"
   ]
  },
  {
   "cell_type": "code",
   "execution_count": 54,
   "metadata": {},
   "outputs": [
    {
     "data": {
      "text/plain": [
       "num_players                     573\n",
       "num_teams                        30\n",
       "total_salary           3357175993.0\n",
       "highest_salary        Stephen Curry\n",
       "avg_bos                  6765291.88\n",
       "third_lowest      Axel Toupane, NOP\n",
       "duplicates                     True\n",
       "total_highest           137494845.0\n",
       "dtype: object"
      ]
     },
     "execution_count": 54,
     "metadata": {},
     "output_type": "execute_result"
    }
   ],
   "source": [
    "out = salary_stats(salary)\n",
    "out"
   ]
  },
  {
   "cell_type": "code",
   "execution_count": 47,
   "metadata": {},
   "outputs": [
    {
     "data": {
      "text/plain": [
       "True"
      ]
     },
     "execution_count": 47,
     "metadata": {},
     "output_type": "execute_result"
    }
   ],
   "source": [
    "isinstance(out, pd.Series)"
   ]
  },
  {
   "cell_type": "code",
   "execution_count": 48,
   "metadata": {},
   "outputs": [
    {
     "data": {
      "text/plain": [
       "True"
      ]
     },
     "execution_count": 48,
     "metadata": {},
     "output_type": "execute_result"
    }
   ],
   "source": [
    "'total_highest' in out.index"
   ]
  },
  {
   "cell_type": "code",
   "execution_count": 49,
   "metadata": {},
   "outputs": [
    {
     "data": {
      "text/plain": [
       "True"
      ]
     },
     "execution_count": 49,
     "metadata": {},
     "output_type": "execute_result"
    }
   ],
   "source": [
    "isinstance(out.loc['duplicates'], bool)"
   ]
  },
  {
   "cell_type": "markdown",
   "metadata": {},
   "source": [
    "---\n",
    "\n",
    "## CSV Files\n",
    "**Question 8 (Reading malformed csv files):**\n",
    "\n",
    "`malformed.csv` contains a file of comma-separated values, containing the following fields:\n",
    "\n",
    "\n",
    "|column name|description|type|\n",
    "|---|---|---|\n",
    "|first|first name of person|str|\n",
    "|last|last name of person|str|\n",
    "|weight|weight of person (lbs)|float|\n",
    "|height|height of person (in)|float|\n",
    "|geo|location of person; comma-separated latitude/longitude|str|\n",
    "\n",
    "Unfortunately, the entries contains errors that cause the Pandas `read_csv` function to fail parsing the file with the default settings. Instead, you must read in the file manually using Python's built-in `open` function.\n",
    "\n",
    "Clean the csv file into a Pandas DataFrame with columns as described in the table above, by creating a function called `parse_malformed` that takes in a file path and returns a parsed, properly-typed dataframe. The dataframe should contain columns as described in the table above (with the specified types); it should agree with `pd.read_csv` when the lines are not malformed.\n",
    "\n",
    "\n",
    "*Note:* Assume that the given csv file is a sample of a larger file; you will be graded against a **different** sample of the larger file that has the same type of parsing errors. That is, you should **not** hard-code your cleaning of the data to specific errors on specific lines in the data."
   ]
  },
  {
   "cell_type": "code",
   "execution_count": 50,
   "metadata": {},
   "outputs": [],
   "source": [
    "def parse_malformed(fp):\n",
    "    \"\"\"\n",
    "    Parses and loads the malformed csv data into a \n",
    "    properly formatted dataframe (as described in \n",
    "    the question).\n",
    "    :param fh: file handle for the malformed csv-file.\n",
    "    :returns: a Pandas DataFrame of the data, \n",
    "    as specificed in the question statement.\n",
    "    :Example:\n",
    "    >>> fp = os.path.join('data', 'malformed.csv')\n",
    "    >>> df = parse_malformed(fp)\n",
    "    >>> cols = ['first', 'last', 'weight', 'height', 'geo']\n",
    "    >>> list(df.columns) == cols\n",
    "    True\n",
    "    >>> df['last'].dtype == np.dtype('O')\n",
    "    True\n",
    "    >>> df['height'].dtype == np.dtype('float64')\n",
    "    True\n",
    "    >>> df['geo'].str.contains(',').all()\n",
    "    True\n",
    "    >>> len(df) == 100\n",
    "    True\n",
    "    >>> dg = pd.read_csv(fp, nrows=4, skiprows=10, names=cols)\n",
    "    >>> dg.index = range(9, 13)\n",
    "    >>> (dg == df.iloc[9:13]).all().all()\n",
    "    True\n",
    "    \"\"\"\n",
    "    data = []\n",
    "    with open(fp, 'r') as file:\n",
    "        variables = file.readline().strip().split(',')\n",
    "        \n",
    "        for line in file:\n",
    "            messy = line.replace(',', ' ').split()\n",
    "            messy[0] = str(messy[0].replace('\\\"', ''))\n",
    "            messy[1] = str(messy[1].replace('\\\"', ''))\n",
    "            messy[2] = float(messy[2].replace('\\\"', ''))\n",
    "            messy[3] = float(messy[3].replace('\\\"', ''))\n",
    "            messy[4] = str(messy[4].replace('\\\"', '') + ',' + messy[5].replace('\\\"',''))\n",
    "            \n",
    "            messy.remove(messy[5])\n",
    "            data.append(messy)\n",
    "    return pd.DataFrame(data, columns = variables)"
   ]
  },
  {
   "cell_type": "code",
   "execution_count": null,
   "metadata": {},
   "outputs": [],
   "source": []
  },
  {
   "cell_type": "code",
   "execution_count": null,
   "metadata": {},
   "outputs": [],
   "source": []
  },
  {
   "cell_type": "markdown",
   "metadata": {},
   "source": [
    "## Congratulations! You're done!\n",
    "\n",
    "* Submit the lab on Gradescope"
   ]
  },
  {
   "cell_type": "code",
   "execution_count": null,
   "metadata": {},
   "outputs": [],
   "source": []
  }
 ],
 "metadata": {
  "kernel_info": {
   "name": "python3"
  },
  "kernelspec": {
   "display_name": "Python 3",
   "language": "python",
   "name": "python3"
  },
  "language_info": {
   "codemirror_mode": {
    "name": "ipython",
    "version": 3
   },
   "file_extension": ".py",
   "mimetype": "text/x-python",
   "name": "python",
   "nbconvert_exporter": "python",
   "pygments_lexer": "ipython3",
   "version": "3.9.1"
  },
  "nteract": {
   "version": "0.15.0"
  }
 },
 "nbformat": 4,
 "nbformat_minor": 4
}
