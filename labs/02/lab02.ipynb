{
 "cells": [
  {
   "cell_type": "markdown",
   "metadata": {},
   "source": [
    "list(scores.columns)# DSC 80: Lab 02\n",
    "\n",
    "### Due Date: Tuesday April 13th, at 11:59 PM"
   ]
  },
  {
   "cell_type": "markdown",
   "metadata": {},
   "source": [
    "## Instructions\n",
    "Much like in DSC 10, this Jupyter Notebook contains the statements of the homework problems and provides code and markdown cells to display your answers to the problems. Unlike DSC 10, the notebook is *only* for displaying a readable version of your final answers. The coding work will be developed in an accompanying `lab02.py` file, that will be imported into the current notebook.\n",
    "\n",
    "Homeworks and programming assignments will be graded in (at most) two ways:\n",
    "1. The functions and classes in the accompanying python file will be tested (a la DSC 20),\n",
    "2. The notebook will be graded (for graphs and free response questions).\n",
    "\n",
    "\n",
    "**Do not change the function names in the `*.py` file**\n",
    "- The functions in the `*.py` file are how your assignment is graded, and they are graded by their name. The dictionary at the end of the file (`GRADED FUNCTIONS`) contains the \"grading list\". The final function in the file allows your doctests to check that all the necessary functions exist.\n",
    "- If you changed something you weren't supposed to, just use git to revert!\n",
    "\n",
    "**Tips for working in the Notebook**:\n",
    "- The notebooks serve to present you the questions and give you a place to present your results for later review.\n",
    "- The notebook on *lab assignments* are not graded (only the `.py` file).\n",
    "- Notebooks for PAs will serve as a final report for the assignment, and contain conclusions and answers to open ended questions that are graded.\n",
    "- The notebook serves as a nice environment for 'pre-development' and experimentation before designing your function in your `.py` file.\n",
    "- If autograder failed, check to make sure there's no syntax errors with the doctests!\n",
    "\n",
    "**Tips for developing in the .py file**:\n",
    "- Do not change the function names in the starter code; grading is done using these function names.\n",
    "- Do not change the docstrings in the functions. These are there to tell you if your work is on the right track!\n",
    "- You are encouraged to write your own additional functions to solve the lab! \n",
    "    - Developing in python usually consists of larger files, with many short functions.\n",
    "    - You may write your other functions in an additional `.py` file that you import in `lab02.py` (much like we do in the notebook).\n",
    "- Always document your code!"
   ]
  },
  {
   "cell_type": "markdown",
   "metadata": {},
   "source": [
    "### Importing code from `lab**.py`\n",
    "\n",
    "* We import our `.py` file that's contained in the same directory as this notebook.\n",
    "* We use the `autoreload` notebook extension to make changes to our `lab**.py` file immediately available in our notebook. Without this extension, we would need to restart the notebook kernel to see any changes to `lab**.py` in the notebook.\n",
    "    - `autoreload` is necessary because, upon import, `lab**.py` is compiled to bytecode (in the directory `__pycache__`). Subsequent imports of `lab**` merely import the existing compiled python."
   ]
  },
  {
   "cell_type": "code",
   "execution_count": 1,
   "metadata": {},
   "outputs": [],
   "source": [
    "%load_ext autoreload\n",
    "%autoreload 2"
   ]
  },
  {
   "cell_type": "code",
   "execution_count": 2,
   "metadata": {},
   "outputs": [],
   "source": [
    "import lab02 as lab"
   ]
  },
  {
   "cell_type": "code",
   "execution_count": 3,
   "metadata": {},
   "outputs": [],
   "source": [
    "import os\n",
    "import pandas as pd\n",
    "import numpy as np"
   ]
  },
  {
   "cell_type": "markdown",
   "metadata": {},
   "source": [
    "## Pandas Basics"
   ]
  },
  {
   "cell_type": "markdown",
   "metadata": {},
   "source": [
    "---\n",
    "\n",
    "**Question 1: Test scores**\n",
    "\n",
    "You will be given a small dataset (so that you can manually check the correctness of your code). Please follow a few requirements when solving the problems below:\n",
    "\n",
    "* For all questions you need to write code general enough to be applied to another similar dataset. \n",
    "* Do not hard-code any answers please. \n",
    "* Do not use `for` or `while` loops\n",
    "   \n",
    "\n",
    "1. Write a function called `data_load` that takes a file name of the data set to be read as a string and returns a dataframe following the steps below:\n",
    "\n",
    "    a. Read only a subset of columns: `name`, `tries`, `highest_score`, `sex`\n",
    "    \n",
    "    b. Then you realized that for your analysis the column `sex` is not needed. Remove it. \n",
    "    \n",
    "    c. You want to customize the column names: rename `name` to `firstname` and `tries` to `attempts`\n",
    "    \n",
    "    d. Turn the `firstname` column into the index.\n",
    "\n",
    "\n",
    "2. Write a function `pass_fail` that takes the dataframe returned from the function above and adds a column `pass` based on the following conditions:\n",
    "\n",
    "    * \"Yes\" if a number of attempts is strictly less than 3 and the score is >= 50\n",
    "    * \"Yes\" if a number of attempts is strictly less than 6 and the score is >= 70\n",
    "    * \"Yes\" if a number of attempts is strictly less than 10 and the score is >= 90\n",
    "    * \"No\" otherwise\n",
    " \n",
    "Your function should return the (modified) input dataframe with the added column.\n",
    "    \n",
    "3. Write a fuction `av_score` that takes in a dataframe from the question above and returns the average score for those students who passed the test. \n",
    "    \n",
    "4. Write a function `highest_score_name` that takes in the dataframe from question 1.2 and returns a dictionary, where the key is the highest score and the value is the name (as a list) of the person with the highest score (attempts do not count). If more than one student got the highest score, include all names in a list. \n",
    "\n",
    "5. Write a function `idx_dup` that does not take any parameters and returns a single integer, answering the question below:\n",
    "\n",
    "Is it possible for a dataframe's index to have duplicate values?\n",
    "1. No, the index values must be unique and uses non-negative integers only, just like in numpy arrays\n",
    "2. No, the index values must be unique and uses integers only\n",
    "3. No, the index values must be unique but index values are not restricted to integers\n",
    "4. Yes, but index values must be non-negative integers only\n",
    "5. Yes, but index values must be integers only\n",
    "6. Yes and index values are not restricted to integers\n",
    "    \n"
   ]
  },
  {
   "cell_type": "code",
   "execution_count": 4,
   "metadata": {},
   "outputs": [],
   "source": [
    "scores_fp = os.path.join('data', 'scores.csv')"
   ]
  },
  {
   "cell_type": "code",
   "execution_count": 5,
   "metadata": {},
   "outputs": [],
   "source": [
    "def data_load(scores_fp):\n",
    "    \"\"\"\n",
    "    follows different steps to create a dataframe\n",
    "    :param scores_fp: file name as a string\n",
    "    :return: a dataframe\n",
    "    >>> scores_fp = os.path.join('data', 'scores.csv')\n",
    "    >>> scores = data_load(scores_fp)\n",
    "    >>> isinstance(scores, pd.DataFrame)\n",
    "    True\n",
    "    >>> list(scores.columns)\n",
    "    ['attempts', 'highest_score']\n",
    "    >>> isinstance(scores.index[0], int)\n",
    "    False\n",
    "    \"\"\"\n",
    "    # a\n",
    "    df = pd.read_csv(scores_fp, header=0, usecols=['name','tries','highest_score','sex'])\n",
    "\n",
    "    # b\n",
    "    df = df.drop(['sex'],axis=1)\n",
    "\n",
    "    # c\n",
    "    df = df.rename(columns={'name':'firstname', 'tries':'attempts'})\n",
    "\n",
    "    # d\n",
    "    df = df.set_index('firstname')\n",
    "\n",
    "    return df"
   ]
  },
  {
   "cell_type": "code",
   "execution_count": 6,
   "metadata": {},
   "outputs": [
    {
     "data": {
      "text/html": [
       "<div>\n",
       "<style scoped>\n",
       "    .dataframe tbody tr th:only-of-type {\n",
       "        vertical-align: middle;\n",
       "    }\n",
       "\n",
       "    .dataframe tbody tr th {\n",
       "        vertical-align: top;\n",
       "    }\n",
       "\n",
       "    .dataframe thead th {\n",
       "        text-align: right;\n",
       "    }\n",
       "</style>\n",
       "<table border=\"1\" class=\"dataframe\">\n",
       "  <thead>\n",
       "    <tr style=\"text-align: right;\">\n",
       "      <th></th>\n",
       "      <th>attempts</th>\n",
       "      <th>highest_score</th>\n",
       "    </tr>\n",
       "    <tr>\n",
       "      <th>firstname</th>\n",
       "      <th></th>\n",
       "      <th></th>\n",
       "    </tr>\n",
       "  </thead>\n",
       "  <tbody>\n",
       "    <tr>\n",
       "      <th>Julia</th>\n",
       "      <td>4</td>\n",
       "      <td>90.0</td>\n",
       "    </tr>\n",
       "    <tr>\n",
       "      <th>Angelica</th>\n",
       "      <td>2</td>\n",
       "      <td>70.0</td>\n",
       "    </tr>\n",
       "    <tr>\n",
       "      <th>Tyler</th>\n",
       "      <td>2</td>\n",
       "      <td>88.0</td>\n",
       "    </tr>\n",
       "    <tr>\n",
       "      <th>Kathleen</th>\n",
       "      <td>7</td>\n",
       "      <td>88.5</td>\n",
       "    </tr>\n",
       "    <tr>\n",
       "      <th>Axel</th>\n",
       "      <td>5</td>\n",
       "      <td>45.3</td>\n",
       "    </tr>\n",
       "    <tr>\n",
       "      <th>Amiya</th>\n",
       "      <td>2</td>\n",
       "      <td>34.0</td>\n",
       "    </tr>\n",
       "    <tr>\n",
       "      <th>Marina</th>\n",
       "      <td>2</td>\n",
       "      <td>100.0</td>\n",
       "    </tr>\n",
       "    <tr>\n",
       "      <th>Torrey</th>\n",
       "      <td>14</td>\n",
       "      <td>99.0</td>\n",
       "    </tr>\n",
       "    <tr>\n",
       "      <th>Mariah</th>\n",
       "      <td>10</td>\n",
       "      <td>98.1</td>\n",
       "    </tr>\n",
       "    <tr>\n",
       "      <th>Grayson</th>\n",
       "      <td>3</td>\n",
       "      <td>67.0</td>\n",
       "    </tr>\n",
       "    <tr>\n",
       "      <th>Yvette</th>\n",
       "      <td>4</td>\n",
       "      <td>55.9</td>\n",
       "    </tr>\n",
       "    <tr>\n",
       "      <th>Marina</th>\n",
       "      <td>3</td>\n",
       "      <td>100.0</td>\n",
       "    </tr>\n",
       "    <tr>\n",
       "      <th>Marina</th>\n",
       "      <td>2</td>\n",
       "      <td>100.0</td>\n",
       "    </tr>\n",
       "  </tbody>\n",
       "</table>\n",
       "</div>"
      ],
      "text/plain": [
       "           attempts  highest_score\n",
       "firstname                         \n",
       "Julia             4           90.0\n",
       "Angelica          2           70.0\n",
       "Tyler             2           88.0\n",
       "Kathleen          7           88.5\n",
       "Axel              5           45.3\n",
       "Amiya             2           34.0\n",
       "Marina            2          100.0\n",
       "Torrey           14           99.0\n",
       "Mariah           10           98.1\n",
       "Grayson           3           67.0\n",
       "Yvette            4           55.9\n",
       "Marina            3          100.0\n",
       "Marina            2          100.0"
      ]
     },
     "execution_count": 6,
     "metadata": {},
     "output_type": "execute_result"
    }
   ],
   "source": [
    "scores_fp = os.path.join('data', 'scores.csv')\n",
    "scores = data_load(scores_fp)\n",
    "scores"
   ]
  },
  {
   "cell_type": "code",
   "execution_count": 7,
   "metadata": {},
   "outputs": [
    {
     "data": {
      "text/plain": [
       "True"
      ]
     },
     "execution_count": 7,
     "metadata": {},
     "output_type": "execute_result"
    }
   ],
   "source": [
    "isinstance(scores, pd.DataFrame)"
   ]
  },
  {
   "cell_type": "code",
   "execution_count": 8,
   "metadata": {},
   "outputs": [
    {
     "data": {
      "text/plain": [
       "['attempts', 'highest_score']"
      ]
     },
     "execution_count": 8,
     "metadata": {},
     "output_type": "execute_result"
    }
   ],
   "source": [
    "list(scores.columns)"
   ]
  },
  {
   "cell_type": "code",
   "execution_count": 9,
   "metadata": {},
   "outputs": [
    {
     "data": {
      "text/plain": [
       "False"
      ]
     },
     "execution_count": 9,
     "metadata": {},
     "output_type": "execute_result"
    }
   ],
   "source": [
    "isinstance(scores.index[0], int)"
   ]
  },
  {
   "cell_type": "code",
   "execution_count": 10,
   "metadata": {},
   "outputs": [],
   "source": [
    "def pass_fail_helper(row):\n",
    "    if row['attempts'] < 3 and row['highest_score'] >= 50:\n",
    "        return 'Yes'\n",
    "    elif row['attempts'] < 6 and row['highest_score'] >= 70:\n",
    "        return 'Yes'\n",
    "    elif row['attempts'] < 10 and row['highest_score'] >= 90:\n",
    "        return 'Yes'\n",
    "    else:\n",
    "        return 'No'"
   ]
  },
  {
   "cell_type": "code",
   "execution_count": 11,
   "metadata": {},
   "outputs": [],
   "source": [
    "def pass_fail(scores):\n",
    "    \"\"\"\n",
    "    modifies the scores dataframe by adding one more column satisfying\n",
    "    conditions from the write up.\n",
    "    :param scores: dataframe from the question above\n",
    "    :return: dataframe with additional column pass\n",
    "    >>> scores_fp = os.path.join('data', 'scores.csv')\n",
    "    >>> scores = data_load(scores_fp)\n",
    "    >>> scores = pass_fail(scores)\n",
    "    >>> isinstance(scores, pd.DataFrame)\n",
    "    True\n",
    "    >>> len(scores.columns)\n",
    "    3\n",
    "    >>> scores.loc[\"Julia\", \"pass\"]=='Yes'\n",
    "    True\n",
    "\n",
    "    \"\"\"\n",
    "\n",
    "    scores['pass'] = scores.apply(lambda row: pass_fail_helper(row), axis=1)\n",
    "    #scores = scores.insert(loc=2,column='pass',value=newcol)\n",
    "    return scores"
   ]
  },
  {
   "cell_type": "code",
   "execution_count": 12,
   "metadata": {},
   "outputs": [
    {
     "data": {
      "text/html": [
       "<div>\n",
       "<style scoped>\n",
       "    .dataframe tbody tr th:only-of-type {\n",
       "        vertical-align: middle;\n",
       "    }\n",
       "\n",
       "    .dataframe tbody tr th {\n",
       "        vertical-align: top;\n",
       "    }\n",
       "\n",
       "    .dataframe thead th {\n",
       "        text-align: right;\n",
       "    }\n",
       "</style>\n",
       "<table border=\"1\" class=\"dataframe\">\n",
       "  <thead>\n",
       "    <tr style=\"text-align: right;\">\n",
       "      <th></th>\n",
       "      <th>attempts</th>\n",
       "      <th>highest_score</th>\n",
       "      <th>pass</th>\n",
       "    </tr>\n",
       "    <tr>\n",
       "      <th>firstname</th>\n",
       "      <th></th>\n",
       "      <th></th>\n",
       "      <th></th>\n",
       "    </tr>\n",
       "  </thead>\n",
       "  <tbody>\n",
       "    <tr>\n",
       "      <th>Julia</th>\n",
       "      <td>4</td>\n",
       "      <td>90.0</td>\n",
       "      <td>Yes</td>\n",
       "    </tr>\n",
       "    <tr>\n",
       "      <th>Angelica</th>\n",
       "      <td>2</td>\n",
       "      <td>70.0</td>\n",
       "      <td>Yes</td>\n",
       "    </tr>\n",
       "    <tr>\n",
       "      <th>Tyler</th>\n",
       "      <td>2</td>\n",
       "      <td>88.0</td>\n",
       "      <td>Yes</td>\n",
       "    </tr>\n",
       "    <tr>\n",
       "      <th>Kathleen</th>\n",
       "      <td>7</td>\n",
       "      <td>88.5</td>\n",
       "      <td>No</td>\n",
       "    </tr>\n",
       "    <tr>\n",
       "      <th>Axel</th>\n",
       "      <td>5</td>\n",
       "      <td>45.3</td>\n",
       "      <td>No</td>\n",
       "    </tr>\n",
       "    <tr>\n",
       "      <th>Amiya</th>\n",
       "      <td>2</td>\n",
       "      <td>34.0</td>\n",
       "      <td>No</td>\n",
       "    </tr>\n",
       "    <tr>\n",
       "      <th>Marina</th>\n",
       "      <td>2</td>\n",
       "      <td>100.0</td>\n",
       "      <td>Yes</td>\n",
       "    </tr>\n",
       "    <tr>\n",
       "      <th>Torrey</th>\n",
       "      <td>14</td>\n",
       "      <td>99.0</td>\n",
       "      <td>No</td>\n",
       "    </tr>\n",
       "    <tr>\n",
       "      <th>Mariah</th>\n",
       "      <td>10</td>\n",
       "      <td>98.1</td>\n",
       "      <td>No</td>\n",
       "    </tr>\n",
       "    <tr>\n",
       "      <th>Grayson</th>\n",
       "      <td>3</td>\n",
       "      <td>67.0</td>\n",
       "      <td>No</td>\n",
       "    </tr>\n",
       "    <tr>\n",
       "      <th>Yvette</th>\n",
       "      <td>4</td>\n",
       "      <td>55.9</td>\n",
       "      <td>No</td>\n",
       "    </tr>\n",
       "    <tr>\n",
       "      <th>Marina</th>\n",
       "      <td>3</td>\n",
       "      <td>100.0</td>\n",
       "      <td>Yes</td>\n",
       "    </tr>\n",
       "    <tr>\n",
       "      <th>Marina</th>\n",
       "      <td>2</td>\n",
       "      <td>100.0</td>\n",
       "      <td>Yes</td>\n",
       "    </tr>\n",
       "  </tbody>\n",
       "</table>\n",
       "</div>"
      ],
      "text/plain": [
       "           attempts  highest_score pass\n",
       "firstname                              \n",
       "Julia             4           90.0  Yes\n",
       "Angelica          2           70.0  Yes\n",
       "Tyler             2           88.0  Yes\n",
       "Kathleen          7           88.5   No\n",
       "Axel              5           45.3   No\n",
       "Amiya             2           34.0   No\n",
       "Marina            2          100.0  Yes\n",
       "Torrey           14           99.0   No\n",
       "Mariah           10           98.1   No\n",
       "Grayson           3           67.0   No\n",
       "Yvette            4           55.9   No\n",
       "Marina            3          100.0  Yes\n",
       "Marina            2          100.0  Yes"
      ]
     },
     "execution_count": 12,
     "metadata": {},
     "output_type": "execute_result"
    }
   ],
   "source": [
    "scores_fp = os.path.join('data', 'scores.csv')\n",
    "scores = data_load(scores_fp)\n",
    "scores = pass_fail(scores)\n",
    "scores"
   ]
  },
  {
   "cell_type": "code",
   "execution_count": 13,
   "metadata": {},
   "outputs": [
    {
     "data": {
      "text/plain": [
       "True"
      ]
     },
     "execution_count": 13,
     "metadata": {},
     "output_type": "execute_result"
    }
   ],
   "source": [
    "isinstance(scores, pd.DataFrame)"
   ]
  },
  {
   "cell_type": "code",
   "execution_count": 14,
   "metadata": {},
   "outputs": [
    {
     "data": {
      "text/plain": [
       "pandas.core.frame.DataFrame"
      ]
     },
     "execution_count": 14,
     "metadata": {},
     "output_type": "execute_result"
    }
   ],
   "source": [
    "type(scores)"
   ]
  },
  {
   "cell_type": "code",
   "execution_count": 15,
   "metadata": {},
   "outputs": [
    {
     "data": {
      "text/plain": [
       "3"
      ]
     },
     "execution_count": 15,
     "metadata": {},
     "output_type": "execute_result"
    }
   ],
   "source": [
    "len(scores.columns)"
   ]
  },
  {
   "cell_type": "code",
   "execution_count": 16,
   "metadata": {},
   "outputs": [
    {
     "data": {
      "text/plain": [
       "True"
      ]
     },
     "execution_count": 16,
     "metadata": {},
     "output_type": "execute_result"
    }
   ],
   "source": [
    "scores.loc[\"Julia\", \"pass\"]=='Yes'"
   ]
  },
  {
   "cell_type": "code",
   "execution_count": 17,
   "metadata": {},
   "outputs": [],
   "source": [
    "def av_score(scores):\n",
    "    \"\"\"\n",
    "    returns the average score for those students who passed the test.\n",
    "    :param scores: dataframe from the second question\n",
    "    :return: average score\n",
    "    >>> scores_fp = os.path.join('data', 'scores.csv')\n",
    "    >>> scores = data_load(scores_fp)\n",
    "    >>> scores = pass_fail(scores)\n",
    "    >>> av = av_score(scores)\n",
    "    >>> isinstance(av, float)\n",
    "    True\n",
    "    >>> 91 < av < 92\n",
    "    True\n",
    "    \"\"\"\n",
    "\n",
    "    return scores[scores['pass'] == 'Yes']['highest_score'].mean()"
   ]
  },
  {
   "cell_type": "code",
   "execution_count": 18,
   "metadata": {},
   "outputs": [
    {
     "data": {
      "text/plain": [
       "91.33333333333333"
      ]
     },
     "execution_count": 18,
     "metadata": {},
     "output_type": "execute_result"
    }
   ],
   "source": [
    "scores_fp = os.path.join('data', 'scores.csv')\n",
    "scores = data_load(scores_fp)\n",
    "scores = pass_fail(scores)\n",
    "av = av_score(scores)\n",
    "av"
   ]
  },
  {
   "cell_type": "code",
   "execution_count": 19,
   "metadata": {},
   "outputs": [
    {
     "data": {
      "text/plain": [
       "True"
      ]
     },
     "execution_count": 19,
     "metadata": {},
     "output_type": "execute_result"
    }
   ],
   "source": [
    "isinstance(av, float)"
   ]
  },
  {
   "cell_type": "code",
   "execution_count": 20,
   "metadata": {},
   "outputs": [
    {
     "data": {
      "text/plain": [
       "True"
      ]
     },
     "execution_count": 20,
     "metadata": {},
     "output_type": "execute_result"
    }
   ],
   "source": [
    "91 < av < 92"
   ]
  },
  {
   "cell_type": "code",
   "execution_count": 21,
   "metadata": {},
   "outputs": [],
   "source": [
    "def highest_score_name(scores):\n",
    "    \"\"\"\n",
    "    finds the highest score and people who received it\n",
    "    :param scores: dataframe from the second question\n",
    "    :return: dictionary where the key is the highest score and the value(s) is a list of name(s)\n",
    "    >>> scores_fp = os.path.join('data', 'scores.csv')\n",
    "    >>> scores = data_load(scores_fp)\n",
    "    >>> scores = pass_fail(scores)\n",
    "    >>> highest = highest_score_name(scores)\n",
    "    >>> isinstance(highest, dict)\n",
    "    True\n",
    "    >>> len(next(iter(highest.items()))[1])\n",
    "    3\n",
    "    \"\"\"\n",
    "    scores = scores.reset_index()\n",
    "    maxscore = scores['highest_score'].max()\n",
    "    top_scorers = scores[scores['highest_score'] == maxscore]\n",
    "    #return top_scorers#.to_dict()\n",
    "\n",
    "    names = list(top_scorers.firstname)\n",
    "    return {maxscore:names}"
   ]
  },
  {
   "cell_type": "code",
   "execution_count": 22,
   "metadata": {},
   "outputs": [
    {
     "data": {
      "text/plain": [
       "{100.0: ['Marina', 'Marina', 'Marina']}"
      ]
     },
     "execution_count": 22,
     "metadata": {},
     "output_type": "execute_result"
    }
   ],
   "source": [
    "scores_fp = os.path.join('data', 'scores.csv')\n",
    "scores = data_load(scores_fp)\n",
    "scores = pass_fail(scores)\n",
    "highest = highest_score_name(scores)\n",
    "highest"
   ]
  },
  {
   "cell_type": "code",
   "execution_count": 23,
   "metadata": {},
   "outputs": [
    {
     "data": {
      "text/plain": [
       "True"
      ]
     },
     "execution_count": 23,
     "metadata": {},
     "output_type": "execute_result"
    }
   ],
   "source": [
    "isinstance(highest, dict)"
   ]
  },
  {
   "cell_type": "code",
   "execution_count": 24,
   "metadata": {},
   "outputs": [
    {
     "data": {
      "text/plain": [
       "3"
      ]
     },
     "execution_count": 24,
     "metadata": {},
     "output_type": "execute_result"
    }
   ],
   "source": [
    "len(next(iter(highest.items()))[1])"
   ]
  },
  {
   "cell_type": "code",
   "execution_count": 25,
   "metadata": {},
   "outputs": [],
   "source": [
    "def idx_dup():\n",
    "    \"\"\"\n",
    "    Answers the question in the write up.\n",
    "    :return:\n",
    "    >>> ans = idx_dup()\n",
    "    >>> isinstance(ans, int)\n",
    "    True\n",
    "    >>> 1 <= ans <= 6\n",
    "    True\n",
    "    \"\"\"\n",
    "    \n",
    "    return 6"
   ]
  },
  {
   "cell_type": "code",
   "execution_count": 26,
   "metadata": {},
   "outputs": [
    {
     "data": {
      "text/plain": [
       "6"
      ]
     },
     "execution_count": 26,
     "metadata": {},
     "output_type": "execute_result"
    }
   ],
   "source": [
    "ans = idx_dup()\n",
    "ans"
   ]
  },
  {
   "cell_type": "code",
   "execution_count": 27,
   "metadata": {},
   "outputs": [
    {
     "data": {
      "text/plain": [
       "True"
      ]
     },
     "execution_count": 27,
     "metadata": {},
     "output_type": "execute_result"
    }
   ],
   "source": [
    "isinstance(ans, int)"
   ]
  },
  {
   "cell_type": "code",
   "execution_count": 28,
   "metadata": {},
   "outputs": [
    {
     "data": {
      "text/plain": [
       "True"
      ]
     },
     "execution_count": 28,
     "metadata": {},
     "output_type": "execute_result"
    }
   ],
   "source": [
    "1 <= ans <= 6"
   ]
  },
  {
   "cell_type": "markdown",
   "metadata": {},
   "source": [
    "## Tricky Pandas.\n",
    "\n",
    "Sometimes you can get input that you do not expect. The next set of questions walk you through a few examples that might surprise you. "
   ]
  },
  {
   "cell_type": "markdown",
   "metadata": {},
   "source": [
    "---\n",
    "**Question 2 : Duplicate and selection**\n",
    "\n",
    "\n",
    "\n",
    "1. Write a function `trick_me` that does not take any parameters. <br>Inside the function: \n",
    "    * Create a dataframe `tricky_1` that has three columns labeled: \"Name\", \"Name\", \"Age\". Your table should have 5 rows, the values are up to you. \n",
    "    * Save this dataframe in the `csv` file called `tricky_1.csv` without the index. \n",
    "    * Now create another dataframe, `tricky_2`, by reading in the file `tricky_1.csv `. What are your observations?\n",
    "        1. It was not possible to create a dataframe with the duplicate columns\n",
    "        2. `tricky_1` and `tricky_2` have the same column names\n",
    "        3. `tricky_1` and `tricky_2` have different column names\n",
    "    * Return your answer as a letter\n",
    "    \n",
    "    \n",
    "\n",
    "2. Write a function `reason_dup` that answers the following question: `Why does pandas allow us to have duplicate column names?` by returning a corresponding letter. \n",
    "    1. It does not, duplicate column names are not allowed\n",
    "    2. Since duplicate indices are allowed and we also can transpose a dataframe.\n",
    "    3. It is a bug in Pandas\n",
    "    \n",
    "    \n",
    "   \n",
    "   \n",
    "3. Write a function `trick_bool` that does not take any parameters. To determine the correct answers from the list below, you should follow the steps outlined by experimenting in *the notebook* (or a python REPL). Outside the function:\n",
    "    * Create a dataframe `bools` that has four columns labeled: \"True\", \"True\", \"False\", \"False\". Each column name is boolean.\n",
    "    * Your table should have 4 rows, the values are up to you. \n",
    "    * You need to think (without running it) what output you should get when running each line of code below. Pick a corresponding answer from a given list. Your function should return a list with three letters that correspond to the dataframe structure for each line below. \n",
    "    \n",
    "     ```\n",
    "     df[True]\n",
    "     df[[True, True, False, False]]\n",
    "     df[[True, False]]\n",
    "     ```\n",
    "    \n",
    "        1. Dataframe: 2 columns, 1 row\n",
    "        2. Dataframe: 2 columns, 2 rows\n",
    "        3. Dataframe: 2 columns, 3 rows\n",
    "        4. Dataframe: 2 columns, 4 rows\n",
    "        5. Dataframe: 3 columns, 1 rows\n",
    "        6. Dataframe: 3 columns, 2 rows\n",
    "        7. Dataframe: 3 columns, 3 rows\n",
    "        8. Dataframe: 3 columns, 4 rows\n",
    "        9. Dataframe: 4 columns, 1 rows\n",
    "        10. Dataframe: 4 columns, 2 rows\n",
    "        11. Dataframe: 4 columns, 3 rows\n",
    "        12. Dataframe: 4 columns, 4 rows\n",
    "        13. Error\n",
    "    \n",
    "    \n",
    "4.  Write a function `reason_bool` that answers the following question: `Why the outputs are the way they are?` by returning a corresponding letter. \n",
    "    1. booleans arrays select either rows or columns, randomly\n",
    "    2. booleans arrays always select rows by default\n",
    "    3. booleans arrays always select columns by default \n",
    "    4. booleans arrays always select rows by default, unless column names are set to `True`/`False` values.\n",
    "    \n",
    "    \n",
    "    \n",
    "   \n"
   ]
  },
  {
   "cell_type": "code",
   "execution_count": 29,
   "metadata": {},
   "outputs": [
    {
     "data": {
      "text/html": [
       "<div>\n",
       "<style scoped>\n",
       "    .dataframe tbody tr th:only-of-type {\n",
       "        vertical-align: middle;\n",
       "    }\n",
       "\n",
       "    .dataframe tbody tr th {\n",
       "        vertical-align: top;\n",
       "    }\n",
       "\n",
       "    .dataframe thead th {\n",
       "        text-align: right;\n",
       "    }\n",
       "</style>\n",
       "<table border=\"1\" class=\"dataframe\">\n",
       "  <thead>\n",
       "    <tr style=\"text-align: right;\">\n",
       "      <th></th>\n",
       "      <th>Name</th>\n",
       "      <th>Age</th>\n",
       "    </tr>\n",
       "  </thead>\n",
       "  <tbody>\n",
       "    <tr>\n",
       "      <th>0</th>\n",
       "      <td>A</td>\n",
       "      <td>1</td>\n",
       "    </tr>\n",
       "    <tr>\n",
       "      <th>1</th>\n",
       "      <td>B</td>\n",
       "      <td>2</td>\n",
       "    </tr>\n",
       "    <tr>\n",
       "      <th>2</th>\n",
       "      <td>C</td>\n",
       "      <td>3</td>\n",
       "    </tr>\n",
       "    <tr>\n",
       "      <th>3</th>\n",
       "      <td>D</td>\n",
       "      <td>4</td>\n",
       "    </tr>\n",
       "    <tr>\n",
       "      <th>4</th>\n",
       "      <td>E</td>\n",
       "      <td>5</td>\n",
       "    </tr>\n",
       "  </tbody>\n",
       "</table>\n",
       "</div>"
      ],
      "text/plain": [
       "  Name  Age\n",
       "0    A    1\n",
       "1    B    2\n",
       "2    C    3\n",
       "3    D    4\n",
       "4    E    5"
      ]
     },
     "execution_count": 29,
     "metadata": {},
     "output_type": "execute_result"
    }
   ],
   "source": [
    "pd.DataFrame({'Name':['Z','Y','X','W','V'], 'Name':['A','B','C','D','E'] , 'Age':[1,2,3,4,5]})"
   ]
  },
  {
   "cell_type": "code",
   "execution_count": 30,
   "metadata": {},
   "outputs": [
    {
     "data": {
      "text/html": [
       "<div>\n",
       "<style scoped>\n",
       "    .dataframe tbody tr th:only-of-type {\n",
       "        vertical-align: middle;\n",
       "    }\n",
       "\n",
       "    .dataframe tbody tr th {\n",
       "        vertical-align: top;\n",
       "    }\n",
       "\n",
       "    .dataframe thead th {\n",
       "        text-align: right;\n",
       "    }\n",
       "</style>\n",
       "<table border=\"1\" class=\"dataframe\">\n",
       "  <thead>\n",
       "    <tr style=\"text-align: right;\">\n",
       "      <th></th>\n",
       "      <th>name</th>\n",
       "      <th>name</th>\n",
       "      <th>age</th>\n",
       "    </tr>\n",
       "  </thead>\n",
       "  <tbody>\n",
       "    <tr>\n",
       "      <th>0</th>\n",
       "      <td>a</td>\n",
       "      <td>z</td>\n",
       "      <td>1</td>\n",
       "    </tr>\n",
       "    <tr>\n",
       "      <th>1</th>\n",
       "      <td>b</td>\n",
       "      <td>y</td>\n",
       "      <td>2</td>\n",
       "    </tr>\n",
       "    <tr>\n",
       "      <th>2</th>\n",
       "      <td>c</td>\n",
       "      <td>x</td>\n",
       "      <td>3</td>\n",
       "    </tr>\n",
       "    <tr>\n",
       "      <th>3</th>\n",
       "      <td>d</td>\n",
       "      <td>w</td>\n",
       "      <td>4</td>\n",
       "    </tr>\n",
       "    <tr>\n",
       "      <th>4</th>\n",
       "      <td>e</td>\n",
       "      <td>v</td>\n",
       "      <td>5</td>\n",
       "    </tr>\n",
       "  </tbody>\n",
       "</table>\n",
       "</div>"
      ],
      "text/plain": [
       "  name name  age\n",
       "0    a    z    1\n",
       "1    b    y    2\n",
       "2    c    x    3\n",
       "3    d    w    4\n",
       "4    e    v    5"
      ]
     },
     "execution_count": 30,
     "metadata": {},
     "output_type": "execute_result"
    }
   ],
   "source": [
    "data = [\n",
    "    ['a', 'z', 1], # row 1\n",
    "    ['b', 'y', 2], # row 2\n",
    "    ['c', 'x', 3], # row 3\n",
    "    ['d', 'w', 4],  # row 4\n",
    "    ['e', 'v', 5]  # row 5\n",
    "]\n",
    "df = pd.DataFrame(data,                                     # rows of dataframe\n",
    "                   columns = ['name', 'name', 'age'])       # column names \n",
    "df"
   ]
  },
  {
   "cell_type": "code",
   "execution_count": 31,
   "metadata": {},
   "outputs": [
    {
     "data": {
      "text/html": [
       "<div>\n",
       "<style scoped>\n",
       "    .dataframe tbody tr th:only-of-type {\n",
       "        vertical-align: middle;\n",
       "    }\n",
       "\n",
       "    .dataframe tbody tr th {\n",
       "        vertical-align: top;\n",
       "    }\n",
       "\n",
       "    .dataframe thead th {\n",
       "        text-align: right;\n",
       "    }\n",
       "</style>\n",
       "<table border=\"1\" class=\"dataframe\">\n",
       "  <thead>\n",
       "    <tr style=\"text-align: right;\">\n",
       "      <th></th>\n",
       "      <th>Unnamed: 0</th>\n",
       "      <th>name</th>\n",
       "      <th>name.1</th>\n",
       "      <th>age</th>\n",
       "    </tr>\n",
       "  </thead>\n",
       "  <tbody>\n",
       "    <tr>\n",
       "      <th>0</th>\n",
       "      <td>0</td>\n",
       "      <td>a</td>\n",
       "      <td>z</td>\n",
       "      <td>1</td>\n",
       "    </tr>\n",
       "    <tr>\n",
       "      <th>1</th>\n",
       "      <td>1</td>\n",
       "      <td>b</td>\n",
       "      <td>y</td>\n",
       "      <td>2</td>\n",
       "    </tr>\n",
       "    <tr>\n",
       "      <th>2</th>\n",
       "      <td>2</td>\n",
       "      <td>c</td>\n",
       "      <td>x</td>\n",
       "      <td>3</td>\n",
       "    </tr>\n",
       "    <tr>\n",
       "      <th>3</th>\n",
       "      <td>3</td>\n",
       "      <td>d</td>\n",
       "      <td>w</td>\n",
       "      <td>4</td>\n",
       "    </tr>\n",
       "    <tr>\n",
       "      <th>4</th>\n",
       "      <td>4</td>\n",
       "      <td>e</td>\n",
       "      <td>v</td>\n",
       "      <td>5</td>\n",
       "    </tr>\n",
       "  </tbody>\n",
       "</table>\n",
       "</div>"
      ],
      "text/plain": [
       "   Unnamed: 0 name name.1  age\n",
       "0           0    a      z    1\n",
       "1           1    b      y    2\n",
       "2           2    c      x    3\n",
       "3           3    d      w    4\n",
       "4           4    e      v    5"
      ]
     },
     "execution_count": 31,
     "metadata": {},
     "output_type": "execute_result"
    }
   ],
   "source": [
    "csv_fp = os.path.join('data', 'tricky1.csv')\n",
    "df.to_csv(csv_fp)\n",
    "df2 = pd.read_csv(csv_fp)\n",
    "df2"
   ]
  },
  {
   "cell_type": "code",
   "execution_count": 32,
   "metadata": {},
   "outputs": [],
   "source": [
    "def trick_me():\n",
    "    \"\"\"\n",
    "    Answers the question in the write-up\n",
    "    :return: a letter\n",
    "    >>> ans =  trick_me()\n",
    "    >>> ans == 'A' or ans == 'B' or ans == \"C\"\n",
    "    True\n",
    "    \"\"\"\n",
    "    return 'C'"
   ]
  },
  {
   "cell_type": "code",
   "execution_count": 33,
   "metadata": {},
   "outputs": [],
   "source": [
    "def reason_dup():\n",
    "    \"\"\"\n",
    "     Answers the question in the write-up\n",
    "    :return: a letter\n",
    "    >>> ans =  reason_dup()\n",
    "    >>> ans == 'A' or ans == 'B' or ans == \"C\"\n",
    "    True\n",
    "    \"\"\"\n",
    "    return 'B'"
   ]
  },
  {
   "cell_type": "code",
   "execution_count": 34,
   "metadata": {},
   "outputs": [
    {
     "data": {
      "text/html": [
       "<div>\n",
       "<style scoped>\n",
       "    .dataframe tbody tr th:only-of-type {\n",
       "        vertical-align: middle;\n",
       "    }\n",
       "\n",
       "    .dataframe tbody tr th {\n",
       "        vertical-align: top;\n",
       "    }\n",
       "\n",
       "    .dataframe thead th {\n",
       "        text-align: right;\n",
       "    }\n",
       "</style>\n",
       "<table border=\"1\" class=\"dataframe\">\n",
       "  <thead>\n",
       "    <tr style=\"text-align: right;\">\n",
       "      <th></th>\n",
       "      <th>True</th>\n",
       "      <th>True</th>\n",
       "      <th>False</th>\n",
       "      <th>False</th>\n",
       "    </tr>\n",
       "  </thead>\n",
       "  <tbody>\n",
       "    <tr>\n",
       "      <th>0</th>\n",
       "      <td>a</td>\n",
       "      <td>z</td>\n",
       "      <td>1</td>\n",
       "      <td>10</td>\n",
       "    </tr>\n",
       "    <tr>\n",
       "      <th>1</th>\n",
       "      <td>b</td>\n",
       "      <td>y</td>\n",
       "      <td>2</td>\n",
       "      <td>9</td>\n",
       "    </tr>\n",
       "    <tr>\n",
       "      <th>2</th>\n",
       "      <td>c</td>\n",
       "      <td>x</td>\n",
       "      <td>3</td>\n",
       "      <td>8</td>\n",
       "    </tr>\n",
       "    <tr>\n",
       "      <th>3</th>\n",
       "      <td>d</td>\n",
       "      <td>w</td>\n",
       "      <td>4</td>\n",
       "      <td>7</td>\n",
       "    </tr>\n",
       "  </tbody>\n",
       "</table>\n",
       "</div>"
      ],
      "text/plain": [
       "  True  True   False  False\n",
       "0     a     z      1     10\n",
       "1     b     y      2      9\n",
       "2     c     x      3      8\n",
       "3     d     w      4      7"
      ]
     },
     "execution_count": 34,
     "metadata": {},
     "output_type": "execute_result"
    }
   ],
   "source": [
    "data = [['a', 'z', 1, 10],['b', 'y', 2, 9],['c', 'x', 3, 8],['d', 'w', 4, 7]]\n",
    "df = pd.DataFrame(data,columns = [True, True, False, False])\n",
    "df"
   ]
  },
  {
   "cell_type": "code",
   "execution_count": 35,
   "metadata": {},
   "outputs": [
    {
     "data": {
      "text/html": [
       "<div>\n",
       "<style scoped>\n",
       "    .dataframe tbody tr th:only-of-type {\n",
       "        vertical-align: middle;\n",
       "    }\n",
       "\n",
       "    .dataframe tbody tr th {\n",
       "        vertical-align: top;\n",
       "    }\n",
       "\n",
       "    .dataframe thead th {\n",
       "        text-align: right;\n",
       "    }\n",
       "</style>\n",
       "<table border=\"1\" class=\"dataframe\">\n",
       "  <thead>\n",
       "    <tr style=\"text-align: right;\">\n",
       "      <th></th>\n",
       "      <th>True</th>\n",
       "      <th>True</th>\n",
       "    </tr>\n",
       "  </thead>\n",
       "  <tbody>\n",
       "    <tr>\n",
       "      <th>0</th>\n",
       "      <td>a</td>\n",
       "      <td>z</td>\n",
       "    </tr>\n",
       "    <tr>\n",
       "      <th>1</th>\n",
       "      <td>b</td>\n",
       "      <td>y</td>\n",
       "    </tr>\n",
       "    <tr>\n",
       "      <th>2</th>\n",
       "      <td>c</td>\n",
       "      <td>x</td>\n",
       "    </tr>\n",
       "    <tr>\n",
       "      <th>3</th>\n",
       "      <td>d</td>\n",
       "      <td>w</td>\n",
       "    </tr>\n",
       "  </tbody>\n",
       "</table>\n",
       "</div>"
      ],
      "text/plain": [
       "  True True\n",
       "0    a    z\n",
       "1    b    y\n",
       "2    c    x\n",
       "3    d    w"
      ]
     },
     "execution_count": 35,
     "metadata": {},
     "output_type": "execute_result"
    }
   ],
   "source": [
    "df[True]"
   ]
  },
  {
   "cell_type": "code",
   "execution_count": 36,
   "metadata": {},
   "outputs": [
    {
     "data": {
      "text/html": [
       "<div>\n",
       "<style scoped>\n",
       "    .dataframe tbody tr th:only-of-type {\n",
       "        vertical-align: middle;\n",
       "    }\n",
       "\n",
       "    .dataframe tbody tr th {\n",
       "        vertical-align: top;\n",
       "    }\n",
       "\n",
       "    .dataframe thead th {\n",
       "        text-align: right;\n",
       "    }\n",
       "</style>\n",
       "<table border=\"1\" class=\"dataframe\">\n",
       "  <thead>\n",
       "    <tr style=\"text-align: right;\">\n",
       "      <th></th>\n",
       "      <th>True</th>\n",
       "      <th>True</th>\n",
       "      <th>False</th>\n",
       "      <th>False</th>\n",
       "    </tr>\n",
       "  </thead>\n",
       "  <tbody>\n",
       "    <tr>\n",
       "      <th>0</th>\n",
       "      <td>a</td>\n",
       "      <td>z</td>\n",
       "      <td>1</td>\n",
       "      <td>10</td>\n",
       "    </tr>\n",
       "    <tr>\n",
       "      <th>1</th>\n",
       "      <td>b</td>\n",
       "      <td>y</td>\n",
       "      <td>2</td>\n",
       "      <td>9</td>\n",
       "    </tr>\n",
       "  </tbody>\n",
       "</table>\n",
       "</div>"
      ],
      "text/plain": [
       "  True  True   False  False\n",
       "0     a     z      1     10\n",
       "1     b     y      2      9"
      ]
     },
     "execution_count": 36,
     "metadata": {},
     "output_type": "execute_result"
    }
   ],
   "source": [
    "df[[True, True, False, False]]"
   ]
  },
  {
   "cell_type": "code",
   "execution_count": 37,
   "metadata": {},
   "outputs": [],
   "source": [
    "# df[[True, False]]"
   ]
  },
  {
   "cell_type": "code",
   "execution_count": 38,
   "metadata": {},
   "outputs": [],
   "source": [
    "def trick_bool():\n",
    "    \"\"\"\n",
    "     Answers the question in the write-up\n",
    "    :return: a list with three letters\n",
    "    >>> ans =  trick_bool()\n",
    "    >>> isinstance(ans, list)\n",
    "    True\n",
    "    >>> isinstance(ans[1], str)\n",
    "    True\n",
    "    \"\"\"\n",
    "    return ['D','J','M']"
   ]
  },
  {
   "cell_type": "code",
   "execution_count": 39,
   "metadata": {},
   "outputs": [],
   "source": [
    "ans =  trick_bool()"
   ]
  },
  {
   "cell_type": "code",
   "execution_count": 40,
   "metadata": {},
   "outputs": [
    {
     "data": {
      "text/plain": [
       "True"
      ]
     },
     "execution_count": 40,
     "metadata": {},
     "output_type": "execute_result"
    }
   ],
   "source": [
    "isinstance(ans[1], str)"
   ]
  },
  {
   "cell_type": "code",
   "execution_count": 41,
   "metadata": {},
   "outputs": [],
   "source": [
    "def reason_bool():\n",
    "    \"\"\"\n",
    "    Answers the question in the write-up\n",
    "    :return: a letter\n",
    "    >>> ans =  reason_bool()\n",
    "    >>> ans == 'A' or ans == 'B' or ans == \"C\" or ans ==\"D\"\n",
    "    True\n",
    "\n",
    "    \"\"\"\n",
    "    return 'D'"
   ]
  },
  {
   "cell_type": "code",
   "execution_count": 42,
   "metadata": {},
   "outputs": [
    {
     "data": {
      "text/plain": [
       "True"
      ]
     },
     "execution_count": 42,
     "metadata": {},
     "output_type": "execute_result"
    }
   ],
   "source": [
    "ans =  reason_bool()\n",
    "ans == 'A' or ans == 'B' or ans == \"C\" or ans ==\"D\""
   ]
  },
  {
   "cell_type": "markdown",
   "metadata": {},
   "source": [
    "---\n",
    "**Question 3 : np.NaN in a dataframe**\n",
    "\n",
    "\n",
    "In the notebook, use the code given below to create a dataframe called `nans`. Note that we use `np.NaN` (`numpy`'s representation of 'Not a Number') to create missing values.\n",
    " \n",
    "```\n",
    "nans = pd.DataFrame([[0,1,np.NaN], [np.NaN, np.NaN, np.NaN], [1, 2, 3]])\n",
    "```\n",
    "Now you decided to make your dataset more readable for people who do not understand `NaN` and replace it with a `MISSING` string instead. In order to do that you wrote the following function:\n",
    "\n",
    "```\n",
    "def change(x):\n",
    "    if x == np.NaN:\n",
    "        return \"MISSING\"\n",
    "    else:\n",
    "        return x\n",
    "```\n",
    "\n",
    "* Write a line of code that applies the function above to the last column of the `nans` dataframe. \n",
    "* What was a result?\n",
    "    * A: It worked: all np.NaNs in the last columns where changed to \"MISSING\"\n",
    "    * B: It did not work: does not matter how I tried, the NaN values were not changed.\n",
    "    \n",
    "I expect you to answer `B` here. What had happened? Turns out, you can't use simple comparison `==` to detect if a value is `np.NaN`. You need to use another way to compare a variable to a `np.NaN`, read about it [here](https://stackoverflow.com/questions/41342609/the-difference-between-comparison-to-np-nan-and-isnull)\n",
    "\n",
    "1. Modify the function `change` above to work as expected.\n",
    "2. Write method `correct_replacement` that takes in a dataframe like `nans` and returns a modified dataframe, where all the `NaN` are replaced with `\"MISSING\"`. Use your corrected version of `change` to do this. **The pandas function .fillna is not allowed in this question.** \n"
   ]
  },
  {
   "cell_type": "code",
   "execution_count": 43,
   "metadata": {},
   "outputs": [],
   "source": [
    "nans = pd.DataFrame([[0,1,np.NaN], [np.NaN, np.NaN, np.NaN], [1, 2, 3]])"
   ]
  },
  {
   "cell_type": "code",
   "execution_count": 44,
   "metadata": {},
   "outputs": [],
   "source": [
    "def change(x):\n",
    "    \"\"\"\n",
    "    Returns 'MISSING' when x is `NaN`,\n",
    "    Otherwise returns x\n",
    "    >>> change(1.0) == 1.0\n",
    "    True\n",
    "    >>> change(np.NaN) == 'MISSING'\n",
    "    True\n",
    "    \"\"\"\n",
    "    if np.isnan(x) == True:\n",
    "        return \"MISSING\"\n",
    "    else:\n",
    "        return x"
   ]
  },
  {
   "cell_type": "code",
   "execution_count": 45,
   "metadata": {},
   "outputs": [
    {
     "data": {
      "text/plain": [
       "True"
      ]
     },
     "execution_count": 45,
     "metadata": {},
     "output_type": "execute_result"
    }
   ],
   "source": [
    "change(1.0) == 1.0"
   ]
  },
  {
   "cell_type": "code",
   "execution_count": 46,
   "metadata": {},
   "outputs": [
    {
     "data": {
      "text/plain": [
       "True"
      ]
     },
     "execution_count": 46,
     "metadata": {},
     "output_type": "execute_result"
    }
   ],
   "source": [
    "change(np.NaN) == 'MISSING'"
   ]
  },
  {
   "cell_type": "code",
   "execution_count": 47,
   "metadata": {},
   "outputs": [
    {
     "data": {
      "text/plain": [
       "0    MISSING\n",
       "1    MISSING\n",
       "2        3.0\n",
       "Name: 2, dtype: object"
      ]
     },
     "execution_count": 47,
     "metadata": {},
     "output_type": "execute_result"
    }
   ],
   "source": [
    "nans[2].apply(change)"
   ]
  },
  {
   "cell_type": "code",
   "execution_count": 48,
   "metadata": {},
   "outputs": [],
   "source": [
    "def correct_replacement(nans):\n",
    "    \"\"\"\n",
    "    changes all np.NaNs to \"Missing\"\n",
    "    :param nans: given dataframe\n",
    "    :return: modified dataframe\n",
    "    >>> nans = pd.DataFrame([[0,1,np.NaN], [np.NaN, np.NaN, np.NaN], [1, 2, 3]])\n",
    "    >>> A = correct_replacement(nans)\n",
    "    >>> (A.values == 'MISSING').sum() == 4\n",
    "    True\n",
    "    \"\"\"\n",
    "    for col in nans.columns:\n",
    "        nans[col] = nans[col].apply(change)\n",
    "    return nans"
   ]
  },
  {
   "cell_type": "code",
   "execution_count": 49,
   "metadata": {},
   "outputs": [
    {
     "data": {
      "text/html": [
       "<div>\n",
       "<style scoped>\n",
       "    .dataframe tbody tr th:only-of-type {\n",
       "        vertical-align: middle;\n",
       "    }\n",
       "\n",
       "    .dataframe tbody tr th {\n",
       "        vertical-align: top;\n",
       "    }\n",
       "\n",
       "    .dataframe thead th {\n",
       "        text-align: right;\n",
       "    }\n",
       "</style>\n",
       "<table border=\"1\" class=\"dataframe\">\n",
       "  <thead>\n",
       "    <tr style=\"text-align: right;\">\n",
       "      <th></th>\n",
       "      <th>0</th>\n",
       "      <th>1</th>\n",
       "      <th>2</th>\n",
       "    </tr>\n",
       "  </thead>\n",
       "  <tbody>\n",
       "    <tr>\n",
       "      <th>0</th>\n",
       "      <td>0.0</td>\n",
       "      <td>1.0</td>\n",
       "      <td>NaN</td>\n",
       "    </tr>\n",
       "    <tr>\n",
       "      <th>1</th>\n",
       "      <td>NaN</td>\n",
       "      <td>NaN</td>\n",
       "      <td>NaN</td>\n",
       "    </tr>\n",
       "    <tr>\n",
       "      <th>2</th>\n",
       "      <td>1.0</td>\n",
       "      <td>2.0</td>\n",
       "      <td>3.0</td>\n",
       "    </tr>\n",
       "  </tbody>\n",
       "</table>\n",
       "</div>"
      ],
      "text/plain": [
       "     0    1    2\n",
       "0  0.0  1.0  NaN\n",
       "1  NaN  NaN  NaN\n",
       "2  1.0  2.0  3.0"
      ]
     },
     "execution_count": 49,
     "metadata": {},
     "output_type": "execute_result"
    }
   ],
   "source": [
    "nans = pd.DataFrame([[0,1,np.NaN], [np.NaN, np.NaN, np.NaN], [1, 2, 3]])\n",
    "nans"
   ]
  },
  {
   "cell_type": "code",
   "execution_count": 50,
   "metadata": {},
   "outputs": [
    {
     "data": {
      "text/html": [
       "<div>\n",
       "<style scoped>\n",
       "    .dataframe tbody tr th:only-of-type {\n",
       "        vertical-align: middle;\n",
       "    }\n",
       "\n",
       "    .dataframe tbody tr th {\n",
       "        vertical-align: top;\n",
       "    }\n",
       "\n",
       "    .dataframe thead th {\n",
       "        text-align: right;\n",
       "    }\n",
       "</style>\n",
       "<table border=\"1\" class=\"dataframe\">\n",
       "  <thead>\n",
       "    <tr style=\"text-align: right;\">\n",
       "      <th></th>\n",
       "      <th>0</th>\n",
       "      <th>1</th>\n",
       "      <th>2</th>\n",
       "    </tr>\n",
       "  </thead>\n",
       "  <tbody>\n",
       "    <tr>\n",
       "      <th>0</th>\n",
       "      <td>0.0</td>\n",
       "      <td>1.0</td>\n",
       "      <td>MISSING</td>\n",
       "    </tr>\n",
       "    <tr>\n",
       "      <th>1</th>\n",
       "      <td>MISSING</td>\n",
       "      <td>MISSING</td>\n",
       "      <td>MISSING</td>\n",
       "    </tr>\n",
       "    <tr>\n",
       "      <th>2</th>\n",
       "      <td>1.0</td>\n",
       "      <td>2.0</td>\n",
       "      <td>3.0</td>\n",
       "    </tr>\n",
       "  </tbody>\n",
       "</table>\n",
       "</div>"
      ],
      "text/plain": [
       "         0        1        2\n",
       "0      0.0      1.0  MISSING\n",
       "1  MISSING  MISSING  MISSING\n",
       "2      1.0      2.0      3.0"
      ]
     },
     "execution_count": 50,
     "metadata": {},
     "output_type": "execute_result"
    }
   ],
   "source": [
    "A = correct_replacement(nans)\n",
    "A"
   ]
  },
  {
   "cell_type": "code",
   "execution_count": 51,
   "metadata": {},
   "outputs": [
    {
     "data": {
      "text/plain": [
       "True"
      ]
     },
     "execution_count": 51,
     "metadata": {},
     "output_type": "execute_result"
    }
   ],
   "source": [
    "(A.values == 'MISSING').sum() == 4"
   ]
  },
  {
   "cell_type": "markdown",
   "metadata": {},
   "source": [
    "---\n",
    "\n",
    "### Summary Statistics\n",
    "\n",
    "**Question 4**\n",
    "\n",
    "In this question you will create two general purpose functions that make it easy to 'qualitatively' assess the contents of a dataframe.\n",
    "\n",
    "1. Create a function `population_stats` which takes in a dataframe `df` and returns a dataframe indexed by the columns of `df`, with the following columns:\n",
    "    * `num_nonnull` contains the number of non-null entries in each column,\n",
    "    * `pct_nonnull` contains the proportion of entries in each column that are non-null,\n",
    "    * `num_distinct` contains the number of distinct entries in each column,\n",
    "    * `pct_distinct` contains the proportion of (non-null) entries in each column that are distinct from each other.\n",
    "    \n",
    "*Note*: you may find the `.nunique()` series method useful.\n",
    "\n",
    "*Note*: The number of distinct entries does not include nulls.\n",
    "    \n",
    "2. Create a function `most_common` which takes in a dataframe `df` and a number `N` and returns a dataframe of the `N` most-common values (and their counts) for each column of `df`. Any column with fewer than `N` distinct values should contain `NaN` in those entries. \n",
    "\n",
    "*Note*: you can loop through the *columns* of `df` to construct your output. You should **not** be looping through rows.\n",
    "\n",
    "For example, for the subset of the `salaries` dataframe with columns 'Job Title' and 'Status' from lecture one (left), `most_common(salaries, N=5)` is given (right). \n",
    "\n",
    "<table><tr>\n",
    "    <td><img src=\"data/imgs/dataframe.png\" width=\"70%\"/></td>\n",
    "    <td><img src=\"data/imgs/most_common.png\" width=\"70%\"/></td>\n",
    "</tr></table>"
   ]
  },
  {
   "cell_type": "code",
   "execution_count": 52,
   "metadata": {},
   "outputs": [],
   "source": [
    "def population_stats(df):\n",
    "    \"\"\"\n",
    "    population_stats which takes in a dataframe df\n",
    "    and returns a dataframe indexed by the columns\n",
    "    of df, with the following columns:\n",
    "        - `num_nonnull` contains the number of non-null\n",
    "          entries in each column,\n",
    "        - `pct_nonnull` contains the proportion of entries\n",
    "          in each column that are non-null,\n",
    "        - `num_distinct` contains the number of distinct\n",
    "          entries in each column,\n",
    "        - `pct_distinct` contains the proportion of (non-null)\n",
    "          entries in each column that are distinct from each other.\n",
    "\n",
    "    :Example:\n",
    "    >>> data = np.random.choice(range(10), size=(100, 4))\n",
    "    >>> df = pd.DataFrame(data, columns='A B C D'.split())\n",
    "    >>> out = population_stats(df)\n",
    "    >>> out.index.tolist() == ['A', 'B', 'C', 'D']\n",
    "    True\n",
    "    >>> cols = ['num_nonnull', 'pct_nonnull', 'num_distinct', 'pct_distinct']\n",
    "    >>> out.columns.tolist() == cols\n",
    "    True\n",
    "    >>> (out['num_distinct'] <= 10).all()\n",
    "    True\n",
    "    >>> (out['pct_nonnull'] == 1.0).all()\n",
    "    True\n",
    "    \"\"\"\n",
    "    num1 = df.count()\n",
    "    pct1 = num1 / len(df.index)\n",
    "    num2 = df.nunique() \n",
    "    pct2 = num2 / num1\n",
    "    return pd.DataFrame({\"num_nonnull\":num1, \"pct_nonnull\":pct1, \"num_distinct\":num2, \"pct_distinct\":pct2},index=df.columns)"
   ]
  },
  {
   "cell_type": "code",
   "execution_count": 53,
   "metadata": {},
   "outputs": [
    {
     "data": {
      "text/html": [
       "<div>\n",
       "<style scoped>\n",
       "    .dataframe tbody tr th:only-of-type {\n",
       "        vertical-align: middle;\n",
       "    }\n",
       "\n",
       "    .dataframe tbody tr th {\n",
       "        vertical-align: top;\n",
       "    }\n",
       "\n",
       "    .dataframe thead th {\n",
       "        text-align: right;\n",
       "    }\n",
       "</style>\n",
       "<table border=\"1\" class=\"dataframe\">\n",
       "  <thead>\n",
       "    <tr style=\"text-align: right;\">\n",
       "      <th></th>\n",
       "      <th>num_nonnull</th>\n",
       "      <th>pct_nonnull</th>\n",
       "      <th>num_distinct</th>\n",
       "      <th>pct_distinct</th>\n",
       "    </tr>\n",
       "  </thead>\n",
       "  <tbody>\n",
       "    <tr>\n",
       "      <th>A</th>\n",
       "      <td>100</td>\n",
       "      <td>1.0</td>\n",
       "      <td>10</td>\n",
       "      <td>0.1</td>\n",
       "    </tr>\n",
       "    <tr>\n",
       "      <th>B</th>\n",
       "      <td>100</td>\n",
       "      <td>1.0</td>\n",
       "      <td>10</td>\n",
       "      <td>0.1</td>\n",
       "    </tr>\n",
       "    <tr>\n",
       "      <th>C</th>\n",
       "      <td>100</td>\n",
       "      <td>1.0</td>\n",
       "      <td>10</td>\n",
       "      <td>0.1</td>\n",
       "    </tr>\n",
       "    <tr>\n",
       "      <th>D</th>\n",
       "      <td>100</td>\n",
       "      <td>1.0</td>\n",
       "      <td>10</td>\n",
       "      <td>0.1</td>\n",
       "    </tr>\n",
       "  </tbody>\n",
       "</table>\n",
       "</div>"
      ],
      "text/plain": [
       "   num_nonnull  pct_nonnull  num_distinct  pct_distinct\n",
       "A          100          1.0            10           0.1\n",
       "B          100          1.0            10           0.1\n",
       "C          100          1.0            10           0.1\n",
       "D          100          1.0            10           0.1"
      ]
     },
     "execution_count": 53,
     "metadata": {},
     "output_type": "execute_result"
    }
   ],
   "source": [
    "data = np.random.choice(range(10), size=(100, 4))\n",
    "df = pd.DataFrame(data, columns='A B C D'.split())\n",
    "out = population_stats(df)\n",
    "out"
   ]
  },
  {
   "cell_type": "code",
   "execution_count": 54,
   "metadata": {},
   "outputs": [
    {
     "data": {
      "text/plain": [
       "True"
      ]
     },
     "execution_count": 54,
     "metadata": {},
     "output_type": "execute_result"
    }
   ],
   "source": [
    "out.index.tolist() == ['A', 'B', 'C', 'D']"
   ]
  },
  {
   "cell_type": "code",
   "execution_count": 55,
   "metadata": {},
   "outputs": [
    {
     "data": {
      "text/plain": [
       "True"
      ]
     },
     "execution_count": 55,
     "metadata": {},
     "output_type": "execute_result"
    }
   ],
   "source": [
    "cols = ['num_nonnull', 'pct_nonnull', 'num_distinct', 'pct_distinct']\n",
    "out.columns.tolist() == cols"
   ]
  },
  {
   "cell_type": "code",
   "execution_count": 56,
   "metadata": {},
   "outputs": [
    {
     "data": {
      "text/plain": [
       "True"
      ]
     },
     "execution_count": 56,
     "metadata": {},
     "output_type": "execute_result"
    }
   ],
   "source": [
    "(out['num_distinct'] <= 10).all()"
   ]
  },
  {
   "cell_type": "code",
   "execution_count": 57,
   "metadata": {},
   "outputs": [
    {
     "data": {
      "text/plain": [
       "True"
      ]
     },
     "execution_count": 57,
     "metadata": {},
     "output_type": "execute_result"
    }
   ],
   "source": [
    "(out['pct_nonnull'] == 1.0).all()"
   ]
  },
  {
   "cell_type": "code",
   "execution_count": 132,
   "metadata": {},
   "outputs": [],
   "source": [
    "def most_common(df, N=10):\n",
    "    \"\"\"\n",
    "    `most_common` which takes in a dataframe df and returns\n",
    "    a dataframe of the N most-common values (and their counts)\n",
    "    for each column of df.\n",
    "\n",
    "    :param df: input dataframe.\n",
    "    :param N: number of most common elements to return (default 10)\n",
    ".\n",
    "    :Example:\n",
    "    >>> data = np.random.choice(range(10), size=(100, 2))\n",
    "    >>> df = pd.DataFrame(data, columns='A B'.split())\n",
    "    >>> out = most_common(df, N=3)\n",
    "    >>> out.index.tolist() == [0, 1, 2]\n",
    "    True\n",
    "    >>> out.columns.tolist() == ['A_values', 'A_counts', 'B_values', 'B_counts']\n",
    "    True\n",
    "    >>> out['A_values'].isin(range(10)).all()\n",
    "    True\n",
    "    \"\"\"\n",
    "    df_dict = {}\n",
    "    for col in df.columns:\n",
    "        col_df = df[col].value_counts()[:N].reset_index()\n",
    "        \n",
    "        val_format = '{}_values'.format(col)\n",
    "        val = col_df.index\n",
    "        df_dict[val_format] = val\n",
    "        \n",
    "        count_format = '{}_counts'.format(col)\n",
    "        count = col_df[col]\n",
    "        df_dict[count_format] = count\n",
    "    return pd.DataFrame(df_dict)"
   ]
  },
  {
   "cell_type": "code",
   "execution_count": 133,
   "metadata": {},
   "outputs": [
    {
     "data": {
      "text/html": [
       "<div>\n",
       "<style scoped>\n",
       "    .dataframe tbody tr th:only-of-type {\n",
       "        vertical-align: middle;\n",
       "    }\n",
       "\n",
       "    .dataframe tbody tr th {\n",
       "        vertical-align: top;\n",
       "    }\n",
       "\n",
       "    .dataframe thead th {\n",
       "        text-align: right;\n",
       "    }\n",
       "</style>\n",
       "<table border=\"1\" class=\"dataframe\">\n",
       "  <thead>\n",
       "    <tr style=\"text-align: right;\">\n",
       "      <th></th>\n",
       "      <th>A_values</th>\n",
       "      <th>A_counts</th>\n",
       "      <th>B_values</th>\n",
       "      <th>B_counts</th>\n",
       "    </tr>\n",
       "  </thead>\n",
       "  <tbody>\n",
       "    <tr>\n",
       "      <th>0</th>\n",
       "      <td>0</td>\n",
       "      <td>16</td>\n",
       "      <td>0</td>\n",
       "      <td>15</td>\n",
       "    </tr>\n",
       "    <tr>\n",
       "      <th>1</th>\n",
       "      <td>1</td>\n",
       "      <td>14</td>\n",
       "      <td>1</td>\n",
       "      <td>14</td>\n",
       "    </tr>\n",
       "    <tr>\n",
       "      <th>2</th>\n",
       "      <td>2</td>\n",
       "      <td>12</td>\n",
       "      <td>2</td>\n",
       "      <td>13</td>\n",
       "    </tr>\n",
       "  </tbody>\n",
       "</table>\n",
       "</div>"
      ],
      "text/plain": [
       "   A_values  A_counts  B_values  B_counts\n",
       "0         0        16         0        15\n",
       "1         1        14         1        14\n",
       "2         2        12         2        13"
      ]
     },
     "execution_count": 133,
     "metadata": {},
     "output_type": "execute_result"
    }
   ],
   "source": [
    "data = np.random.choice(range(10), size=(100, 2))\n",
    "df = pd.DataFrame(data, columns='A B'.split())\n",
    "out = most_common(df, N=3)\n",
    "out"
   ]
  },
  {
   "cell_type": "code",
   "execution_count": 60,
   "metadata": {},
   "outputs": [
    {
     "data": {
      "text/html": [
       "<div>\n",
       "<style scoped>\n",
       "    .dataframe tbody tr th:only-of-type {\n",
       "        vertical-align: middle;\n",
       "    }\n",
       "\n",
       "    .dataframe tbody tr th {\n",
       "        vertical-align: top;\n",
       "    }\n",
       "\n",
       "    .dataframe thead th {\n",
       "        text-align: right;\n",
       "    }\n",
       "</style>\n",
       "<table border=\"1\" class=\"dataframe\">\n",
       "  <thead>\n",
       "    <tr style=\"text-align: right;\">\n",
       "      <th></th>\n",
       "      <th>index</th>\n",
       "      <th>A</th>\n",
       "    </tr>\n",
       "  </thead>\n",
       "  <tbody>\n",
       "    <tr>\n",
       "      <th>0</th>\n",
       "      <td>3</td>\n",
       "      <td>17</td>\n",
       "    </tr>\n",
       "    <tr>\n",
       "      <th>1</th>\n",
       "      <td>7</td>\n",
       "      <td>17</td>\n",
       "    </tr>\n",
       "    <tr>\n",
       "      <th>2</th>\n",
       "      <td>5</td>\n",
       "      <td>12</td>\n",
       "    </tr>\n",
       "  </tbody>\n",
       "</table>\n",
       "</div>"
      ],
      "text/plain": [
       "   index   A\n",
       "0      3  17\n",
       "1      7  17\n",
       "2      5  12"
      ]
     },
     "execution_count": 60,
     "metadata": {},
     "output_type": "execute_result"
    }
   ],
   "source": [
    "# data = np.random.choice(range(10), size=(100, 2))\n",
    "# df = pd.DataFrame(data, columns='A B'.split())\n",
    "# df = df.A.value_counts()[:3].reset_index()\n",
    "# df"
   ]
  },
  {
   "cell_type": "code",
   "execution_count": 61,
   "metadata": {},
   "outputs": [
    {
     "data": {
      "text/plain": [
       "True"
      ]
     },
     "execution_count": 61,
     "metadata": {},
     "output_type": "execute_result"
    }
   ],
   "source": [
    "out.index.tolist() == [0, 1, 2]"
   ]
  },
  {
   "cell_type": "code",
   "execution_count": 62,
   "metadata": {},
   "outputs": [
    {
     "data": {
      "text/plain": [
       "True"
      ]
     },
     "execution_count": 62,
     "metadata": {},
     "output_type": "execute_result"
    }
   ],
   "source": [
    "out.columns.tolist() == ['A_values', 'A_counts', 'B_values', 'B_counts']"
   ]
  },
  {
   "cell_type": "code",
   "execution_count": 63,
   "metadata": {},
   "outputs": [
    {
     "data": {
      "text/plain": [
       "True"
      ]
     },
     "execution_count": 63,
     "metadata": {},
     "output_type": "execute_result"
    }
   ],
   "source": [
    "out['A_values'].isin(range(10)).all()"
   ]
  },
  {
   "cell_type": "markdown",
   "metadata": {},
   "source": [
    "## Faulty Scooters\n",
    "\n",
    "**Question 5**\n",
    "\n",
    "A new electric scooter company 'Maxwell Scooters' opened a retail shop in La Jolla recently and 300 UCSD students bought new scooters for getting around campus. After 8 students start complaining their scooters are faulty, negative on-line reviews for the scooters start to spread. In response, the scooter company adamantly claims that 99% of their scooters come off the production line working properly. You think this seems unlikely and decide to investigate.\n",
    "\n",
    "* Select a significance level for you investigation. (Not to be turned in)\n",
    "* What are reasonable choices for the *Null Hypothesis* for your investigation? Select all that apply:\n",
    "    1. The scooter company produces scooters that are 99% non-faulty.\n",
    "    2. The scooter company produces scooters that are less than 99% non-faulty.\n",
    "    3. The scooter company produces scooters that are at least 1% faulty.\n",
    "    4. The scooter company produces scooters that are ~2.6% faulty.\n",
    "\n",
    "Return your answer in a function `null_hypoth` that takes zero arguments.\n",
    "\n",
    "* Create a function `simulate_null` simulates a single step of data generation under the null hypothesis. The function should return a binary array.\n",
    "\n",
    "* Create a function `estimate_p_val` that takes in a number `N` and returns the estimated p-value of your investigation upon simulating the null hypothesis `N` times.\n",
    "\n",
    "*Note*: Plot the Null distribution and your observed statistic to check your work."
   ]
  },
  {
   "cell_type": "code",
   "execution_count": 64,
   "metadata": {},
   "outputs": [],
   "source": [
    "def null_hypoth():\n",
    "    \"\"\"\n",
    "    :Example:\n",
    "    >>> isinstance(null_hypoth(), list)\n",
    "    True\n",
    "    >>> set(null_hypoth()).issubset({1,2,3,4})\n",
    "    True\n",
    "    \"\"\"\n",
    "    return [1]"
   ]
  },
  {
   "cell_type": "code",
   "execution_count": 65,
   "metadata": {},
   "outputs": [
    {
     "data": {
      "text/plain": [
       "True"
      ]
     },
     "execution_count": 65,
     "metadata": {},
     "output_type": "execute_result"
    }
   ],
   "source": [
    "isinstance(null_hypoth(), list)"
   ]
  },
  {
   "cell_type": "code",
   "execution_count": 66,
   "metadata": {},
   "outputs": [
    {
     "data": {
      "text/plain": [
       "True"
      ]
     },
     "execution_count": 66,
     "metadata": {},
     "output_type": "execute_result"
    }
   ],
   "source": [
    "set(null_hypoth()).issubset({1,2,3,4})"
   ]
  },
  {
   "cell_type": "code",
   "execution_count": 67,
   "metadata": {},
   "outputs": [],
   "source": [
    "def simulate_null():\n",
    "    \"\"\"\n",
    "    :Example:\n",
    "    >>> pd.Series(simulate_null()).isin([0,1]).all()\n",
    "    True\n",
    "    \"\"\"\n",
    "    return np.random.choice([0, 1], size=300, p=[.01, .99])"
   ]
  },
  {
   "cell_type": "code",
   "execution_count": 68,
   "metadata": {},
   "outputs": [
    {
     "data": {
      "text/plain": [
       "True"
      ]
     },
     "execution_count": 68,
     "metadata": {},
     "output_type": "execute_result"
    }
   ],
   "source": [
    "pd.Series(simulate_null()).isin([0,1]).all()"
   ]
  },
  {
   "cell_type": "code",
   "execution_count": 69,
   "metadata": {},
   "outputs": [],
   "source": [
    "def estimate_p_val(N):\n",
    "    \"\"\"\n",
    "    >>> 0 < estimate_p_val(1000) < 0.1\n",
    "    True\n",
    "    \"\"\"\n",
    "    count = 0\n",
    "    for run in range(N):\n",
    "        sim = simulate_null()\n",
    "        if sim.tolist().count(0) >= 8:\n",
    "            count += 1\n",
    "    return count / N"
   ]
  },
  {
   "cell_type": "code",
   "execution_count": 70,
   "metadata": {},
   "outputs": [
    {
     "data": {
      "text/plain": [
       "0.009"
      ]
     },
     "execution_count": 70,
     "metadata": {},
     "output_type": "execute_result"
    }
   ],
   "source": [
    "estimate_p_val(1000)"
   ]
  },
  {
   "cell_type": "code",
   "execution_count": 71,
   "metadata": {},
   "outputs": [
    {
     "data": {
      "text/plain": [
       "True"
      ]
     },
     "execution_count": 71,
     "metadata": {},
     "output_type": "execute_result"
    }
   ],
   "source": [
    "0 < estimate_p_val(1000) < 0.1"
   ]
  },
  {
   "cell_type": "markdown",
   "metadata": {},
   "source": [
    "# Super-Heroes\n",
    "\n",
    "The questions below analyze a dataset of super-heroes found in the `data` directory. One of the datasets have a list of attributes on each super-hero, while the other is a *boolean* dataframe of which super-heroes have which super-powers. Note, the datasets contain information on both *good* super-heroes, as well as *bad* super-heroes (AKA villains). "
   ]
  },
  {
   "cell_type": "markdown",
   "metadata": {},
   "source": [
    "### Super-hero powers\n",
    "\n",
    "**Question 6**\n",
    "\n",
    "Now read in the dataset of super-hero powers in the `data` directory. Create a function `super_hero_powers` that takes in a dataframe like `powers` and returns a list with the following three entries:\n",
    "\n",
    "1. The name of the super-hero with the greatest number of powers.\n",
    "2. The name of the most common super-power among super-heroes whose names begin with 'M'.\n",
    "3. The most popular super-power among those with only one super-power.\n",
    "\n",
    "You should *not* be hard-coding your answers in this question; your function should work on any dataset similar to `powers`. You should not be using loops in this question.\n",
    "\n",
    "*Note:* You may find the `.idxmax` method useful in this problem."
   ]
  },
  {
   "cell_type": "code",
   "execution_count": 72,
   "metadata": {},
   "outputs": [],
   "source": [
    "powers_fp = os.path.join('data', 'superheroes_powers.csv')\n",
    "powers = pd.read_csv(powers_fp)"
   ]
  },
  {
   "cell_type": "code",
   "execution_count": 73,
   "metadata": {},
   "outputs": [],
   "source": [
    "def super_hero_powers(powers):\n",
    "    \"\"\"\n",
    "    `super_hero_powers` takes in a dataframe like\n",
    "    powers and returns a list with the following three entries:\n",
    "        - The name of the super-hero with the greatest number of powers.\n",
    "        - The name of the most common super-power among super-heroes whose names begin with 'M'.\n",
    "        - The most popular super-power among those with only one super-power.\n",
    "\n",
    "    :Example:\n",
    "    >>> fp = os.path.join('data', 'superheroes_powers.csv')\n",
    "    >>> powers = pd.read_csv(fp)\n",
    "    >>> out = super_hero_powers(powers)\n",
    "    >>> isinstance(out, list)\n",
    "    True\n",
    "    >>> len(out)\n",
    "    3\n",
    "    >>> all([isinstance(x, str) for x in out])\n",
    "    True\n",
    "    \"\"\"\n",
    "    \n",
    "    op_hero_ind = powers[powers==True].count(axis=1).nlargest(5).index[0]\n",
    "    op_hero = powers.iloc[op_hero_ind].values[0]\n",
    "    \n",
    "    m_df = powers.loc[powers.hero_names.str[0] == 'M']\n",
    "    m_most_common = m_df[m_df==True].count().nlargest(1).index[0]\n",
    "    \n",
    "    # filter for those with only 1 true then run same code as heroes whose names begins with m\n",
    "    #df_index_reset = powers.reset_index()\n",
    "    tf_df = powers.drop('hero_names', axis=1)\n",
    "    one_power = tf_df.loc[tf_df.sum(axis=1) == 1]\n",
    "    common_one_power = one_power[one_power==True].count().nlargest(1).index[0]\n",
    "    \n",
    "    return [op_hero, m_most_common, common_one_power]"
   ]
  },
  {
   "cell_type": "code",
   "execution_count": 74,
   "metadata": {},
   "outputs": [
    {
     "data": {
      "text/plain": [
       "['Spectre', 'Super Strength', 'Intelligence']"
      ]
     },
     "execution_count": 74,
     "metadata": {},
     "output_type": "execute_result"
    }
   ],
   "source": [
    "fp = os.path.join('data', 'superheroes_powers.csv')\n",
    "powers = pd.read_csv(fp)\n",
    "out = super_hero_powers(powers)\n",
    "out"
   ]
  },
  {
   "cell_type": "code",
   "execution_count": 75,
   "metadata": {},
   "outputs": [],
   "source": [
    "# op_hero_ind = powers[powers==True].count(axis=1).nlargest(5).index[0]\n",
    "# powers.iloc[op_hero_ind].values[0]"
   ]
  },
  {
   "cell_type": "code",
   "execution_count": 76,
   "metadata": {},
   "outputs": [],
   "source": [
    "# m_df = powers.loc[powers.hero_names.str[0] == 'M']\n",
    "# m_df[m_df==True].count().nlargest(1).index[0]"
   ]
  },
  {
   "cell_type": "code",
   "execution_count": 77,
   "metadata": {},
   "outputs": [],
   "source": [
    "# tf_df = powers.drop('hero_names', axis=1)\n",
    "# one_power = tf_df.loc[tf_df.sum(axis=1) == 1]\n",
    "# common_one_power = one_power[one_power==True].count().nlargest(1).index[0]"
   ]
  },
  {
   "cell_type": "code",
   "execution_count": 78,
   "metadata": {},
   "outputs": [
    {
     "data": {
      "text/plain": [
       "True"
      ]
     },
     "execution_count": 78,
     "metadata": {},
     "output_type": "execute_result"
    }
   ],
   "source": [
    "isinstance(out, list)"
   ]
  },
  {
   "cell_type": "code",
   "execution_count": 79,
   "metadata": {},
   "outputs": [
    {
     "data": {
      "text/plain": [
       "3"
      ]
     },
     "execution_count": 79,
     "metadata": {},
     "output_type": "execute_result"
    }
   ],
   "source": [
    "len(out)"
   ]
  },
  {
   "cell_type": "code",
   "execution_count": 80,
   "metadata": {},
   "outputs": [
    {
     "data": {
      "text/plain": [
       "True"
      ]
     },
     "execution_count": 80,
     "metadata": {},
     "output_type": "execute_result"
    }
   ],
   "source": [
    "all([isinstance(x, str) for x in out])"
   ]
  },
  {
   "cell_type": "markdown",
   "metadata": {},
   "source": [
    "### Super-hero attributes\n",
    "\n",
    "Read in the dataset of super-hero attributes from the `data` directory. Use your summary functions from question 4 to help acquaint yourself with the dataset.\n",
    "\n",
    "**Question 7**\n",
    "\n",
    "Cleaning the data: the dataset has no explicit null (`np.NaN`) values, although many entries *should* be null. Replace these values with null by creating a function `clean_heroes`.\n",
    "\n",
    "Now answer the following questions, collecting your answers in a (function `super_hero_stats` that returns) a list. You should answer the questions using the *cleaned* super-heroes data; your answers *should* be hard-coded in the function.\n",
    "1. Which publisher has a greater proportion of 'bad' characters -- Marvel Comics or DC Comics?\n",
    "2. Give the number of characters that are NOT human, or the publisher is not Marvel Comics nor DC comics. For this question, only consider race \"Human\" as human, races such as \"Human / Radiation\" don't count as human.\n",
    "3. Give the name of the character that's both greater than one standard deviation above mean in height and at least one standard deviation below the mean in weight.\n",
    "4. Who is heavier on average: good or bad characters?\n",
    "5. What is the name of the tallest Mutant with no hair?\n",
    "6. What is the probability that a randomly chosen 'Marvel' character in the dataset is a woman?\n",
    "\n",
    "*Note:* Since your answers to these questions should be hard-coded, you should not include your code in your .py file. Just return a list with your answers.\n",
    "\n",
    "*Note:* Nan denotes an unknown value that does not count as an entry with any attributes."
   ]
  },
  {
   "cell_type": "code",
   "execution_count": 81,
   "metadata": {},
   "outputs": [],
   "source": [
    "superheroes_fp = os.path.join('data', 'superheroes.csv')\n",
    "heroes = pd.read_csv(superheroes_fp, index_col=0)"
   ]
  },
  {
   "cell_type": "code",
   "execution_count": 82,
   "metadata": {},
   "outputs": [
    {
     "data": {
      "text/html": [
       "<div>\n",
       "<style scoped>\n",
       "    .dataframe tbody tr th:only-of-type {\n",
       "        vertical-align: middle;\n",
       "    }\n",
       "\n",
       "    .dataframe tbody tr th {\n",
       "        vertical-align: top;\n",
       "    }\n",
       "\n",
       "    .dataframe thead th {\n",
       "        text-align: right;\n",
       "    }\n",
       "</style>\n",
       "<table border=\"1\" class=\"dataframe\">\n",
       "  <thead>\n",
       "    <tr style=\"text-align: right;\">\n",
       "      <th></th>\n",
       "      <th>name</th>\n",
       "      <th>Gender</th>\n",
       "      <th>Eye color</th>\n",
       "      <th>Race</th>\n",
       "      <th>Hair color</th>\n",
       "      <th>Height</th>\n",
       "      <th>Publisher</th>\n",
       "      <th>Skin color</th>\n",
       "      <th>Alignment</th>\n",
       "      <th>Weight</th>\n",
       "    </tr>\n",
       "  </thead>\n",
       "  <tbody>\n",
       "    <tr>\n",
       "      <th>0</th>\n",
       "      <td>A-Bomb</td>\n",
       "      <td>Male</td>\n",
       "      <td>yellow</td>\n",
       "      <td>Human</td>\n",
       "      <td>No Hair</td>\n",
       "      <td>203.0</td>\n",
       "      <td>Marvel Comics</td>\n",
       "      <td>-</td>\n",
       "      <td>good</td>\n",
       "      <td>441.0</td>\n",
       "    </tr>\n",
       "    <tr>\n",
       "      <th>1</th>\n",
       "      <td>Abe Sapien</td>\n",
       "      <td>Male</td>\n",
       "      <td>blue</td>\n",
       "      <td>Icthyo Sapien</td>\n",
       "      <td>No Hair</td>\n",
       "      <td>191.0</td>\n",
       "      <td>Dark Horse Comics</td>\n",
       "      <td>blue</td>\n",
       "      <td>good</td>\n",
       "      <td>65.0</td>\n",
       "    </tr>\n",
       "    <tr>\n",
       "      <th>2</th>\n",
       "      <td>Abin Sur</td>\n",
       "      <td>Male</td>\n",
       "      <td>blue</td>\n",
       "      <td>Ungaran</td>\n",
       "      <td>No Hair</td>\n",
       "      <td>185.0</td>\n",
       "      <td>DC Comics</td>\n",
       "      <td>red</td>\n",
       "      <td>good</td>\n",
       "      <td>90.0</td>\n",
       "    </tr>\n",
       "    <tr>\n",
       "      <th>3</th>\n",
       "      <td>Abomination</td>\n",
       "      <td>Male</td>\n",
       "      <td>green</td>\n",
       "      <td>Human / Radiation</td>\n",
       "      <td>No Hair</td>\n",
       "      <td>203.0</td>\n",
       "      <td>Marvel Comics</td>\n",
       "      <td>-</td>\n",
       "      <td>bad</td>\n",
       "      <td>441.0</td>\n",
       "    </tr>\n",
       "    <tr>\n",
       "      <th>4</th>\n",
       "      <td>Abraxas</td>\n",
       "      <td>Male</td>\n",
       "      <td>blue</td>\n",
       "      <td>Cosmic Entity</td>\n",
       "      <td>Black</td>\n",
       "      <td>-99.0</td>\n",
       "      <td>Marvel Comics</td>\n",
       "      <td>-</td>\n",
       "      <td>bad</td>\n",
       "      <td>-99.0</td>\n",
       "    </tr>\n",
       "    <tr>\n",
       "      <th>...</th>\n",
       "      <td>...</td>\n",
       "      <td>...</td>\n",
       "      <td>...</td>\n",
       "      <td>...</td>\n",
       "      <td>...</td>\n",
       "      <td>...</td>\n",
       "      <td>...</td>\n",
       "      <td>...</td>\n",
       "      <td>...</td>\n",
       "      <td>...</td>\n",
       "    </tr>\n",
       "    <tr>\n",
       "      <th>729</th>\n",
       "      <td>Yellowjacket II</td>\n",
       "      <td>Female</td>\n",
       "      <td>blue</td>\n",
       "      <td>Human</td>\n",
       "      <td>Strawberry Blond</td>\n",
       "      <td>165.0</td>\n",
       "      <td>Marvel Comics</td>\n",
       "      <td>-</td>\n",
       "      <td>good</td>\n",
       "      <td>52.0</td>\n",
       "    </tr>\n",
       "    <tr>\n",
       "      <th>730</th>\n",
       "      <td>Ymir</td>\n",
       "      <td>Male</td>\n",
       "      <td>white</td>\n",
       "      <td>Frost Giant</td>\n",
       "      <td>No Hair</td>\n",
       "      <td>304.8</td>\n",
       "      <td>Marvel Comics</td>\n",
       "      <td>white</td>\n",
       "      <td>good</td>\n",
       "      <td>-99.0</td>\n",
       "    </tr>\n",
       "    <tr>\n",
       "      <th>731</th>\n",
       "      <td>Yoda</td>\n",
       "      <td>Male</td>\n",
       "      <td>brown</td>\n",
       "      <td>Yoda's species</td>\n",
       "      <td>White</td>\n",
       "      <td>66.0</td>\n",
       "      <td>George Lucas</td>\n",
       "      <td>green</td>\n",
       "      <td>good</td>\n",
       "      <td>17.0</td>\n",
       "    </tr>\n",
       "    <tr>\n",
       "      <th>732</th>\n",
       "      <td>Zatanna</td>\n",
       "      <td>Female</td>\n",
       "      <td>blue</td>\n",
       "      <td>Human</td>\n",
       "      <td>Black</td>\n",
       "      <td>170.0</td>\n",
       "      <td>DC Comics</td>\n",
       "      <td>-</td>\n",
       "      <td>good</td>\n",
       "      <td>57.0</td>\n",
       "    </tr>\n",
       "    <tr>\n",
       "      <th>733</th>\n",
       "      <td>Zoom</td>\n",
       "      <td>Male</td>\n",
       "      <td>red</td>\n",
       "      <td>-</td>\n",
       "      <td>Brown</td>\n",
       "      <td>185.0</td>\n",
       "      <td>DC Comics</td>\n",
       "      <td>-</td>\n",
       "      <td>bad</td>\n",
       "      <td>81.0</td>\n",
       "    </tr>\n",
       "  </tbody>\n",
       "</table>\n",
       "<p>734 rows × 10 columns</p>\n",
       "</div>"
      ],
      "text/plain": [
       "                name  Gender Eye color               Race        Hair color  \\\n",
       "0             A-Bomb    Male    yellow              Human           No Hair   \n",
       "1         Abe Sapien    Male      blue      Icthyo Sapien           No Hair   \n",
       "2           Abin Sur    Male      blue            Ungaran           No Hair   \n",
       "3        Abomination    Male     green  Human / Radiation           No Hair   \n",
       "4            Abraxas    Male      blue      Cosmic Entity             Black   \n",
       "..               ...     ...       ...                ...               ...   \n",
       "729  Yellowjacket II  Female      blue              Human  Strawberry Blond   \n",
       "730             Ymir    Male     white        Frost Giant           No Hair   \n",
       "731             Yoda    Male     brown     Yoda's species             White   \n",
       "732          Zatanna  Female      blue              Human             Black   \n",
       "733             Zoom    Male       red                  -             Brown   \n",
       "\n",
       "     Height          Publisher Skin color Alignment  Weight  \n",
       "0     203.0      Marvel Comics          -      good   441.0  \n",
       "1     191.0  Dark Horse Comics       blue      good    65.0  \n",
       "2     185.0          DC Comics        red      good    90.0  \n",
       "3     203.0      Marvel Comics          -       bad   441.0  \n",
       "4     -99.0      Marvel Comics          -       bad   -99.0  \n",
       "..      ...                ...        ...       ...     ...  \n",
       "729   165.0      Marvel Comics          -      good    52.0  \n",
       "730   304.8      Marvel Comics      white      good   -99.0  \n",
       "731    66.0       George Lucas      green      good    17.0  \n",
       "732   170.0          DC Comics          -      good    57.0  \n",
       "733   185.0          DC Comics          -       bad    81.0  \n",
       "\n",
       "[734 rows x 10 columns]"
      ]
     },
     "execution_count": 82,
     "metadata": {},
     "output_type": "execute_result"
    }
   ],
   "source": [
    "heroes"
   ]
  },
  {
   "cell_type": "code",
   "execution_count": 83,
   "metadata": {},
   "outputs": [
    {
     "data": {
      "text/plain": [
       "numpy.float64"
      ]
     },
     "execution_count": 83,
     "metadata": {},
     "output_type": "execute_result"
    }
   ],
   "source": [
    "# heroes['Skin color'] = heroes['Skin color'].replace('-', np.NaN)\n",
    "# heroes\n",
    "type(heroes['Weight'].values[4])# = np.NaN\n",
    "#heroes"
   ]
  },
  {
   "cell_type": "code",
   "execution_count": 84,
   "metadata": {},
   "outputs": [
    {
     "data": {
      "text/plain": [
       "array(['No Hair', 'Black', 'Blond', 'Brown', '-', 'White', 'Purple',\n",
       "       'Orange', 'Pink', 'Red', 'Auburn', 'Strawberry Blond', 'black',\n",
       "       'Blue', 'Green', 'Magenta', 'Brown / Black', 'Brown / White',\n",
       "       'blond', 'Silver', 'Red / Grey', 'Grey', 'Orange / White',\n",
       "       'Yellow', 'Brownn', 'Gold', 'Red / Orange', 'Indigo',\n",
       "       'Red / White', 'Black / Blue'], dtype=object)"
      ]
     },
     "execution_count": 84,
     "metadata": {},
     "output_type": "execute_result"
    }
   ],
   "source": [
    "heroes['Hair color'].unique()"
   ]
  },
  {
   "cell_type": "code",
   "execution_count": 85,
   "metadata": {},
   "outputs": [
    {
     "data": {
      "text/plain": [
       "array(['yellow', 'blue', 'green', 'brown', '-', 'red', 'violet', 'white',\n",
       "       'purple', 'black', 'grey', 'silver', 'yellow / red',\n",
       "       'yellow (without irises)', 'gold', 'blue / white', 'hazel',\n",
       "       'green / blue', 'white / red', 'indigo', 'amber', 'yellow / blue',\n",
       "       'bown'], dtype=object)"
      ]
     },
     "execution_count": 85,
     "metadata": {},
     "output_type": "execute_result"
    }
   ],
   "source": [
    "heroes['Eye color'].unique()"
   ]
  },
  {
   "cell_type": "code",
   "execution_count": 86,
   "metadata": {},
   "outputs": [],
   "source": [
    "def clean_heroes(heroes):\n",
    "    \"\"\"\n",
    "    clean_heroes takes in the dataframe heroes\n",
    "    and replaces values that are 'null-value'\n",
    "    place-holders with np.NaN.\n",
    "\n",
    "    :Example:\n",
    "    >>> superheroes_fp = os.path.join('data', 'superheroes.csv')\n",
    "    >>> heroes = pd.read_csv(superheroes_fp, index_col=0)\n",
    "    >>> out = clean_heroes(heroes)\n",
    "    >>> out['Skin color'].isnull().any()\n",
    "    True\n",
    "    >>> out['Weight'].isnull().any()\n",
    "    True\n",
    "    \"\"\"\n",
    "    num = heroes._get_numeric_data()\n",
    "    num[num < 0] = np.NaN\n",
    "    num[num < 0] = np.NaN\n",
    "    heroes = heroes.replace('-', np.NaN)\n",
    "    \n",
    "    heroes['Hair color'] = heroes['Hair color'].replace(['Strawberry Blond', 'blond'], 'Blond') \n",
    "    heroes['Hair color'] = heroes['Hair color'].replace('Brownn', 'Brown')\n",
    "    heroes['Hair color'] = heroes['Hair color'].replace('black', 'Black')\n",
    "\n",
    "    return heroes"
   ]
  },
  {
   "cell_type": "code",
   "execution_count": 135,
   "metadata": {},
   "outputs": [
    {
     "data": {
      "text/html": [
       "<div>\n",
       "<style scoped>\n",
       "    .dataframe tbody tr th:only-of-type {\n",
       "        vertical-align: middle;\n",
       "    }\n",
       "\n",
       "    .dataframe tbody tr th {\n",
       "        vertical-align: top;\n",
       "    }\n",
       "\n",
       "    .dataframe thead th {\n",
       "        text-align: right;\n",
       "    }\n",
       "</style>\n",
       "<table border=\"1\" class=\"dataframe\">\n",
       "  <thead>\n",
       "    <tr style=\"text-align: right;\">\n",
       "      <th></th>\n",
       "      <th>name</th>\n",
       "      <th>Gender</th>\n",
       "      <th>Eye color</th>\n",
       "      <th>Race</th>\n",
       "      <th>Hair color</th>\n",
       "      <th>Height</th>\n",
       "      <th>Publisher</th>\n",
       "      <th>Skin color</th>\n",
       "      <th>Alignment</th>\n",
       "      <th>Weight</th>\n",
       "    </tr>\n",
       "  </thead>\n",
       "  <tbody>\n",
       "    <tr>\n",
       "      <th>0</th>\n",
       "      <td>A-Bomb</td>\n",
       "      <td>Male</td>\n",
       "      <td>yellow</td>\n",
       "      <td>Human</td>\n",
       "      <td>No Hair</td>\n",
       "      <td>203.0</td>\n",
       "      <td>Marvel Comics</td>\n",
       "      <td>NaN</td>\n",
       "      <td>good</td>\n",
       "      <td>441.0</td>\n",
       "    </tr>\n",
       "    <tr>\n",
       "      <th>1</th>\n",
       "      <td>Abe Sapien</td>\n",
       "      <td>Male</td>\n",
       "      <td>blue</td>\n",
       "      <td>Icthyo Sapien</td>\n",
       "      <td>No Hair</td>\n",
       "      <td>191.0</td>\n",
       "      <td>Dark Horse Comics</td>\n",
       "      <td>blue</td>\n",
       "      <td>good</td>\n",
       "      <td>65.0</td>\n",
       "    </tr>\n",
       "    <tr>\n",
       "      <th>2</th>\n",
       "      <td>Abin Sur</td>\n",
       "      <td>Male</td>\n",
       "      <td>blue</td>\n",
       "      <td>Ungaran</td>\n",
       "      <td>No Hair</td>\n",
       "      <td>185.0</td>\n",
       "      <td>DC Comics</td>\n",
       "      <td>red</td>\n",
       "      <td>good</td>\n",
       "      <td>90.0</td>\n",
       "    </tr>\n",
       "    <tr>\n",
       "      <th>3</th>\n",
       "      <td>Abomination</td>\n",
       "      <td>Male</td>\n",
       "      <td>green</td>\n",
       "      <td>Human / Radiation</td>\n",
       "      <td>No Hair</td>\n",
       "      <td>203.0</td>\n",
       "      <td>Marvel Comics</td>\n",
       "      <td>NaN</td>\n",
       "      <td>bad</td>\n",
       "      <td>441.0</td>\n",
       "    </tr>\n",
       "    <tr>\n",
       "      <th>4</th>\n",
       "      <td>Abraxas</td>\n",
       "      <td>Male</td>\n",
       "      <td>blue</td>\n",
       "      <td>Cosmic Entity</td>\n",
       "      <td>Black</td>\n",
       "      <td>NaN</td>\n",
       "      <td>Marvel Comics</td>\n",
       "      <td>NaN</td>\n",
       "      <td>bad</td>\n",
       "      <td>NaN</td>\n",
       "    </tr>\n",
       "    <tr>\n",
       "      <th>...</th>\n",
       "      <td>...</td>\n",
       "      <td>...</td>\n",
       "      <td>...</td>\n",
       "      <td>...</td>\n",
       "      <td>...</td>\n",
       "      <td>...</td>\n",
       "      <td>...</td>\n",
       "      <td>...</td>\n",
       "      <td>...</td>\n",
       "      <td>...</td>\n",
       "    </tr>\n",
       "    <tr>\n",
       "      <th>729</th>\n",
       "      <td>Yellowjacket II</td>\n",
       "      <td>Female</td>\n",
       "      <td>blue</td>\n",
       "      <td>Human</td>\n",
       "      <td>Blond</td>\n",
       "      <td>165.0</td>\n",
       "      <td>Marvel Comics</td>\n",
       "      <td>NaN</td>\n",
       "      <td>good</td>\n",
       "      <td>52.0</td>\n",
       "    </tr>\n",
       "    <tr>\n",
       "      <th>730</th>\n",
       "      <td>Ymir</td>\n",
       "      <td>Male</td>\n",
       "      <td>white</td>\n",
       "      <td>Frost Giant</td>\n",
       "      <td>No Hair</td>\n",
       "      <td>304.8</td>\n",
       "      <td>Marvel Comics</td>\n",
       "      <td>white</td>\n",
       "      <td>good</td>\n",
       "      <td>NaN</td>\n",
       "    </tr>\n",
       "    <tr>\n",
       "      <th>731</th>\n",
       "      <td>Yoda</td>\n",
       "      <td>Male</td>\n",
       "      <td>brown</td>\n",
       "      <td>Yoda's species</td>\n",
       "      <td>White</td>\n",
       "      <td>66.0</td>\n",
       "      <td>George Lucas</td>\n",
       "      <td>green</td>\n",
       "      <td>good</td>\n",
       "      <td>17.0</td>\n",
       "    </tr>\n",
       "    <tr>\n",
       "      <th>732</th>\n",
       "      <td>Zatanna</td>\n",
       "      <td>Female</td>\n",
       "      <td>blue</td>\n",
       "      <td>Human</td>\n",
       "      <td>Black</td>\n",
       "      <td>170.0</td>\n",
       "      <td>DC Comics</td>\n",
       "      <td>NaN</td>\n",
       "      <td>good</td>\n",
       "      <td>57.0</td>\n",
       "    </tr>\n",
       "    <tr>\n",
       "      <th>733</th>\n",
       "      <td>Zoom</td>\n",
       "      <td>Male</td>\n",
       "      <td>red</td>\n",
       "      <td>NaN</td>\n",
       "      <td>Brown</td>\n",
       "      <td>185.0</td>\n",
       "      <td>DC Comics</td>\n",
       "      <td>NaN</td>\n",
       "      <td>bad</td>\n",
       "      <td>81.0</td>\n",
       "    </tr>\n",
       "  </tbody>\n",
       "</table>\n",
       "<p>734 rows × 10 columns</p>\n",
       "</div>"
      ],
      "text/plain": [
       "                name  Gender Eye color               Race Hair color  Height  \\\n",
       "0             A-Bomb    Male    yellow              Human    No Hair   203.0   \n",
       "1         Abe Sapien    Male      blue      Icthyo Sapien    No Hair   191.0   \n",
       "2           Abin Sur    Male      blue            Ungaran    No Hair   185.0   \n",
       "3        Abomination    Male     green  Human / Radiation    No Hair   203.0   \n",
       "4            Abraxas    Male      blue      Cosmic Entity      Black     NaN   \n",
       "..               ...     ...       ...                ...        ...     ...   \n",
       "729  Yellowjacket II  Female      blue              Human      Blond   165.0   \n",
       "730             Ymir    Male     white        Frost Giant    No Hair   304.8   \n",
       "731             Yoda    Male     brown     Yoda's species      White    66.0   \n",
       "732          Zatanna  Female      blue              Human      Black   170.0   \n",
       "733             Zoom    Male       red                NaN      Brown   185.0   \n",
       "\n",
       "             Publisher Skin color Alignment  Weight  \n",
       "0        Marvel Comics        NaN      good   441.0  \n",
       "1    Dark Horse Comics       blue      good    65.0  \n",
       "2            DC Comics        red      good    90.0  \n",
       "3        Marvel Comics        NaN       bad   441.0  \n",
       "4        Marvel Comics        NaN       bad     NaN  \n",
       "..                 ...        ...       ...     ...  \n",
       "729      Marvel Comics        NaN      good    52.0  \n",
       "730      Marvel Comics      white      good     NaN  \n",
       "731       George Lucas      green      good    17.0  \n",
       "732          DC Comics        NaN      good    57.0  \n",
       "733          DC Comics        NaN       bad    81.0  \n",
       "\n",
       "[734 rows x 10 columns]"
      ]
     },
     "execution_count": 135,
     "metadata": {},
     "output_type": "execute_result"
    }
   ],
   "source": [
    "superheroes_fp = os.path.join('data', 'superheroes.csv')\n",
    "heroes = pd.read_csv(superheroes_fp, index_col=0)\n",
    "out = clean_heroes(heroes)\n",
    "out "
   ]
  },
  {
   "cell_type": "code",
   "execution_count": 88,
   "metadata": {},
   "outputs": [
    {
     "data": {
      "text/plain": [
       "True"
      ]
     },
     "execution_count": 88,
     "metadata": {},
     "output_type": "execute_result"
    }
   ],
   "source": [
    "out['Skin color'].isnull().any()"
   ]
  },
  {
   "cell_type": "code",
   "execution_count": 89,
   "metadata": {},
   "outputs": [
    {
     "data": {
      "text/plain": [
       "True"
      ]
     },
     "execution_count": 89,
     "metadata": {},
     "output_type": "execute_result"
    }
   ],
   "source": [
    "out['Weight'].isnull().any()"
   ]
  },
  {
   "cell_type": "code",
   "execution_count": 90,
   "metadata": {},
   "outputs": [
    {
     "name": "stdout",
     "output_type": "stream",
     "text": [
      "0.6727272727272727\n",
      "0.6635514018691588\n"
     ]
    }
   ],
   "source": [
    "marvel = out.loc[out.Publisher == 'Marvel Comics']\n",
    "marvel_prop = marvel.Alignment.value_counts().values[0] / marvel.Alignment.value_counts().values.sum()\n",
    "print(marvel_prop)\n",
    "dc = out.loc[out.Publisher == 'DC Comics']\n",
    "dc_prop = dc.Alignment.value_counts().values[0] / dc.Alignment.value_counts().values.sum()\n",
    "print(dc_prop)"
   ]
  },
  {
   "cell_type": "code",
   "execution_count": 136,
   "metadata": {},
   "outputs": [
    {
     "name": "stdout",
     "output_type": "stream",
     "text": [
      "526\n",
      "131\n",
      "99\n"
     ]
    }
   ],
   "source": [
    "not_human = out.loc[out.Race != 'Human']\n",
    "print(not_human.shape[0])\n",
    "\n",
    "non_marvel = out.loc[out.Publisher != 'Marvel Comics']\n",
    "non_marveldc = non_marvel.loc[non_marvel.Publisher != 'DC Comics']\n",
    "print(non_marveldc.shape[0])\n",
    "\n",
    "overlap = non_marveldc.loc[non_marveldc.Race != 'Human']\n",
    "print(overlap.shape[0])"
   ]
  },
  {
   "cell_type": "code",
   "execution_count": 92,
   "metadata": {},
   "outputs": [
    {
     "data": {
      "text/plain": [
       "'Groot'"
      ]
     },
     "execution_count": 92,
     "metadata": {},
     "output_type": "execute_result"
    }
   ],
   "source": [
    "height_cutoff = out.Height.mean() + out.Height.std()\n",
    "weight_cutoff = out.Weight.mean() - out.Weight.std()\n",
    "tall = out.loc[out.Height >= height_cutoff]\n",
    "mystery = tall.loc[tall.Weight <= weight_cutoff]\n",
    "mystery.name.values[0]"
   ]
  },
  {
   "cell_type": "code",
   "execution_count": 93,
   "metadata": {},
   "outputs": [
    {
     "name": "stdout",
     "output_type": "stream",
     "text": [
      "95.54654654654655\n",
      "139.80985915492957\n"
     ]
    }
   ],
   "source": [
    "goodw = out.loc[out.Alignment == 'good'].Weight.mean()\n",
    "print(goodw)\n",
    "badw = out.loc[out.Alignment == 'bad'].Weight.mean()\n",
    "print(badw)"
   ]
  },
  {
   "cell_type": "code",
   "execution_count": 94,
   "metadata": {},
   "outputs": [
    {
     "data": {
      "text/plain": [
       "'Onslaught'"
      ]
     },
     "execution_count": 94,
     "metadata": {},
     "output_type": "execute_result"
    }
   ],
   "source": [
    "mutants = out.loc[out.Race == 'Mutant']\n",
    "no_hair_mutants = mutants.loc[mutants['Hair color'] == 'No Hair']\n",
    "no_hair_mutants.sort_values(by=['Height'], ascending=False).iloc[0][0]"
   ]
  },
  {
   "cell_type": "code",
   "execution_count": 95,
   "metadata": {},
   "outputs": [
    {
     "data": {
      "text/plain": [
       "0.2860824742268041"
      ]
     },
     "execution_count": 95,
     "metadata": {},
     "output_type": "execute_result"
    }
   ],
   "source": [
    "marvel = out.loc[out.Publisher == 'Marvel Comics']\n",
    "marvel.loc[out.Gender == 'Female'].shape[0] / marvel.shape[0]"
   ]
  },
  {
   "cell_type": "code",
   "execution_count": 96,
   "metadata": {},
   "outputs": [],
   "source": [
    "def super_hero_stats():\n",
    "    \"\"\"\n",
    "    Returns a list that answers the questions in the notebook.\n",
    "    :Example:\n",
    "    >>> out = super_hero_stats()\n",
    "    >>> out[0] in ['Marvel Comics', 'DC Comics']\n",
    "    True\n",
    "    >>> isinstance(out[1], int)\n",
    "    True\n",
    "    >>> isinstance(out[2], str)\n",
    "    True\n",
    "    >>> out[3] in ['good', 'bad']\n",
    "    True\n",
    "    >>> isinstance(out[4], str)\n",
    "    True\n",
    "    >>> 0 <= out[5] <= 1\n",
    "    True\n",
    "    \"\"\"\n",
    "\n",
    "    return ['Marvel Comics',558,'Groot','bad','Onslaught',0.2860824742268041]"
   ]
  },
  {
   "cell_type": "code",
   "execution_count": 97,
   "metadata": {},
   "outputs": [
    {
     "data": {
      "text/plain": [
       "['Marvel Comics', 175, 'Groot', 'bad', 'Onslaught', 0.3018867924528302]"
      ]
     },
     "execution_count": 97,
     "metadata": {},
     "output_type": "execute_result"
    }
   ],
   "source": [
    "out = super_hero_stats()\n",
    "out"
   ]
  },
  {
   "cell_type": "code",
   "execution_count": 98,
   "metadata": {},
   "outputs": [
    {
     "data": {
      "text/plain": [
       "True"
      ]
     },
     "execution_count": 98,
     "metadata": {},
     "output_type": "execute_result"
    }
   ],
   "source": [
    "out[0] in ['Marvel Comics', 'DC Comics']"
   ]
  },
  {
   "cell_type": "code",
   "execution_count": 99,
   "metadata": {},
   "outputs": [
    {
     "data": {
      "text/plain": [
       "True"
      ]
     },
     "execution_count": 99,
     "metadata": {},
     "output_type": "execute_result"
    }
   ],
   "source": [
    "isinstance(out[1], int)"
   ]
  },
  {
   "cell_type": "code",
   "execution_count": 100,
   "metadata": {},
   "outputs": [
    {
     "data": {
      "text/plain": [
       "True"
      ]
     },
     "execution_count": 100,
     "metadata": {},
     "output_type": "execute_result"
    }
   ],
   "source": [
    "isinstance(out[2], str)"
   ]
  },
  {
   "cell_type": "code",
   "execution_count": 101,
   "metadata": {},
   "outputs": [
    {
     "data": {
      "text/plain": [
       "True"
      ]
     },
     "execution_count": 101,
     "metadata": {},
     "output_type": "execute_result"
    }
   ],
   "source": [
    "out[3] in ['good', 'bad']"
   ]
  },
  {
   "cell_type": "code",
   "execution_count": 102,
   "metadata": {},
   "outputs": [
    {
     "data": {
      "text/plain": [
       "True"
      ]
     },
     "execution_count": 102,
     "metadata": {},
     "output_type": "execute_result"
    }
   ],
   "source": [
    "isinstance(out[4], str)"
   ]
  },
  {
   "cell_type": "code",
   "execution_count": 103,
   "metadata": {},
   "outputs": [
    {
     "data": {
      "text/plain": [
       "True"
      ]
     },
     "execution_count": 103,
     "metadata": {},
     "output_type": "execute_result"
    }
   ],
   "source": [
    "0 <= out[5] <= 1"
   ]
  },
  {
   "cell_type": "markdown",
   "metadata": {},
   "source": [
    "### Are blond-haired, blue-eyed characters disproportionately 'good'?\n",
    "\n",
    "**Question 8**\n",
    "\n",
    "1. Create a function `bhbe` ('blond-hair-blue-eyes') that returns a boolean column that labels super-heroes/villains that are blond-haired *and* blue eyed.\n",
    "    * Look at the values of the hair/eyes columns; it needs some cleaning! (The doctest makes sure you've cleaned it properly. If you don't pass the doctest, look more closely at the values in the columns!)\n",
    "\n",
    "\n",
    "Now, you'd like to answer the question \n",
    "> \"Are blond-haired, blue-eyed characters disproportionately 'good'?\"\n",
    "\n",
    "To do this, you'd like to test the null hypothesis:\n",
    "> \"The proportion of 'good' heroes among blond-haired, blue-eyed heroes is roughly the same as (equals) the proportion of 'good' heroes in the overall population.\"\n",
    "\n",
    "Fix a significance level of 1%.\n",
    "\n",
    "2. Create a function `observed_stat` that takes in `heroes`, and returns the observed test statistic.\n",
    "3. Create a function `simulate_bhbe_null` that takes in a number `n` that returns a `n` instances of the test statistic generated under the null hypothesis. You should hard-code your simulation parameter into the function (rounding to the nearest hundredth is fine); the function should *not* read in any data.\n",
    "4. Create a function `calc_pval` that returns a list where:\n",
    "    * the first element is the p-value for hypothesis test (using 100,000 simulations). Please run the code yourself and hard-code this answer, as actually running the 100,000 simulation hypothesis test will timeout on gradescope. \n",
    "    * the second element is `Reject` if you reject the null hypothesis and `Fail to reject` if you fail to reject the null hypothesis."
   ]
  },
  {
   "cell_type": "code",
   "execution_count": 104,
   "metadata": {},
   "outputs": [],
   "source": [
    "def bhbe_col(heroes):\n",
    "    \"\"\"\n",
    "    `bhbe` ('blond-hair-blue-eyes') returns a boolean\n",
    "    column that labels super-heroes/villains that\n",
    "    are blond-haired *and* blue eyed.\n",
    "\n",
    "    :Example:\n",
    "    >>> superheroes_fp = os.path.join('data', 'superheroes.csv')\n",
    "    >>> heroes = pd.read_csv(superheroes_fp, index_col=0)\n",
    "    >>> out = bhbe_col(heroes)\n",
    "    >>> isinstance(out, pd.Series)\n",
    "    True\n",
    "    >>> out.dtype == np.dtype('bool')\n",
    "    True\n",
    "    >>> out.sum()\n",
    "    93\n",
    "    \"\"\"\n",
    "    #     bh = cleaned[cleaned['Hair color'] == 'Blond']\n",
    "    #     bhbe = bh[bh['Eye color'] == 'blue'].index\n",
    "\n",
    "    cleaned = clean_heroes(heroes)\n",
    "    cleaned['newcol'] = (cleaned['Hair color'] == 'Blond') & (cleaned['Eye color'] == 'blue')\n",
    "    \n",
    "    return cleaned['newcol']"
   ]
  },
  {
   "cell_type": "code",
   "execution_count": 105,
   "metadata": {},
   "outputs": [
    {
     "data": {
      "text/plain": [
       "0      False\n",
       "1      False\n",
       "2      False\n",
       "3      False\n",
       "4      False\n",
       "       ...  \n",
       "729     True\n",
       "730    False\n",
       "731    False\n",
       "732    False\n",
       "733    False\n",
       "Name: newcol, Length: 734, dtype: bool"
      ]
     },
     "execution_count": 105,
     "metadata": {},
     "output_type": "execute_result"
    }
   ],
   "source": [
    "superheroes_fp = os.path.join('data', 'superheroes.csv')\n",
    "heroes = pd.read_csv(superheroes_fp, index_col=0)\n",
    "out = bhbe_col(heroes)\n",
    "out"
   ]
  },
  {
   "cell_type": "code",
   "execution_count": 106,
   "metadata": {},
   "outputs": [
    {
     "data": {
      "text/plain": [
       "True"
      ]
     },
     "execution_count": 106,
     "metadata": {},
     "output_type": "execute_result"
    }
   ],
   "source": [
    "isinstance(out, pd.Series)"
   ]
  },
  {
   "cell_type": "code",
   "execution_count": 107,
   "metadata": {},
   "outputs": [
    {
     "data": {
      "text/plain": [
       "True"
      ]
     },
     "execution_count": 107,
     "metadata": {},
     "output_type": "execute_result"
    }
   ],
   "source": [
    "out.dtype == np.dtype('bool')"
   ]
  },
  {
   "cell_type": "code",
   "execution_count": 108,
   "metadata": {},
   "outputs": [
    {
     "data": {
      "text/plain": [
       "93"
      ]
     },
     "execution_count": 108,
     "metadata": {},
     "output_type": "execute_result"
    }
   ],
   "source": [
    "out.sum()"
   ]
  },
  {
   "cell_type": "code",
   "execution_count": 109,
   "metadata": {},
   "outputs": [
    {
     "data": {
      "text/plain": [
       "79"
      ]
     },
     "execution_count": 109,
     "metadata": {},
     "output_type": "execute_result"
    }
   ],
   "source": [
    "cleaned = clean_heroes(heroes)\n",
    "cleaned['newcol'] = (cleaned['Hair color'] == 'Blond') & (cleaned['Eye color'] == 'blue')\n",
    "    \n",
    "bhbe = cleaned.loc[cleaned.newcol == True]\n",
    "bhbe_size = bhbe.loc[bhbe.Alignment == 'good'].shape[0]# / bhbe.shape[0]\n",
    "bhbe_size"
   ]
  },
  {
   "cell_type": "code",
   "execution_count": 110,
   "metadata": {},
   "outputs": [],
   "source": [
    "def observed_stat(heroes):\n",
    "    \"\"\"\n",
    "    observed_stat returns the observed test statistic\n",
    "    for the hypothesis test.\n",
    "\n",
    "    :Example:\n",
    "    >>> superheroes_fp = os.path.join('data', 'superheroes.csv')\n",
    "    >>> heroes = pd.read_csv(superheroes_fp, index_col=0)\n",
    "    >>> out = observed_stat(heroes)\n",
    "    >>> 0.5 <= out <= 1.0\n",
    "    True\n",
    "    \"\"\"\n",
    "    cleaned = clean_heroes(heroes)\n",
    "    cleaned['newcol'] = (cleaned['Hair color'] == 'Blond') & (cleaned['Eye color'] == 'blue')\n",
    "    \n",
    "    bhbe = cleaned.loc[cleaned.newcol == True]\n",
    "    bhbe_prop = bhbe.loc[bhbe.Alignment == 'good'].shape[0] / bhbe.shape[0]\n",
    "    \n",
    "    return bhbe_prop"
   ]
  },
  {
   "cell_type": "code",
   "execution_count": 111,
   "metadata": {},
   "outputs": [
    {
     "data": {
      "text/plain": [
       "0.8494623655913979"
      ]
     },
     "execution_count": 111,
     "metadata": {},
     "output_type": "execute_result"
    }
   ],
   "source": [
    "superheroes_fp = os.path.join('data', 'superheroes.csv')\n",
    "heroes = pd.read_csv(superheroes_fp, index_col=0)\n",
    "out = observed_stat(heroes)\n",
    "out"
   ]
  },
  {
   "cell_type": "code",
   "execution_count": 112,
   "metadata": {},
   "outputs": [
    {
     "data": {
      "text/plain": [
       "True"
      ]
     },
     "execution_count": 112,
     "metadata": {},
     "output_type": "execute_result"
    }
   ],
   "source": [
    "0.5 <= out <= 1.0"
   ]
  },
  {
   "cell_type": "code",
   "execution_count": 126,
   "metadata": {},
   "outputs": [],
   "source": [
    "def simulate_bhbe_null(n):\n",
    "    \"\"\"\n",
    "    `simulate_bhbe_null` that takes in a number `n`\n",
    "    that returns a `n` instances of the test statistic\n",
    "    generated under the null hypothesis.\n",
    "    You should hard code your simulation parameter\n",
    "    into the function; the function should *not* read in any data.\n",
    "\n",
    "    :Example:\n",
    "    >>> superheroes_fp = os.path.join('data', 'superheroes.csv')\n",
    "    >>> heroes = pd.read_csv(superheroes_fp, index_col=0)\n",
    "    >>> out = simulate_bhbe_null(10)\n",
    "    >>> isinstance(out, pd.Series)\n",
    "    True\n",
    "    >>> out.shape[0]\n",
    "    10\n",
    "    >>> ((0.45 <= out) & (out <= 1)).all()\n",
    "    True\n",
    "    \"\"\"\n",
    "    simulations = pd.DataFrame(np.random.choice([1,0],p=[.68,.32], size=(n,734)))\n",
    "    test_stats = simulations.sum(axis=1) / 734\n",
    "    \n",
    "    return test_stats"
   ]
  },
  {
   "cell_type": "code",
   "execution_count": 127,
   "metadata": {},
   "outputs": [
    {
     "data": {
      "text/plain": [
       "0    0.677112\n",
       "1    0.670300\n",
       "2    0.668937\n",
       "3    0.697548\n",
       "4    0.698910\n",
       "5    0.659401\n",
       "6    0.705722\n",
       "7    0.698910\n",
       "8    0.670300\n",
       "9    0.682561\n",
       "dtype: float64"
      ]
     },
     "execution_count": 127,
     "metadata": {},
     "output_type": "execute_result"
    }
   ],
   "source": [
    "superheroes_fp = os.path.join('data', 'superheroes.csv')\n",
    "heroes = pd.read_csv(superheroes_fp, index_col=0)\n",
    "out = simulate_bhbe_null(10)\n",
    "out"
   ]
  },
  {
   "cell_type": "code",
   "execution_count": 128,
   "metadata": {},
   "outputs": [
    {
     "data": {
      "text/plain": [
       "True"
      ]
     },
     "execution_count": 128,
     "metadata": {},
     "output_type": "execute_result"
    }
   ],
   "source": [
    "isinstance(out, pd.Series)"
   ]
  },
  {
   "cell_type": "code",
   "execution_count": 129,
   "metadata": {},
   "outputs": [
    {
     "data": {
      "text/plain": [
       "10"
      ]
     },
     "execution_count": 129,
     "metadata": {},
     "output_type": "execute_result"
    }
   ],
   "source": [
    "out.shape[0]"
   ]
  },
  {
   "cell_type": "code",
   "execution_count": 130,
   "metadata": {},
   "outputs": [
    {
     "data": {
      "text/plain": [
       "True"
      ]
     },
     "execution_count": 130,
     "metadata": {},
     "output_type": "execute_result"
    }
   ],
   "source": [
    "((0.45 <= out) & (out <= 1)).all()"
   ]
  },
  {
   "cell_type": "code",
   "execution_count": 131,
   "metadata": {},
   "outputs": [
    {
     "data": {
      "text/plain": [
       "0.0"
      ]
     },
     "execution_count": 131,
     "metadata": {},
     "output_type": "execute_result"
    }
   ],
   "source": [
    "obs = observed_stat(heroes)\n",
    "simulations = simulate_bhbe_null(100000)\n",
    "(simulations >= obs).mean()"
   ]
  },
  {
   "cell_type": "code",
   "execution_count": null,
   "metadata": {},
   "outputs": [],
   "source": [
    "def calc_pval():\n",
    "    \"\"\"\n",
    "    calc_pval returns a list where:\n",
    "        - the first element is the p-value for\n",
    "        hypothesis test (using 100,000 simulations).\n",
    "        - the second element is Reject if you reject\n",
    "        the null hypothesis and Fail to reject if you\n",
    "        fail to reject the null hypothesis.\n",
    "\n",
    "    :Example:\n",
    "    >>> out = calc_pval()\n",
    "    >>> len(out)\n",
    "    2\n",
    "    >>> 0 <= out[0] <= 1\n",
    "    True\n",
    "    >>> out[1] in ['Reject', 'Fail to reject']\n",
    "    True\n",
    "    \"\"\"\n",
    "    \n",
    "    #bhbe = bhbe_col(heroes).astype(int)\n",
    "    #(simulations >= bhbe).mean()\n",
    "    return [0,'Reject']"
   ]
  },
  {
   "cell_type": "code",
   "execution_count": null,
   "metadata": {},
   "outputs": [],
   "source": [
    "out = calc_pval()"
   ]
  },
  {
   "cell_type": "code",
   "execution_count": null,
   "metadata": {},
   "outputs": [],
   "source": [
    "len(out)"
   ]
  },
  {
   "cell_type": "code",
   "execution_count": null,
   "metadata": {},
   "outputs": [],
   "source": [
    "0 <= out[0] <= 1"
   ]
  },
  {
   "cell_type": "code",
   "execution_count": null,
   "metadata": {},
   "outputs": [],
   "source": [
    "out[1] in ['Reject', 'Fail to reject']"
   ]
  },
  {
   "cell_type": "code",
   "execution_count": null,
   "metadata": {},
   "outputs": [],
   "source": []
  }
 ],
 "metadata": {
  "kernelspec": {
   "display_name": "Python 3",
   "language": "python",
   "name": "python3"
  },
  "language_info": {
   "codemirror_mode": {
    "name": "ipython",
    "version": 3
   },
   "file_extension": ".py",
   "mimetype": "text/x-python",
   "name": "python",
   "nbconvert_exporter": "python",
   "pygments_lexer": "ipython3",
   "version": "3.9.1"
  }
 },
 "nbformat": 4,
 "nbformat_minor": 4
}
