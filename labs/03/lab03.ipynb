{
 "cells": [
  {
   "cell_type": "markdown",
   "metadata": {},
   "source": [
    "# DSC 80: Lab 03\n",
    "\n",
    "### Due Date: Tuesday April 20th, Midnight - 11:59 PM"
   ]
  },
  {
   "cell_type": "markdown",
   "metadata": {},
   "source": [
    "## Instructions\n",
    "Much like in DSC 10, this Jupyter Notebook contains the statements of the problems and provides code and markdown cells to display your answers to the problems. Unlike DSC 10, the notebook is *only* for displaying a readable version of your final answers. The coding work will be developed in an accompanying `lab**.py` file, that will be imported into the current notebook.\n",
    "\n",
    "Labs and programming assignments will be graded in (at most) two ways:\n",
    "1. The functions and classes in the accompanying python file will be tested (a la DSC 20),\n",
    "2. The notebook will be graded (for graphs and free response questions).\n",
    "\n",
    "**Do not change the function names in the `*.py` file**\n",
    "- The functions in the `*.py` file are how your assignment is graded, and they are graded by their name. The dictionary at the end of the file (`GRADED FUNCTIONS`) contains the \"grading list\". The final function in the file allows your doctests to check that all the necessary functions exist.\n",
    "- If you changed something you weren't supposed to, just use git to revert!\n",
    "\n",
    "**Tips for working in the Notebook**:\n",
    "- The notebooks serve to present you the questions and give you a place to present your results for later review.\n",
    "- The notebook on *lab assignments* are not graded (only the `.py` file).\n",
    "- Notebooks for PAs will serve as a final report for the assignment, and contain conclusions and answers to open ended questions that are graded.\n",
    "- The notebook serves as a nice environment for 'pre-development' and experimentation before designing your function in your `.py` file.\n",
    "\n",
    "**Tips for developing in the .py file**:\n",
    "- Do not change the function names in the starter code; grading is done using these function names.\n",
    "- Do not change the docstrings in the functions. These are there to tell you if your work is on the right track!\n",
    "- You are encouraged to write your own additional functions to solve the lab! \n",
    "    - Developing in python usually consists of larger files, with many short functions.\n",
    "    - You may write your other functions in an additional `.py` file that you import in `lab**.py` (much like we do in the notebook).\n",
    "- Always document your code!"
   ]
  },
  {
   "cell_type": "markdown",
   "metadata": {},
   "source": [
    "### Importing code from `lab**.py`\n",
    "\n",
    "* We import our `.py` file that's contained in the same directory as this notebook.\n",
    "* We use the `autoreload` notebook extension to make changes to our `lab**.py` file immediately available in our notebook. Without this extension, we would need to restart the notebook kernel to see any changes to `lab**.py` in the notebook.\n",
    "    - `autoreload` is necessary because, upon import, `lab**.py` is compiled to bytecode (in the directory `__pycache__`). Subsequent imports of `lab**` merely import the existing compiled python."
   ]
  },
  {
   "cell_type": "code",
   "execution_count": 1,
   "metadata": {},
   "outputs": [],
   "source": [
    "%load_ext autoreload\n",
    "%autoreload 2"
   ]
  },
  {
   "cell_type": "code",
   "execution_count": 2,
   "metadata": {},
   "outputs": [],
   "source": [
    "import lab03 as lab"
   ]
  },
  {
   "cell_type": "code",
   "execution_count": 3,
   "metadata": {},
   "outputs": [],
   "source": [
    "import os\n",
    "import pandas as pd\n",
    "import numpy as np"
   ]
  },
  {
   "cell_type": "markdown",
   "metadata": {},
   "source": [
    "---\n",
    "\n",
    "# Hypothetically speaking...\n",
    "\n",
    "In this section we'll develop an intuition for the terms and structure of hypothesis testing -- it's nothing to be afraid of!\n",
    "\n",
    "The first step is always to define what you're looking at, create your hypotheses, and set a level of significance.  Once you've done that, you can find a p-value which is related to your test statistic.\n",
    "\n",
    "If all of these words are scary: look at the lecture notebook, the textbook references, and don't forget to think about the real-world meaning of these terms!  The following example describes a real-world scenario, so you can think of it in a normal lens."
   ]
  },
  {
   "cell_type": "markdown",
   "metadata": {},
   "source": [
    "**Question 1: Faulty tires**\n",
    "\n",
    "A tire manufacturer tests whether a set of tires meets the company's performance standards by checking:\n",
    "\n",
    "> In 60 out of 100 tests, if a Honda CRV can come to a complete stop from 60 mph in fewer than 108 feet.\n",
    "\n",
    "That is, 60% of the time, the stopping distance of a car outfitted with generic tires should be less than 108 feet. The factory is wondering if a current run of tires is up to standard, so they choose a random set of tires from the production line to test their performance, and bring the car to a complete stop from 60 mph a total of 100 times. Then they ask:\n",
    "\n",
    "> Are these tires faulty?\n"
   ]
  },
  {
   "cell_type": "markdown",
   "metadata": {},
   "source": [
    "Which of the following are valid null hypotheses that address the question we are trying to answer, using the data we are given?  Which are valid alternative hypotheses?\n",
    "\n",
    "Outfitted with that set of tires, the car:\n",
    "1. has a 60 mph stopping distance under 108 feet, at least 60% of the time.\n",
    "1. has a 60 mph stopping distance under 108 feet, at most 60% of the time.\n",
    "1. has a 60 mph stopping distance under 108 feet, equal to 60% of the time.\n",
    "1. has at least as short stopping distance to the same car with generic tires, at least 60% of the time.\n",
    "1. has at least as short stopping distance to the same car with generic tires, at most 60% of the time.\n",
    "1. has at least as short stopping distance to the same car with generic tires, roughly 60% of the time.\n",
    "1. is as safe as the car with generic tires.\n",
    "1. causes the car to stop in a shorter distance.\n",
    "\n",
    "\n",
    "Write a function `car_null_hypoth` which takes zero arguments and returns a list of the valid null hypotheses.  \n",
    "Write a function `car_alt_hypoth` which takes zero arguments and returns a list of the valid alternative hypotheses."
   ]
  },
  {
   "cell_type": "code",
   "execution_count": 4,
   "metadata": {
    "scrolled": true
   },
   "outputs": [],
   "source": [
    "def car_null_hypoth():\n",
    "    \"\"\"\n",
    "    Returns a list of valid null hypotheses.\n",
    "    \n",
    "    :Example:\n",
    "    >>> set(car_null_hypoth()) <= set(range(1,11))\n",
    "    True\n",
    "    \"\"\"\n",
    "    return [3,6]"
   ]
  },
  {
   "cell_type": "code",
   "execution_count": 5,
   "metadata": {},
   "outputs": [
    {
     "data": {
      "text/plain": [
       "True"
      ]
     },
     "execution_count": 5,
     "metadata": {},
     "output_type": "execute_result"
    }
   ],
   "source": [
    "set(car_null_hypoth()) <= set(range(1,11))"
   ]
  },
  {
   "cell_type": "code",
   "execution_count": 6,
   "metadata": {},
   "outputs": [],
   "source": [
    "def car_alt_hypoth():\n",
    "    \"\"\"\n",
    "    Returns a list of valid alternative hypotheses.\n",
    "    \n",
    "    :Example:\n",
    "    >>> set(car_alt_hypoth()) <= set(range(1,11))\n",
    "    True\n",
    "    \"\"\"\n",
    "    return [2,5]"
   ]
  },
  {
   "cell_type": "code",
   "execution_count": 7,
   "metadata": {},
   "outputs": [
    {
     "data": {
      "text/plain": [
       "True"
      ]
     },
     "execution_count": 7,
     "metadata": {},
     "output_type": "execute_result"
    }
   ],
   "source": [
    "set(car_alt_hypoth()) <= set(range(1,11))"
   ]
  },
  {
   "cell_type": "markdown",
   "metadata": {},
   "source": [
    "Which of the following are valid test statistics for our question?\n",
    "\n",
    "1. The average number of feet the car took to come to a complete stop in 100 attempts.\n",
    "1. The number of times the car stopped in under 108 feet in 100 attempts.\n",
    "1. The number of attempts it took before the car stopped in under 108 feet.\n",
    "1. The proportion of attempts the car successfully stopped in under 108 feet.\n",
    "\n",
    "Write a function `car_test_stat` which takes zero arguments and returns a list of valid test statistics."
   ]
  },
  {
   "cell_type": "code",
   "execution_count": 8,
   "metadata": {},
   "outputs": [],
   "source": [
    "def car_test_stat():\n",
    "    \"\"\"\n",
    "    Returns a list of valid test statistics.\n",
    "    \n",
    "    :Example:\n",
    "    >>> set(car_test_stat()) <= set(range(1,5))\n",
    "    True\n",
    "    \"\"\"\n",
    "    return [2,4]"
   ]
  },
  {
   "cell_type": "code",
   "execution_count": 9,
   "metadata": {},
   "outputs": [
    {
     "data": {
      "text/plain": [
       "True"
      ]
     },
     "execution_count": 9,
     "metadata": {},
     "output_type": "execute_result"
    }
   ],
   "source": [
    "set(car_test_stat()) <= set(range(1,5))"
   ]
  },
  {
   "cell_type": "markdown",
   "metadata": {},
   "source": [
    "The p-value is calculated as how likely it is to find something as extreme or more extreme than our observed test statistic.  To do this, we assume the null hypothesis is true, and then define \"extremeness\" based on the alternative hypothesis.\n",
    "\n",
    "Why don't we just look at the probability of finding our observed test statistic?\n",
    "\n",
    "1. Because our observed test statistic isn't extreme.\n",
    "2. Because the probability of finding our observed test statistic equals the probability of finding something more extreme.\n",
    "3. Because the probability of finding our observed test statistic is essentially zero.\n",
    "4. Because our null hypothesis isn't suggesting equality.\n",
    "5. Because our alternative hypothesis isn't suggesting equality.\n",
    "\n",
    "Write a function `car_p_value` which takes zero arguments and returns the correct reason."
   ]
  },
  {
   "cell_type": "code",
   "execution_count": 10,
   "metadata": {},
   "outputs": [],
   "source": [
    "def car_p_value():\n",
    "    \"\"\"\n",
    "    Returns an integer corresponding to the correct explanation.\n",
    "    \n",
    "    :Example:\n",
    "    >>> car_p_value() in [1,2,3,4,5]\n",
    "    True\n",
    "    \"\"\"\n",
    "    return 3"
   ]
  },
  {
   "cell_type": "code",
   "execution_count": 11,
   "metadata": {},
   "outputs": [
    {
     "data": {
      "text/plain": [
       "True"
      ]
     },
     "execution_count": 11,
     "metadata": {},
     "output_type": "execute_result"
    }
   ],
   "source": [
    "car_p_value() in [1,2,3,4,5]"
   ]
  },
  {
   "cell_type": "markdown",
   "metadata": {},
   "source": [
    "# Grouping: Google Play Store\n",
    "\n",
    "The questions below analyze a dataset of Google Play Store apps. The dataset has been preprocessed slightly for your convenience.\n",
    "\n",
    "Columns:\n",
    "* `App`: App Name\n",
    "* `Category`: App Category\n",
    "* `Rating`: Average App Rating\n",
    "* `Reviews`: Number of Reviews\n",
    "* `Size`: Size of App\n",
    "* `Installs`: Binned Number of Installs\n",
    "* `Type`: Paid or Free\n",
    "* `Price`: Price of App\n",
    "* `Content Rating`: Age group the app is targeted at\n",
    "* `Last Updated`: Last Updated Date\n",
    "\n",
    "\n",
    "Link: https://www.kaggle.com/lava18/google-play-store-apps\n",
    "\n",
    "**Question 2**\n",
    "\n",
    "First, we'd like to do some basic cleaning to this dataset to better analyze it.\n",
    "In the function `clean_apps`, which takes the Play Store dataset as input, clean as follows and return the cleaned df:\n",
    "* Keep `Reviews` as type int.\n",
    "* Strip all letters from the ends of `Size`, convert all units to unit kilobyte, and convert the column to type float (Hint: all Sizes end in either M (megabyte) or k (kilobyte); a helper function may be useful here).\n",
    "* Strip the '+' from the ends of `Installs`, remove the commas, and convert it to type int.\n",
    "* Since `Type` is binary, change all the 'Free's to 1 and the 'Paid's to 0.\n",
    "* Strip dollar mark in `Price` and convert it to correct numeric data type.\n",
    "* Strip all but the year (e.g. 2018) from `Last Updated` and convert it to type int.\n",
    "\n",
    "Please return a *copy* of the original dataframe; don't alter the original."
   ]
  },
  {
   "cell_type": "code",
   "execution_count": 12,
   "metadata": {},
   "outputs": [
    {
     "data": {
      "text/html": [
       "<div>\n",
       "<style scoped>\n",
       "    .dataframe tbody tr th:only-of-type {\n",
       "        vertical-align: middle;\n",
       "    }\n",
       "\n",
       "    .dataframe tbody tr th {\n",
       "        vertical-align: top;\n",
       "    }\n",
       "\n",
       "    .dataframe thead th {\n",
       "        text-align: right;\n",
       "    }\n",
       "</style>\n",
       "<table border=\"1\" class=\"dataframe\">\n",
       "  <thead>\n",
       "    <tr style=\"text-align: right;\">\n",
       "      <th></th>\n",
       "      <th>App</th>\n",
       "      <th>Category</th>\n",
       "      <th>Rating</th>\n",
       "      <th>Reviews</th>\n",
       "      <th>Size</th>\n",
       "      <th>Installs</th>\n",
       "      <th>Type</th>\n",
       "      <th>Price</th>\n",
       "      <th>Content Rating</th>\n",
       "      <th>Last Updated</th>\n",
       "    </tr>\n",
       "  </thead>\n",
       "  <tbody>\n",
       "    <tr>\n",
       "      <th>0</th>\n",
       "      <td>Photo Editor &amp; Candy Camera &amp; Grid &amp; ScrapBook</td>\n",
       "      <td>ART_AND_DESIGN</td>\n",
       "      <td>4.1</td>\n",
       "      <td>159</td>\n",
       "      <td>19M</td>\n",
       "      <td>10,000+</td>\n",
       "      <td>Free</td>\n",
       "      <td>0</td>\n",
       "      <td>Everyone</td>\n",
       "      <td>January 7, 2018</td>\n",
       "    </tr>\n",
       "    <tr>\n",
       "      <th>1</th>\n",
       "      <td>Coloring book moana</td>\n",
       "      <td>ART_AND_DESIGN</td>\n",
       "      <td>3.9</td>\n",
       "      <td>967</td>\n",
       "      <td>14M</td>\n",
       "      <td>500,000+</td>\n",
       "      <td>Free</td>\n",
       "      <td>0</td>\n",
       "      <td>Everyone</td>\n",
       "      <td>January 15, 2018</td>\n",
       "    </tr>\n",
       "    <tr>\n",
       "      <th>2</th>\n",
       "      <td>U Launcher Lite – FREE Live Cool Themes, Hide ...</td>\n",
       "      <td>ART_AND_DESIGN</td>\n",
       "      <td>4.7</td>\n",
       "      <td>87510</td>\n",
       "      <td>8.7M</td>\n",
       "      <td>5,000,000+</td>\n",
       "      <td>Free</td>\n",
       "      <td>0</td>\n",
       "      <td>Everyone</td>\n",
       "      <td>August 1, 2018</td>\n",
       "    </tr>\n",
       "    <tr>\n",
       "      <th>3</th>\n",
       "      <td>Sketch - Draw &amp; Paint</td>\n",
       "      <td>ART_AND_DESIGN</td>\n",
       "      <td>4.5</td>\n",
       "      <td>215644</td>\n",
       "      <td>25M</td>\n",
       "      <td>50,000,000+</td>\n",
       "      <td>Free</td>\n",
       "      <td>0</td>\n",
       "      <td>Teen</td>\n",
       "      <td>June 8, 2018</td>\n",
       "    </tr>\n",
       "    <tr>\n",
       "      <th>4</th>\n",
       "      <td>Pixel Draw - Number Art Coloring Book</td>\n",
       "      <td>ART_AND_DESIGN</td>\n",
       "      <td>4.3</td>\n",
       "      <td>967</td>\n",
       "      <td>2.8M</td>\n",
       "      <td>100,000+</td>\n",
       "      <td>Free</td>\n",
       "      <td>0</td>\n",
       "      <td>Everyone</td>\n",
       "      <td>June 20, 2018</td>\n",
       "    </tr>\n",
       "    <tr>\n",
       "      <th>...</th>\n",
       "      <td>...</td>\n",
       "      <td>...</td>\n",
       "      <td>...</td>\n",
       "      <td>...</td>\n",
       "      <td>...</td>\n",
       "      <td>...</td>\n",
       "      <td>...</td>\n",
       "      <td>...</td>\n",
       "      <td>...</td>\n",
       "      <td>...</td>\n",
       "    </tr>\n",
       "    <tr>\n",
       "      <th>9140</th>\n",
       "      <td>FR Forms</td>\n",
       "      <td>BUSINESS</td>\n",
       "      <td>NaN</td>\n",
       "      <td>0</td>\n",
       "      <td>9.6M</td>\n",
       "      <td>10+</td>\n",
       "      <td>Free</td>\n",
       "      <td>0</td>\n",
       "      <td>Everyone</td>\n",
       "      <td>September 29, 2016</td>\n",
       "    </tr>\n",
       "    <tr>\n",
       "      <th>9141</th>\n",
       "      <td>Sya9a Maroc - FR</td>\n",
       "      <td>FAMILY</td>\n",
       "      <td>4.5</td>\n",
       "      <td>38</td>\n",
       "      <td>53M</td>\n",
       "      <td>5,000+</td>\n",
       "      <td>Free</td>\n",
       "      <td>0</td>\n",
       "      <td>Everyone</td>\n",
       "      <td>July 25, 2017</td>\n",
       "    </tr>\n",
       "    <tr>\n",
       "      <th>9142</th>\n",
       "      <td>Fr. Mike Schmitz Audio Teachings</td>\n",
       "      <td>FAMILY</td>\n",
       "      <td>5.0</td>\n",
       "      <td>4</td>\n",
       "      <td>3.6M</td>\n",
       "      <td>100+</td>\n",
       "      <td>Free</td>\n",
       "      <td>0</td>\n",
       "      <td>Everyone</td>\n",
       "      <td>July 6, 2018</td>\n",
       "    </tr>\n",
       "    <tr>\n",
       "      <th>9143</th>\n",
       "      <td>Parkinson Exercices FR</td>\n",
       "      <td>MEDICAL</td>\n",
       "      <td>NaN</td>\n",
       "      <td>3</td>\n",
       "      <td>9.5M</td>\n",
       "      <td>1,000+</td>\n",
       "      <td>Free</td>\n",
       "      <td>0</td>\n",
       "      <td>Everyone</td>\n",
       "      <td>January 20, 2017</td>\n",
       "    </tr>\n",
       "    <tr>\n",
       "      <th>9144</th>\n",
       "      <td>iHoroscope - 2018 Daily Horoscope &amp; Astrology</td>\n",
       "      <td>LIFESTYLE</td>\n",
       "      <td>4.5</td>\n",
       "      <td>398307</td>\n",
       "      <td>19M</td>\n",
       "      <td>10,000,000+</td>\n",
       "      <td>Free</td>\n",
       "      <td>0</td>\n",
       "      <td>Everyone</td>\n",
       "      <td>July 25, 2018</td>\n",
       "    </tr>\n",
       "  </tbody>\n",
       "</table>\n",
       "<p>9145 rows × 10 columns</p>\n",
       "</div>"
      ],
      "text/plain": [
       "                                                    App        Category  \\\n",
       "0        Photo Editor & Candy Camera & Grid & ScrapBook  ART_AND_DESIGN   \n",
       "1                                   Coloring book moana  ART_AND_DESIGN   \n",
       "2     U Launcher Lite – FREE Live Cool Themes, Hide ...  ART_AND_DESIGN   \n",
       "3                                 Sketch - Draw & Paint  ART_AND_DESIGN   \n",
       "4                 Pixel Draw - Number Art Coloring Book  ART_AND_DESIGN   \n",
       "...                                                 ...             ...   \n",
       "9140                                           FR Forms        BUSINESS   \n",
       "9141                                   Sya9a Maroc - FR          FAMILY   \n",
       "9142                   Fr. Mike Schmitz Audio Teachings          FAMILY   \n",
       "9143                             Parkinson Exercices FR         MEDICAL   \n",
       "9144      iHoroscope - 2018 Daily Horoscope & Astrology       LIFESTYLE   \n",
       "\n",
       "      Rating  Reviews  Size     Installs  Type Price Content Rating  \\\n",
       "0        4.1      159   19M      10,000+  Free     0       Everyone   \n",
       "1        3.9      967   14M     500,000+  Free     0       Everyone   \n",
       "2        4.7    87510  8.7M   5,000,000+  Free     0       Everyone   \n",
       "3        4.5   215644   25M  50,000,000+  Free     0           Teen   \n",
       "4        4.3      967  2.8M     100,000+  Free     0       Everyone   \n",
       "...      ...      ...   ...          ...   ...   ...            ...   \n",
       "9140     NaN        0  9.6M          10+  Free     0       Everyone   \n",
       "9141     4.5       38   53M       5,000+  Free     0       Everyone   \n",
       "9142     5.0        4  3.6M         100+  Free     0       Everyone   \n",
       "9143     NaN        3  9.5M       1,000+  Free     0       Everyone   \n",
       "9144     4.5   398307   19M  10,000,000+  Free     0       Everyone   \n",
       "\n",
       "            Last Updated  \n",
       "0        January 7, 2018  \n",
       "1       January 15, 2018  \n",
       "2         August 1, 2018  \n",
       "3           June 8, 2018  \n",
       "4          June 20, 2018  \n",
       "...                  ...  \n",
       "9140  September 29, 2016  \n",
       "9141       July 25, 2017  \n",
       "9142        July 6, 2018  \n",
       "9143    January 20, 2017  \n",
       "9144       July 25, 2018  \n",
       "\n",
       "[9145 rows x 10 columns]"
      ]
     },
     "execution_count": 12,
     "metadata": {},
     "output_type": "execute_result"
    }
   ],
   "source": [
    "play_fp = os.path.join('data', 'googleplaystore.csv')\n",
    "play = pd.read_csv(play_fp)\n",
    "play"
   ]
  },
  {
   "cell_type": "code",
   "execution_count": 13,
   "metadata": {},
   "outputs": [],
   "source": [
    "#type(play['Reviews'][0])"
   ]
  },
  {
   "cell_type": "code",
   "execution_count": 14,
   "metadata": {},
   "outputs": [],
   "source": [
    "#play['Size'].str.slice(0,-1)"
   ]
  },
  {
   "cell_type": "code",
   "execution_count": 15,
   "metadata": {},
   "outputs": [],
   "source": [
    "#play['Installs'].str.replace(',','').str.slice(0,-1).astype(int)"
   ]
  },
  {
   "cell_type": "code",
   "execution_count": 16,
   "metadata": {},
   "outputs": [],
   "source": [
    "#play['Type'].replace({'Free':1, 'Paid':0})"
   ]
  },
  {
   "cell_type": "code",
   "execution_count": 17,
   "metadata": {},
   "outputs": [],
   "source": [
    "#play['Price'].str.strip('$').astype(float)"
   ]
  },
  {
   "cell_type": "code",
   "execution_count": 18,
   "metadata": {},
   "outputs": [],
   "source": [
    "#play['Last Updated'].str.split(',').str[1].str.strip()"
   ]
  },
  {
   "cell_type": "code",
   "execution_count": 19,
   "metadata": {},
   "outputs": [],
   "source": [
    "def clean_apps(df):\n",
    "    '''\n",
    "    >>> fp = os.path.join('data', 'googleplaystore.csv')\n",
    "    >>> df = pd.read_csv(fp)\n",
    "    >>> cleaned = clean_apps(df)\n",
    "    >>> len(cleaned) == len(df)\n",
    "    True\n",
    "    '''\n",
    "    \n",
    "    #df['Size'] = df['Size'].str.slice(0,-1)\n",
    "    df['Size'] = df['Size'].apply(lambda x: int(float(x[:-1])) * 1000 if x[-1] == 'M' else int(float(x[:-1])))\n",
    "    df['Installs'] = df['Installs'].str.replace(',','').str.slice(0,-1).astype(int)\n",
    "    df['Type'] = df['Type'].replace({'Free':1, 'Paid':0})\n",
    "    df['Price'] = df['Price'].str.strip('$').astype(float)\n",
    "    df['Last Updated'] = df['Last Updated'].str.split(',').str[1].str.strip()\n",
    "    \n",
    "    return df"
   ]
  },
  {
   "cell_type": "code",
   "execution_count": 20,
   "metadata": {},
   "outputs": [
    {
     "data": {
      "text/html": [
       "<div>\n",
       "<style scoped>\n",
       "    .dataframe tbody tr th:only-of-type {\n",
       "        vertical-align: middle;\n",
       "    }\n",
       "\n",
       "    .dataframe tbody tr th {\n",
       "        vertical-align: top;\n",
       "    }\n",
       "\n",
       "    .dataframe thead th {\n",
       "        text-align: right;\n",
       "    }\n",
       "</style>\n",
       "<table border=\"1\" class=\"dataframe\">\n",
       "  <thead>\n",
       "    <tr style=\"text-align: right;\">\n",
       "      <th></th>\n",
       "      <th>App</th>\n",
       "      <th>Category</th>\n",
       "      <th>Rating</th>\n",
       "      <th>Reviews</th>\n",
       "      <th>Size</th>\n",
       "      <th>Installs</th>\n",
       "      <th>Type</th>\n",
       "      <th>Price</th>\n",
       "      <th>Content Rating</th>\n",
       "      <th>Last Updated</th>\n",
       "    </tr>\n",
       "  </thead>\n",
       "  <tbody>\n",
       "    <tr>\n",
       "      <th>0</th>\n",
       "      <td>Photo Editor &amp; Candy Camera &amp; Grid &amp; ScrapBook</td>\n",
       "      <td>ART_AND_DESIGN</td>\n",
       "      <td>4.1</td>\n",
       "      <td>159</td>\n",
       "      <td>19000</td>\n",
       "      <td>10000</td>\n",
       "      <td>1</td>\n",
       "      <td>0.0</td>\n",
       "      <td>Everyone</td>\n",
       "      <td>2018</td>\n",
       "    </tr>\n",
       "    <tr>\n",
       "      <th>1</th>\n",
       "      <td>Coloring book moana</td>\n",
       "      <td>ART_AND_DESIGN</td>\n",
       "      <td>3.9</td>\n",
       "      <td>967</td>\n",
       "      <td>14000</td>\n",
       "      <td>500000</td>\n",
       "      <td>1</td>\n",
       "      <td>0.0</td>\n",
       "      <td>Everyone</td>\n",
       "      <td>2018</td>\n",
       "    </tr>\n",
       "    <tr>\n",
       "      <th>2</th>\n",
       "      <td>U Launcher Lite – FREE Live Cool Themes, Hide ...</td>\n",
       "      <td>ART_AND_DESIGN</td>\n",
       "      <td>4.7</td>\n",
       "      <td>87510</td>\n",
       "      <td>8000</td>\n",
       "      <td>5000000</td>\n",
       "      <td>1</td>\n",
       "      <td>0.0</td>\n",
       "      <td>Everyone</td>\n",
       "      <td>2018</td>\n",
       "    </tr>\n",
       "    <tr>\n",
       "      <th>3</th>\n",
       "      <td>Sketch - Draw &amp; Paint</td>\n",
       "      <td>ART_AND_DESIGN</td>\n",
       "      <td>4.5</td>\n",
       "      <td>215644</td>\n",
       "      <td>25000</td>\n",
       "      <td>50000000</td>\n",
       "      <td>1</td>\n",
       "      <td>0.0</td>\n",
       "      <td>Teen</td>\n",
       "      <td>2018</td>\n",
       "    </tr>\n",
       "    <tr>\n",
       "      <th>4</th>\n",
       "      <td>Pixel Draw - Number Art Coloring Book</td>\n",
       "      <td>ART_AND_DESIGN</td>\n",
       "      <td>4.3</td>\n",
       "      <td>967</td>\n",
       "      <td>2000</td>\n",
       "      <td>100000</td>\n",
       "      <td>1</td>\n",
       "      <td>0.0</td>\n",
       "      <td>Everyone</td>\n",
       "      <td>2018</td>\n",
       "    </tr>\n",
       "    <tr>\n",
       "      <th>...</th>\n",
       "      <td>...</td>\n",
       "      <td>...</td>\n",
       "      <td>...</td>\n",
       "      <td>...</td>\n",
       "      <td>...</td>\n",
       "      <td>...</td>\n",
       "      <td>...</td>\n",
       "      <td>...</td>\n",
       "      <td>...</td>\n",
       "      <td>...</td>\n",
       "    </tr>\n",
       "    <tr>\n",
       "      <th>9140</th>\n",
       "      <td>FR Forms</td>\n",
       "      <td>BUSINESS</td>\n",
       "      <td>NaN</td>\n",
       "      <td>0</td>\n",
       "      <td>9000</td>\n",
       "      <td>10</td>\n",
       "      <td>1</td>\n",
       "      <td>0.0</td>\n",
       "      <td>Everyone</td>\n",
       "      <td>2016</td>\n",
       "    </tr>\n",
       "    <tr>\n",
       "      <th>9141</th>\n",
       "      <td>Sya9a Maroc - FR</td>\n",
       "      <td>FAMILY</td>\n",
       "      <td>4.5</td>\n",
       "      <td>38</td>\n",
       "      <td>53000</td>\n",
       "      <td>5000</td>\n",
       "      <td>1</td>\n",
       "      <td>0.0</td>\n",
       "      <td>Everyone</td>\n",
       "      <td>2017</td>\n",
       "    </tr>\n",
       "    <tr>\n",
       "      <th>9142</th>\n",
       "      <td>Fr. Mike Schmitz Audio Teachings</td>\n",
       "      <td>FAMILY</td>\n",
       "      <td>5.0</td>\n",
       "      <td>4</td>\n",
       "      <td>3000</td>\n",
       "      <td>100</td>\n",
       "      <td>1</td>\n",
       "      <td>0.0</td>\n",
       "      <td>Everyone</td>\n",
       "      <td>2018</td>\n",
       "    </tr>\n",
       "    <tr>\n",
       "      <th>9143</th>\n",
       "      <td>Parkinson Exercices FR</td>\n",
       "      <td>MEDICAL</td>\n",
       "      <td>NaN</td>\n",
       "      <td>3</td>\n",
       "      <td>9000</td>\n",
       "      <td>1000</td>\n",
       "      <td>1</td>\n",
       "      <td>0.0</td>\n",
       "      <td>Everyone</td>\n",
       "      <td>2017</td>\n",
       "    </tr>\n",
       "    <tr>\n",
       "      <th>9144</th>\n",
       "      <td>iHoroscope - 2018 Daily Horoscope &amp; Astrology</td>\n",
       "      <td>LIFESTYLE</td>\n",
       "      <td>4.5</td>\n",
       "      <td>398307</td>\n",
       "      <td>19000</td>\n",
       "      <td>10000000</td>\n",
       "      <td>1</td>\n",
       "      <td>0.0</td>\n",
       "      <td>Everyone</td>\n",
       "      <td>2018</td>\n",
       "    </tr>\n",
       "  </tbody>\n",
       "</table>\n",
       "<p>9145 rows × 10 columns</p>\n",
       "</div>"
      ],
      "text/plain": [
       "                                                    App        Category  \\\n",
       "0        Photo Editor & Candy Camera & Grid & ScrapBook  ART_AND_DESIGN   \n",
       "1                                   Coloring book moana  ART_AND_DESIGN   \n",
       "2     U Launcher Lite – FREE Live Cool Themes, Hide ...  ART_AND_DESIGN   \n",
       "3                                 Sketch - Draw & Paint  ART_AND_DESIGN   \n",
       "4                 Pixel Draw - Number Art Coloring Book  ART_AND_DESIGN   \n",
       "...                                                 ...             ...   \n",
       "9140                                           FR Forms        BUSINESS   \n",
       "9141                                   Sya9a Maroc - FR          FAMILY   \n",
       "9142                   Fr. Mike Schmitz Audio Teachings          FAMILY   \n",
       "9143                             Parkinson Exercices FR         MEDICAL   \n",
       "9144      iHoroscope - 2018 Daily Horoscope & Astrology       LIFESTYLE   \n",
       "\n",
       "      Rating  Reviews   Size  Installs  Type  Price Content Rating  \\\n",
       "0        4.1      159  19000     10000     1    0.0       Everyone   \n",
       "1        3.9      967  14000    500000     1    0.0       Everyone   \n",
       "2        4.7    87510   8000   5000000     1    0.0       Everyone   \n",
       "3        4.5   215644  25000  50000000     1    0.0           Teen   \n",
       "4        4.3      967   2000    100000     1    0.0       Everyone   \n",
       "...      ...      ...    ...       ...   ...    ...            ...   \n",
       "9140     NaN        0   9000        10     1    0.0       Everyone   \n",
       "9141     4.5       38  53000      5000     1    0.0       Everyone   \n",
       "9142     5.0        4   3000       100     1    0.0       Everyone   \n",
       "9143     NaN        3   9000      1000     1    0.0       Everyone   \n",
       "9144     4.5   398307  19000  10000000     1    0.0       Everyone   \n",
       "\n",
       "     Last Updated  \n",
       "0            2018  \n",
       "1            2018  \n",
       "2            2018  \n",
       "3            2018  \n",
       "4            2018  \n",
       "...           ...  \n",
       "9140         2016  \n",
       "9141         2017  \n",
       "9142         2018  \n",
       "9143         2017  \n",
       "9144         2018  \n",
       "\n",
       "[9145 rows x 10 columns]"
      ]
     },
     "execution_count": 20,
     "metadata": {},
     "output_type": "execute_result"
    }
   ],
   "source": [
    "fp = os.path.join('data', 'googleplaystore.csv')\n",
    "df = pd.read_csv(fp)\n",
    "cleaned = clean_apps(df)\n",
    "cleaned"
   ]
  },
  {
   "cell_type": "code",
   "execution_count": 21,
   "metadata": {},
   "outputs": [
    {
     "data": {
      "text/plain": [
       "True"
      ]
     },
     "execution_count": 21,
     "metadata": {},
     "output_type": "execute_result"
    }
   ],
   "source": [
    "len(cleaned) == len(df)"
   ]
  },
  {
   "cell_type": "markdown",
   "metadata": {},
   "source": [
    "**Question 2 (Continued)**\n",
    "\n",
    "Now, we can do some basic exploration.\n",
    "\n",
    "In the function `store_info`, find the following using the **cleaned** dataframe:\n",
    "* Find the year with the highest median `Installs`, among all years with at least 100 apps.\n",
    "* Find the `Content Rating` with the highest minimum `Rating`.\n",
    "* Find the `Category` has the highest average price.\n",
    "* Find the `Category` with lowest average rating, among apps that have at least 1000 reviews.\n",
    "\n",
    "and return these values in a list.\n",
    "\n",
    "*Remark:* Note that the last question is asking you to compute the *average of averages* (the 'Rating' column contains the average rating of an app) -- such analyses are prone to occurrences of Simpson's Paradox. Considering apps with at least 1000 reviews helps limit the effect of such [ecological fallacies](https://afraenkel.github.io/practical-data-science/05/understanding-aggregations.html#reversing-aggregations-ecological-fallacies).\n",
    "* You can assume there is no ties.\n"
   ]
  },
  {
   "cell_type": "code",
   "execution_count": 22,
   "metadata": {},
   "outputs": [],
   "source": [
    "#cleaned.loc[cleaned['Last Updated']=='2011']#.shape[0]"
   ]
  },
  {
   "cell_type": "code",
   "execution_count": 23,
   "metadata": {},
   "outputs": [],
   "source": [
    "#app_count_df = cleaned.groupby('Last Updated').aggregate(np.count_nonzero)\n",
    "#above_100_years = app_count_df.loc[app_count_df.App >= 100].index\n",
    "#q1_df = cleaned[cleaned['Last Updated'].isin(above_100_years)]\n",
    "#q1_df.groupby('Last Updated').median().sort_values(by='Installs',ascending=False)#.index[0]"
   ]
  },
  {
   "cell_type": "code",
   "execution_count": 24,
   "metadata": {},
   "outputs": [],
   "source": [
    "#cleaned.groupby('Content Rating').min('Rating').sort_values('Rating',ascending=False).index[0]"
   ]
  },
  {
   "cell_type": "code",
   "execution_count": 25,
   "metadata": {},
   "outputs": [],
   "source": [
    "#cleaned.groupby('Category').mean().sort_values(by='Price',ascending=False).index[0]"
   ]
  },
  {
   "cell_type": "code",
   "execution_count": 26,
   "metadata": {},
   "outputs": [],
   "source": [
    "#cleaned.loc[cleaned.Reviews >= 1000].groupby('Category').mean().sort_values(by='Rating')"
   ]
  },
  {
   "cell_type": "code",
   "execution_count": 27,
   "metadata": {},
   "outputs": [],
   "source": [
    "def store_info(cleaned):\n",
    "    '''\n",
    "    >>> fp = os.path.join('data', 'googleplaystore.csv')\n",
    "    >>> df = pd.read_csv(fp)\n",
    "    >>> cleaned = clean_apps(df)\n",
    "    >>> info = store_info(cleaned)\n",
    "    >>> len(info)\n",
    "    4\n",
    "    >>> info[2] in cleaned.Category.unique()\n",
    "    True\n",
    "    '''\n",
    "\n",
    "    # find years where over 100 apps were made\n",
    "    app_count_df = cleaned.groupby('Last Updated').aggregate(np.count_nonzero)\n",
    "    above_100_years = app_count_df.loc[app_count_df.App >= 100].index\n",
    "    # group by year, take median of all cols, sort in descending order of median installations\n",
    "    q1_df = cleaned[cleaned['Last Updated'].isin(above_100_years)]\n",
    "    grouped_mediansq1 = q1_df.groupby('Last Updated').median().sort_values(by='Installs',ascending=False)\n",
    "    # set q1 equal to the year of the first row\n",
    "    q1 = grouped_mediansq1.index[0]\n",
    "    \n",
    "    # group by content rating, take min of all cols, sort in in descending order of rating mins\n",
    "    grouped_minsq2 = cleaned.groupby('Content Rating').min('Rating').sort_values('Rating',ascending=False)\n",
    "    # set q2 equal to the content rating of the first row\n",
    "    q2 = grouped_minsq2.index[0]\n",
    "    \n",
    "    # group by category, take average of all cols, sort in descending order of price\n",
    "    grouped_avgsq3 = cleaned.groupby('Category').mean().sort_values(by='Price',ascending=False)\n",
    "    # set q3 equal to the category of the first row\n",
    "    q3 = grouped_avgsq3.index[0]\n",
    "    \n",
    "    # find apps that have >=1000 reviews\n",
    "    review_count_df = cleaned.loc[cleaned.Reviews >= 1000]\n",
    "    # group by category, take average of all cols, sort in ascending order of rating\n",
    "    grouped_avgsq4 = review_count_df.groupby('Category').mean().sort_values(by='Rating',ascending=True)\n",
    "    # set q4 equal to category of the first row\n",
    "    q4 = grouped_avgsq4.index[0]\n",
    "    \n",
    "    return [q1,q2,q3,q4]"
   ]
  },
  {
   "cell_type": "code",
   "execution_count": 28,
   "metadata": {},
   "outputs": [
    {
     "ename": "TypeError",
     "evalue": "'builtin_function_or_method' object is not subscriptable",
     "output_type": "error",
     "traceback": [
      "\u001b[1;31m---------------------------------------------------------------------------\u001b[0m",
      "\u001b[1;31mTypeError\u001b[0m                                 Traceback (most recent call last)",
      "\u001b[1;32m<ipython-input-28-4271fdbfff92>\u001b[0m in \u001b[0;36m<module>\u001b[1;34m\u001b[0m\n\u001b[0;32m      2\u001b[0m \u001b[0mdf\u001b[0m \u001b[1;33m=\u001b[0m \u001b[0mpd\u001b[0m\u001b[1;33m.\u001b[0m\u001b[0mread_csv\u001b[0m\u001b[1;33m(\u001b[0m\u001b[0mfp\u001b[0m\u001b[1;33m)\u001b[0m\u001b[1;33m\u001b[0m\u001b[1;33m\u001b[0m\u001b[0m\n\u001b[0;32m      3\u001b[0m \u001b[0mcleaned\u001b[0m \u001b[1;33m=\u001b[0m \u001b[0mclean_apps\u001b[0m\u001b[1;33m(\u001b[0m\u001b[0mdf\u001b[0m\u001b[1;33m)\u001b[0m\u001b[1;33m\u001b[0m\u001b[1;33m\u001b[0m\u001b[0m\n\u001b[1;32m----> 4\u001b[1;33m \u001b[0minfo\u001b[0m \u001b[1;33m=\u001b[0m \u001b[0mstore_info\u001b[0m\u001b[1;33m(\u001b[0m\u001b[0mcleaned\u001b[0m\u001b[1;33m)\u001b[0m\u001b[1;33m\u001b[0m\u001b[1;33m\u001b[0m\u001b[0m\n\u001b[0m\u001b[0;32m      5\u001b[0m \u001b[0minfo\u001b[0m\u001b[1;33m\u001b[0m\u001b[1;33m\u001b[0m\u001b[0m\n",
      "\u001b[1;32m<ipython-input-27-9f4a3e0bedbd>\u001b[0m in \u001b[0;36mstore_info\u001b[1;34m(cleaned)\u001b[0m\n\u001b[0;32m     23\u001b[0m     \u001b[0mgrouped_minsq2\u001b[0m \u001b[1;33m=\u001b[0m \u001b[0mcleaned\u001b[0m\u001b[1;33m.\u001b[0m\u001b[0mgroupby\u001b[0m\u001b[1;33m(\u001b[0m\u001b[1;34m'Content Rating'\u001b[0m\u001b[1;33m)\u001b[0m\u001b[1;33m.\u001b[0m\u001b[0mmin\u001b[0m\u001b[1;33m(\u001b[0m\u001b[1;34m'Rating'\u001b[0m\u001b[1;33m)\u001b[0m\u001b[1;33m.\u001b[0m\u001b[0msort_values\u001b[0m\u001b[1;33m(\u001b[0m\u001b[1;34m'Rating'\u001b[0m\u001b[1;33m,\u001b[0m\u001b[0mascending\u001b[0m\u001b[1;33m=\u001b[0m\u001b[1;32mFalse\u001b[0m\u001b[1;33m)\u001b[0m\u001b[1;33m.\u001b[0m\u001b[0mindex\u001b[0m\u001b[1;33m[\u001b[0m\u001b[1;36m0\u001b[0m\u001b[1;33m]\u001b[0m\u001b[1;33m\u001b[0m\u001b[1;33m\u001b[0m\u001b[0m\n\u001b[0;32m     24\u001b[0m     \u001b[1;31m# set q2 equal to the content rating of the first row\u001b[0m\u001b[1;33m\u001b[0m\u001b[1;33m\u001b[0m\u001b[1;33m\u001b[0m\u001b[0m\n\u001b[1;32m---> 25\u001b[1;33m     \u001b[0mq2\u001b[0m \u001b[1;33m=\u001b[0m \u001b[0mgrouped_minsq2\u001b[0m\u001b[1;33m.\u001b[0m\u001b[0mindex\u001b[0m\u001b[1;33m[\u001b[0m\u001b[1;36m0\u001b[0m\u001b[1;33m]\u001b[0m\u001b[1;33m\u001b[0m\u001b[1;33m\u001b[0m\u001b[0m\n\u001b[0m\u001b[0;32m     26\u001b[0m \u001b[1;33m\u001b[0m\u001b[0m\n\u001b[0;32m     27\u001b[0m     \u001b[1;31m# group by category, take average of all cols, sort in descending order of price\u001b[0m\u001b[1;33m\u001b[0m\u001b[1;33m\u001b[0m\u001b[1;33m\u001b[0m\u001b[0m\n",
      "\u001b[1;31mTypeError\u001b[0m: 'builtin_function_or_method' object is not subscriptable"
     ]
    }
   ],
   "source": [
    "fp = os.path.join('data', 'googleplaystore.csv')\n",
    "df = pd.read_csv(fp)\n",
    "cleaned = clean_apps(df)\n",
    "info = store_info(cleaned)\n",
    "info"
   ]
  },
  {
   "cell_type": "code",
   "execution_count": null,
   "metadata": {},
   "outputs": [],
   "source": [
    "len(info)"
   ]
  },
  {
   "cell_type": "code",
   "execution_count": null,
   "metadata": {},
   "outputs": [],
   "source": [
    "info[2] in cleaned.Category.unique()"
   ]
  },
  {
   "cell_type": "markdown",
   "metadata": {},
   "source": [
    "### Transforming Apps review count by App category\n",
    "\n",
    "A reasonable question that we may ask after cleaning the apps dataset is that how popular each app is. One way of measuring popularity of apps is by studying its review count within their respective category. \n",
    "\n",
    "**Question 3**\n",
    "* Create a function `std_reviews_by_app_cat` that takes in a **cleaned** dataframe and outputs a dataframe with \n",
    "    - the same rows as the input,\n",
    "    - two columns given by `['Category', 'Reviews']`,\n",
    "    - where the `Reviews` columns are *standardized by app category* -- that is, the number of reviews for every app is put into the standard units for the category it belongs to. For a review of standard units, see the [DSC 10 Textbook](https://www.inferentialthinking.com/chapters/15/1/Correlation)\n",
    "    - *Hint*: use the methoc `groupby` and `transform`.\n",
    "* Lastly, create a function `su_and_spread` that returns a list of two items (hard-code your answers):\n",
    "    - Consider the following scenario: half of the apps in the category 'FAMILY' receives ratings of 0 stars while the other\n",
    "    half has rating of 5 stars. Similarly, the ‘MEDICAL' category has half 1-star and half 4-star apps.\n",
    "    Which app would have a higher rating after standarization? The five stars in the family category or the four stars in the\n",
    "    medical one. Answer with the name of the corresponding category ('FAMILY'/'MEDICAL') or use 'equal' if you think both\n",
    "    rating would be the same after standarization. (Don't worry about the uppercase but do be careful with the spelling). \n",
    "    - Which category type has the biggest \"spread\" of review count?\n",
    "    - Note: When calculating the standard deviation by hand, use the formula with `n` in the denominator. NumPy's `.std()` by default uses that formula, while `pd.Series().std()` by default uses the formula with `n - 1` in the denominator.\n",
    "    "
   ]
  },
  {
   "cell_type": "code",
   "execution_count": null,
   "metadata": {},
   "outputs": [],
   "source": [
    "cleaned = lab.clean_apps(play)"
   ]
  },
  {
   "cell_type": "code",
   "execution_count": null,
   "metadata": {},
   "outputs": [],
   "source": [
    "#two_col = cleaned.filter(['Category', 'Reviews'])\n",
    "#grouped = two_col.groupby('Category')#.transform(standard_units)\n",
    "#grouped"
   ]
  },
  {
   "cell_type": "code",
   "execution_count": null,
   "metadata": {},
   "outputs": [],
   "source": [
    "#pd.DataFrame(cleaned.filter(['Category', 'Reviews']).groupby('Reviews'))#.reset_index().mean()"
   ]
  },
  {
   "cell_type": "code",
   "execution_count": null,
   "metadata": {},
   "outputs": [],
   "source": [
    "#cleaned.groupby('Reviews').transform(standard_units)"
   ]
  },
  {
   "cell_type": "code",
   "execution_count": null,
   "metadata": {},
   "outputs": [],
   "source": [
    "#two_col.groupby('Category').mean()"
   ]
  },
  {
   "cell_type": "code",
   "execution_count": null,
   "metadata": {},
   "outputs": [],
   "source": [
    "#two_col.groupby('Category').std()"
   ]
  },
  {
   "cell_type": "code",
   "execution_count": null,
   "metadata": {},
   "outputs": [],
   "source": [
    "#two_col = cleaned.filter(['Category', 'Reviews'])\n",
    "#catmeans = two_col.groupby('Category').transform('mean')['Reviews']\n",
    "#catdevs = two_col.groupby('Category').transform('std')['Reviews']\n",
    "#two_col['Reviews'] = two_col['Reviews'] - catmeans\n",
    "#two_col['Reviews'] = two_col['Reviews'] / catdevs\n",
    "#two_col.groupby('Category').mean().sort_values('Reviews',ascending=False)"
   ]
  },
  {
   "cell_type": "code",
   "execution_count": null,
   "metadata": {},
   "outputs": [],
   "source": [
    "def std_reviews_by_app_cat(cleaned):\n",
    "    \"\"\"\n",
    "    >>> fp = os.path.join('data', 'googleplaystore.csv')\n",
    "    >>> play = pd.read_csv(fp)\n",
    "    >>> clean_play = clean_apps(play)\n",
    "    >>> out = std_reviews_by_app_cat(clean_play)\n",
    "    >>> set(out.columns) == set(['Category', 'Reviews'])\n",
    "    True\n",
    "    >>> np.all(abs(out.select_dtypes(include='number').mean()) < 10**-7)  # standard units should average to 0!\n",
    "    True\n",
    "    \"\"\"\n",
    "    \n",
    "    # remove unnecessary columns\n",
    "    two_col = cleaned.filter(['Category', 'Reviews'])\n",
    "    # find grouped means and standard deviations, turn into pandas series\n",
    "    catmeans = two_col.groupby('Category').transform('mean')['Reviews']\n",
    "    catdevs = two_col.groupby('Category').transform('std')['Reviews']\n",
    "    # perform standard unit conversion according to dsc10 textbook using the 2 series above\n",
    "    two_col['Reviews'] = two_col['Reviews'] - catmeans\n",
    "    two_col['Reviews'] = two_col['Reviews'] / catdevs\n",
    "    \n",
    "    return two_col"
   ]
  },
  {
   "cell_type": "code",
   "execution_count": null,
   "metadata": {},
   "outputs": [],
   "source": [
    "fp = os.path.join('data', 'googleplaystore.csv')\n",
    "play = pd.read_csv(fp)\n",
    "clean_play = clean_apps(play)\n",
    "out = std_reviews_by_app_cat(clean_play)\n",
    "out"
   ]
  },
  {
   "cell_type": "code",
   "execution_count": null,
   "metadata": {},
   "outputs": [],
   "source": [
    "set(out.columns) == set(['Category', 'Reviews'])"
   ]
  },
  {
   "cell_type": "code",
   "execution_count": null,
   "metadata": {},
   "outputs": [],
   "source": [
    "np.all(abs(out.select_dtypes(include='number').mean()) < 10**-7)  # standard units should average to 0!"
   ]
  },
  {
   "cell_type": "code",
   "execution_count": null,
   "metadata": {},
   "outputs": [],
   "source": [
    "def su_and_spread():\n",
    "    \"\"\"\n",
    "    >>> out = su_and_spread()\n",
    "    >>> len(out) == 2\n",
    "    True\n",
    "    >>> out[0].lower() in ['medical', 'family', 'equal']\n",
    "    True\n",
    "    >>> out[1] in ['ART_AND_DESIGN', 'AUTO_AND_VEHICLES', 'BEAUTY',\\\n",
    "       'BOOKS_AND_REFERENCE', 'BUSINESS', 'COMICS', 'COMMUNICATION',\\\n",
    "       'DATING', 'EDUCATION', 'ENTERTAINMENT', 'EVENTS', 'FINANCE',\\\n",
    "       'FOOD_AND_DRINK', 'HEALTH_AND_FITNESS', 'HOUSE_AND_HOME',\\\n",
    "       'LIBRARIES_AND_DEMO', 'LIFESTYLE', 'GAME', 'FAMILY', 'MEDICAL',\\\n",
    "       'SOCIAL', 'SHOPPING', 'PHOTOGRAPHY', 'SPORTS', 'TRAVEL_AND_LOCAL',\\\n",
    "       'TOOLS', 'PERSONALIZATION', 'PRODUCTIVITY', 'PARENTING', 'WEATHER',\\\n",
    "       'VIDEO_PLAYERS', 'NEWS_AND_MAGAZINES', 'MAPS_AND_NAVIGATION']\n",
    "    True\n",
    "    \"\"\"\n",
    "    \n",
    "    return ['equal', 'GAME']"
   ]
  },
  {
   "cell_type": "code",
   "execution_count": null,
   "metadata": {},
   "outputs": [],
   "source": [
    "out = su_and_spread()\n",
    "out"
   ]
  },
  {
   "cell_type": "code",
   "execution_count": null,
   "metadata": {},
   "outputs": [],
   "source": [
    "len(out) == 2"
   ]
  },
  {
   "cell_type": "code",
   "execution_count": null,
   "metadata": {},
   "outputs": [],
   "source": [
    "out[0].lower() in ['medical', 'family', 'equal']"
   ]
  },
  {
   "cell_type": "code",
   "execution_count": null,
   "metadata": {},
   "outputs": [],
   "source": [
    "out[1] in ['ART_AND_DESIGN', 'AUTO_AND_VEHICLES', 'BEAUTY',\\\n",
    "       'BOOKS_AND_REFERENCE', 'BUSINESS', 'COMICS', 'COMMUNICATION',\\\n",
    "       'DATING', 'EDUCATION', 'ENTERTAINMENT', 'EVENTS', 'FINANCE',\\\n",
    "       'FOOD_AND_DRINK', 'HEALTH_AND_FITNESS', 'HOUSE_AND_HOME',\\\n",
    "       'LIBRARIES_AND_DEMO', 'LIFESTYLE', 'GAME', 'FAMILY', 'MEDICAL',\\\n",
    "       'SOCIAL', 'SHOPPING', 'PHOTOGRAPHY', 'SPORTS', 'TRAVEL_AND_LOCAL',\\\n",
    "       'TOOLS', 'PERSONALIZATION', 'PRODUCTIVITY', 'PARENTING', 'WEATHER',\\\n",
    "       'VIDEO_PLAYERS', 'NEWS_AND_MAGAZINES', 'MAPS_AND_NAVIGATION']"
   ]
  },
  {
   "cell_type": "markdown",
   "metadata": {},
   "source": [
    "### Facebook Friends\n",
    "\n",
    "**Question 4**\n",
    "\n",
    "A group of students decided to send out a survey to their Facebook friends. Each student asks 1000 of their friends for their first and last name, the company they currently work at, their job title, their email, and the university they attended. Combine all the data contained in the files `survey*.csv` (within the `responses` folder within the data folder) into a single dataframe. The number of files and the number of rows in each file may vary, so don't hardcode your answers!\n",
    "\n",
    "Create a function `read_survey` which takes in a directory path (containing files `survey*.csv`), and outputs a dataframe with six columns titled: `first name`, `last name`, `current company`, `job title`, `email`, `university` (in that order). \n",
    "\n",
    "*Hint*: You can list the files in a directory using `os.listdir`.\n",
    "\n",
    "*Remark: You may have to do some cleaning to make this possible!*\n",
    "\n",
    "Create a function `com_stats` that takes in in a dataframe and returns a (hardcoded) list containing: \n",
    "- The number of employees at the company that hired the most employees\n",
    "- The number of emails that end in \".edu\"\n",
    "- The job title that has the longest name (there are no ties)\n",
    "- The number of managers (hint: you may want to look through all the job titles to make sure you get all of them!)"
   ]
  },
  {
   "cell_type": "code",
   "execution_count": null,
   "metadata": {},
   "outputs": [],
   "source": [
    "dirname = os.path.join('data', 'responses')\n",
    "lab.read_survey(dirname)"
   ]
  },
  {
   "cell_type": "code",
   "execution_count": null,
   "metadata": {},
   "outputs": [],
   "source": [
    "#dirname"
   ]
  },
  {
   "cell_type": "code",
   "execution_count": null,
   "metadata": {},
   "outputs": [],
   "source": [
    "#os.listdir(dirname)"
   ]
  },
  {
   "cell_type": "code",
   "execution_count": null,
   "metadata": {},
   "outputs": [],
   "source": [
    "#dfs = []\n",
    "\n",
    "#fp = os.path.join(dirname,'survey1.csv')\n",
    "#file_df1 = pd.read_csv(fp)\n",
    "#file_df1.columns = file_df1.columns.str.lower().str.replace(' ','').str.replace('_','')\n",
    "#dfs.append(file_df1)\n",
    "\n",
    "#fp = os.path.join(dirname,'survey2.csv')\n",
    "#file_df2 = pd.read_csv(fp)\n",
    "#file_df2.columns = file_df2.columns.str.lower().str.replace(' ','').str.replace('_','')\n",
    "#dfs.append(file_df2)\n",
    "\n",
    "#pd.concat(dfs)"
   ]
  },
  {
   "cell_type": "code",
   "execution_count": null,
   "metadata": {},
   "outputs": [],
   "source": [
    "def read_survey(dirname):\n",
    "    \"\"\"\n",
    "    read_survey combines all the survey*.csv files into a singular DataFrame\n",
    "    :param dirname: directory name where the survey*.csv files are\n",
    "    :returns: a DataFrame containing the combined survey data\n",
    "    :Example:\n",
    "    >>> dirname = os.path.join('data', 'responses')\n",
    "    >>> out = read_survey(dirname)\n",
    "    >>> isinstance(out, pd.DataFrame)\n",
    "    True\n",
    "    >>> len(out)\n",
    "    5000\n",
    "    >>> read_survey('nonexistentfile') # doctest: +ELLIPSIS\n",
    "    Traceback (most recent call last):\n",
    "    ...\n",
    "    FileNotFoundError: ... 'nonexistentfile'\n",
    "    \"\"\"\n",
    "    dfs = []\n",
    "    \n",
    "    for file in os.listdir(dirname):\n",
    "        fp = os.path.join(dirname,file)\n",
    "        file_df = pd.read_csv(fp)\n",
    "        file_df.columns = file_df.columns.str.lower().str.replace(' ','').str.replace('_','')\n",
    "        file_df = file_df[['firstname','lastname','currentcompany','jobtitle','email','university']]\n",
    "        dfs.append(file_df)\n",
    "    \n",
    "    total_df = pd.concat(dfs)\n",
    "    total_df.columns = ['first name', 'last name', 'current company', 'job title', 'email', 'university']\n",
    "    \n",
    "    return total_df"
   ]
  },
  {
   "cell_type": "code",
   "execution_count": null,
   "metadata": {},
   "outputs": [],
   "source": [
    "dirname = os.path.join('data', 'responses')\n",
    "out = read_survey(dirname)\n",
    "out"
   ]
  },
  {
   "cell_type": "code",
   "execution_count": null,
   "metadata": {},
   "outputs": [],
   "source": [
    "isinstance(out, pd.DataFrame)"
   ]
  },
  {
   "cell_type": "code",
   "execution_count": null,
   "metadata": {},
   "outputs": [],
   "source": [
    "len(out)"
   ]
  },
  {
   "cell_type": "code",
   "execution_count": null,
   "metadata": {},
   "outputs": [],
   "source": [
    "#read_survey('nonexistentfile') # doctest: +ELLIPSIS"
   ]
  },
  {
   "cell_type": "code",
   "execution_count": null,
   "metadata": {},
   "outputs": [],
   "source": [
    "#The number of employees at the company that hired the most employees\n",
    "#The number of emails that end in \".edu\"\n",
    "#The job title that has the longest name (there are no ties)\n",
    "#The number of managers (hint: you may want to look through all the job titles to make sure you get all of them!)"
   ]
  },
  {
   "cell_type": "code",
   "execution_count": null,
   "metadata": {},
   "outputs": [],
   "source": [
    "#out.groupby('current company').count().sort_values('first name',ascending=False).values[0][0]"
   ]
  },
  {
   "cell_type": "code",
   "execution_count": null,
   "metadata": {},
   "outputs": [],
   "source": [
    "#out.loc[out.email.str[-4:] == '.edu'].shape[0]"
   ]
  },
  {
   "cell_type": "code",
   "execution_count": null,
   "metadata": {},
   "outputs": [],
   "source": [
    "#longest_len = out['job title'].str.len().sort_values(ascending=False).values[0]\n",
    "#out.loc[out['job title'].str.len() == longest_len]['job title'].unique()[0]"
   ]
  },
  {
   "cell_type": "code",
   "execution_count": null,
   "metadata": {},
   "outputs": [],
   "source": [
    "#out['job title'].str.lower().str.contains('manager').sum()"
   ]
  },
  {
   "cell_type": "code",
   "execution_count": null,
   "metadata": {},
   "outputs": [],
   "source": [
    "def com_stats(df):\n",
    "    \"\"\"\n",
    "    com_stats \n",
    "    :param df: a DataFrame containing the combined survey data\n",
    "    :returns: a hardcoded list of answers to the problems in the notebook\n",
    "    :Example:\n",
    "    >>> dirname = os.path.join('data', 'responses')\n",
    "    >>> df = read_survey(dirname)\n",
    "    >>> out = com_stats(df)\n",
    "    >>> len(out)\n",
    "    4\n",
    "    >>> isinstance(out[0], int)\n",
    "    True\n",
    "    >>> isinstance(out[2], str)\n",
    "    True\n",
    "    \"\"\"\n",
    "\n",
    "    return [5, 253, 'Business Systems Development Analyst', 369]"
   ]
  },
  {
   "cell_type": "code",
   "execution_count": null,
   "metadata": {},
   "outputs": [],
   "source": [
    "dirname = os.path.join('data', 'responses')\n",
    "df = read_survey(dirname)\n",
    "out = com_stats(df)\n",
    "out"
   ]
  },
  {
   "cell_type": "code",
   "execution_count": null,
   "metadata": {},
   "outputs": [],
   "source": [
    "len(out)"
   ]
  },
  {
   "cell_type": "code",
   "execution_count": null,
   "metadata": {},
   "outputs": [],
   "source": [
    "isinstance(out[0], int)"
   ]
  },
  {
   "cell_type": "code",
   "execution_count": null,
   "metadata": {},
   "outputs": [],
   "source": [
    "isinstance(out[2], str)"
   ]
  },
  {
   "cell_type": "markdown",
   "metadata": {},
   "source": [
    "### Combining Data\n",
    "**Question 5**\n",
    "\n",
    "Every week, a professor sends out an extra credit survey asking for students' favorite things (animals, movies, etc). \n",
    "- Each student who has completed at least 75% of the surveys receives 5 points of extra credit.\n",
    "- If at least 90% of the class answers at least one of the questions (ex. favorite animal), *everyone* in the class receives 1 point of extra credit. This overall class extra credit only applies once (ex. If 95% of students answer favorite color and 91% answer favorite animal, the entire class still only receives 1 extra point as a class).\n",
    "\n",
    "Create a function `combine_surveys` which takes in a directory path (containing files `favorite*.csv`) and combines all of the survey data into one DataFrame, indexed by student ID (a value 1 - 1000).\n",
    "\n",
    "Create a function `check_credit` which takes in a DataFrame with the combined survey data and outputs a DataFrame of the names of students and how many extra credit points they would receive, indexed by their ID (a value 1-1000)"
   ]
  },
  {
   "cell_type": "code",
   "execution_count": null,
   "metadata": {},
   "outputs": [],
   "source": [
    "dirname = os.path.join('data', 'extra-credit-surveys')\n",
    "df = lab.combine_surveys(dirname)\n",
    "df.head()"
   ]
  },
  {
   "cell_type": "code",
   "execution_count": null,
   "metadata": {},
   "outputs": [],
   "source": [
    "#fp1 = os.path.join(dirname,'favorite1.csv')\n",
    "#file_df1 = pd.read_csv(fp1, index_col='id')\n",
    "\n",
    "#fp2 = os.path.join(dirname,'favorite2.csv')\n",
    "#file_df2 = pd.read_csv(fp2, index_col='id')\n",
    "\n",
    "#file_df1.join(file_df2)"
   ]
  },
  {
   "cell_type": "code",
   "execution_count": null,
   "metadata": {},
   "outputs": [],
   "source": [
    "#pd.DataFrame()"
   ]
  },
  {
   "cell_type": "code",
   "execution_count": null,
   "metadata": {},
   "outputs": [],
   "source": [
    "def combine_surveys(dirname):\n",
    "    \"\"\"\n",
    "    combine_surveys takes in a directory path \n",
    "    (containing files favorite*.csv) and combines \n",
    "    all of the survey data into one DataFrame, \n",
    "    indexed by student ID (a value 0 - 1000).\n",
    "\n",
    "    :Example:\n",
    "    >>> dirname = os.path.join('data', 'extra-credit-surveys')\n",
    "    >>> out = combine_surveys(dirname)\n",
    "    >>> isinstance(out, pd.DataFrame)\n",
    "    True\n",
    "    >>> out.shape\n",
    "    (1000, 6)\n",
    "    >>> combine_surveys('nonexistentfile') # doctest: +ELLIPSIS\n",
    "    Traceback (most recent call last):\n",
    "    ...\n",
    "    FileNotFoundError: ... 'nonexistentfile'\n",
    "    \"\"\"\n",
    "\n",
    "    dfs = []\n",
    "    \n",
    "    for file in os.listdir(dirname):\n",
    "        fp = os.path.join(dirname,file)\n",
    "        file_df = pd.read_csv(fp, index_col='id')\n",
    "        dfs.append(file_df)\n",
    "    #from functools import reduce\n",
    "    #final_df = reduce(lambda left,right: left.join(right), dfs)\n",
    "    final_df = dfs[0].join(dfs[1:])\n",
    "    \n",
    "    return final_df"
   ]
  },
  {
   "cell_type": "code",
   "execution_count": null,
   "metadata": {},
   "outputs": [],
   "source": [
    "dirname = os.path.join('data', 'extra-credit-surveys')\n",
    "out = combine_surveys(dirname)\n",
    "out"
   ]
  },
  {
   "cell_type": "code",
   "execution_count": null,
   "metadata": {},
   "outputs": [],
   "source": [
    "isinstance(out, pd.DataFrame)"
   ]
  },
  {
   "cell_type": "code",
   "execution_count": null,
   "metadata": {},
   "outputs": [],
   "source": [
    "out.shape"
   ]
  },
  {
   "cell_type": "code",
   "execution_count": null,
   "metadata": {},
   "outputs": [],
   "source": [
    "#combine_surveys('nonexistentfile') # doctest: +ELLIPSIS"
   ]
  },
  {
   "cell_type": "code",
   "execution_count": null,
   "metadata": {},
   "outputs": [],
   "source": [
    "#final_df = pd.DataFrame(out['name'])\n",
    "#no_names = out.loc[:, out.columns != 'name']\n",
    "\n",
    "#non_null_row_prop = 1 - (no_names.isnull().sum(axis=1) / no_names.shape[1])\n",
    "#final_df['non_null_row_prop'] = pd.Series(non_null_row_prop)\n",
    "#final_df['extra credit'] = final_df['non_null_row_prop'].apply(lambda x: 5 if x >= .75 else 0)\n",
    "\n",
    "#non_null_col_prop = 1 - (no_names.isnull().sum(axis=0) / no_names.shape[0])\n",
    "#class_ec = any(1 - (no_names.isnull().sum(axis=0) / no_names.shape[0]).values > 0.90)\n",
    "\n",
    "#if class_ec == True:\n",
    "#    final_df['extra credit'] += 1\n",
    "\n",
    "#final_df"
   ]
  },
  {
   "cell_type": "code",
   "execution_count": null,
   "metadata": {},
   "outputs": [],
   "source": [
    "#any(1 - (no_names.isnull().sum(axis=0) / no_names.shape[0]).values > 0.90)"
   ]
  },
  {
   "cell_type": "code",
   "execution_count": null,
   "metadata": {},
   "outputs": [],
   "source": [
    "def check_credit(df):\n",
    "    \"\"\"\n",
    "    check_credit takes in a DataFrame with the \n",
    "    combined survey data and outputs a DataFrame \n",
    "    of the names of students and how many extra credit \n",
    "    points they would receive, indexed by their ID (a value 0-1000)\n",
    "\n",
    "    :Example:\n",
    "    >>> dirname = os.path.join('data', 'extra-credit-surveys')\n",
    "    >>> df = combine_surveys(dirname)\n",
    "    >>> out = check_credit(df)\n",
    "    >>> out.shape\n",
    "    (1000, 2)\n",
    "    \"\"\"\n",
    "    \n",
    "    final_df = pd.DataFrame(df['name'])\n",
    "    no_names = df.loc[:, df.columns != 'name']\n",
    "    \n",
    "    non_null_row_prop = 1 - (no_names.isnull().sum(axis=1) / no_names.shape[1])\n",
    "    final_df['non_null_row_prop'] = pd.Series(non_null_row_prop)\n",
    "    final_df['extra credit'] = final_df['non_null_row_prop'].apply(lambda x: 5 if x >= .75 else 0)\n",
    "    \n",
    "    non_null_col_prop = 1 - (no_names.isnull().sum(axis=0) / no_names.shape[0])\n",
    "    class_ec = any(1 - (no_names.isnull().sum(axis=0) / no_names.shape[0]).values > 0.90)\n",
    "\n",
    "    if class_ec == True:\n",
    "        final_df['extra credit'] += 1\n",
    "\n",
    "    return final_df.drop('non_null_row_prop', axis=1)"
   ]
  },
  {
   "cell_type": "code",
   "execution_count": null,
   "metadata": {},
   "outputs": [],
   "source": [
    "dirname = os.path.join('data', 'extra-credit-surveys')\n",
    "df = combine_surveys(dirname)\n",
    "out = check_credit(df)\n",
    "out"
   ]
  },
  {
   "cell_type": "code",
   "execution_count": null,
   "metadata": {},
   "outputs": [],
   "source": [
    "out.shape"
   ]
  },
  {
   "cell_type": "markdown",
   "metadata": {},
   "source": [
    "### Joining pets and owners\n",
    "\n",
    "**Question 6**\n",
    "\n",
    "You are analyzing data from a veterinarian clinic. The datasets contain several types of information from the clinic, including its customers (pet owners), pets, and available procedures and history. The column names are self-explanatory. These dataframes are provided to you:\n",
    "-  `owners` stores the customer information, where every `OwnerID` is unique (verify yourself).\n",
    "-  `pets` stores the pet information. Each pet belongs to a customer in `owners`.\n",
    "-  `procedure_detail` contains a catalog of procedures that are offered by the clinic.\n",
    "-  `procedure_history` has procedure records. Each procedure is given to a pet in `pets`.\n",
    "\n",
    "You want to answer the following questions:\n",
    "\n",
    "1. What is the most popular Procedure Type for all of the pets we have in our `pets` dataset? Note that some pets are registered but haven't had any procedure performed. Also, some pets that have had procedures done, are not registered in `pets`. Create a function `most_popular_procedure` that takes in `pets`, `procedure_history` and returns the name of the most popular Procedure Type as a string.\n",
    " \n",
    "2. What is the name of each customer's pet(s)? Create a function `pet_name_by_owner` that takes in `owners`, `pets` and returns a Series that holds the pet name (as a string) indexed by owner's (first) name. If an owner has multiple pets, the corresponding value should be a list of names as strings.\n",
    "\n",
    "3. For each city that had owners who had their pets in our procedure history, how much does the city spend in total on procedures? Create a function `total_cost_per_city` that returns a Series that contains the sum of money that a city has spent on pets' procedures, indexed by `City`. Hint: think of what makes a procedure unique in the context of this dataset."
   ]
  },
  {
   "cell_type": "code",
   "execution_count": null,
   "metadata": {},
   "outputs": [],
   "source": [
    "owners_fp = os.path.join('data', 'pets', 'Owners.csv')\n",
    "pets_fp = os.path.join('data', 'pets', 'Pets.csv')\n",
    "procedure_detail_fp = os.path.join('data', 'pets', 'ProceduresDetails.csv')\n",
    "procedure_history_fp = os.path.join('data', 'pets', 'ProceduresHistory.csv')"
   ]
  },
  {
   "cell_type": "code",
   "execution_count": null,
   "metadata": {},
   "outputs": [],
   "source": [
    "owners = pd.read_csv(owners_fp)\n",
    "pets = pd.read_csv(pets_fp)\n",
    "procedure_detail = pd.read_csv(procedure_detail_fp)\n",
    "procedure_history = pd.read_csv(procedure_history_fp)"
   ]
  },
  {
   "cell_type": "code",
   "execution_count": null,
   "metadata": {},
   "outputs": [],
   "source": [
    "#procedure_detail"
   ]
  },
  {
   "cell_type": "code",
   "execution_count": null,
   "metadata": {},
   "outputs": [],
   "source": [
    "#lab.pet_name_by_owner(owners, pets)"
   ]
  },
  {
   "cell_type": "code",
   "execution_count": null,
   "metadata": {},
   "outputs": [],
   "source": [
    "#procedure_history.groupby('ProcedureType').count().sort_values('ProcedureSubCode',ascending=False).index[0]"
   ]
  },
  {
   "cell_type": "code",
   "execution_count": null,
   "metadata": {},
   "outputs": [],
   "source": [
    "#petmerge = pets.merge(owners,on='OwnerID')\n",
    "#grouped_owners = petmerge.groupby('OwnerID')['OwnerID'].count()\n",
    "#grouped_owners#.shape"
   ]
  },
  {
   "cell_type": "code",
   "execution_count": null,
   "metadata": {},
   "outputs": [],
   "source": [
    "#petmerge.head()\n",
    "#petmerge.sort_values('OwnerID').drop_duplicates(subset=['OwnerID'])['Name_y']#.unique()"
   ]
  },
  {
   "cell_type": "code",
   "execution_count": null,
   "metadata": {},
   "outputs": [],
   "source": [
    "#petmerge.loc[petmerge['OwnerID'] == 6049]['Name_x'].values.shape[0]"
   ]
  },
  {
   "cell_type": "code",
   "execution_count": null,
   "metadata": {},
   "outputs": [],
   "source": [
    "#name_index = petmerge.sort_values('OwnerID').drop_duplicates(subset=['OwnerID'])['Name_y']#.unique()\n",
    "#with pd.option_context('display.max_rows', None, 'display.max_columns', None):  # more options can be specified also\n",
    "#    print(pd.Series([petmerge.loc[petmerge['OwnerID'] == owner]['Name_x'].values[0]  \n",
    "#              if (petmerge.loc[petmerge['OwnerID'] == owner]['Name_x'].values.shape[0] == 1)\n",
    "#              else list(petmerge.loc[petmerge['OwnerID'] == owner]['Name_x'].values) for owner in grouped_owners.index], index=name_index))"
   ]
  },
  {
   "cell_type": "code",
   "execution_count": null,
   "metadata": {},
   "outputs": [],
   "source": [
    "#owners.merge(pets,on='OwnerID')"
   ]
  },
  {
   "cell_type": "code",
   "execution_count": null,
   "metadata": {},
   "outputs": [],
   "source": [
    "def most_popular_procedure(pets, procedure_history):\n",
    "    \"\"\"\n",
    "    What is the most popular Procedure Type for all of the pets we have in our `pets` dataset?\n",
    " \n",
    "    :Example:\n",
    "    >>> pets_fp = os.path.join('data', 'pets', 'Pets.csv')\n",
    "    >>> procedure_history_fp = os.path.join('data', 'pets', 'ProceduresHistory.csv')\n",
    "    >>> pets = pd.read_csv(pets_fp)\n",
    "    >>> procedure_history = pd.read_csv(procedure_history_fp)\n",
    "    >>> out = most_popular_procedure(pets, procedure_history)\n",
    "    >>> isinstance(out,str)\n",
    "    True\n",
    "    \"\"\"\n",
    "\n",
    "    return 'VACCINATIONS'"
   ]
  },
  {
   "cell_type": "code",
   "execution_count": null,
   "metadata": {},
   "outputs": [],
   "source": [
    "pets_fp = os.path.join('data', 'pets', 'Pets.csv')\n",
    "procedure_history_fp = os.path.join('data', 'pets', 'ProceduresHistory.csv')\n",
    "pets = pd.read_csv(pets_fp)\n",
    "procedure_history = pd.read_csv(procedure_history_fp)\n",
    "out = most_popular_procedure(pets, procedure_history)\n",
    "out"
   ]
  },
  {
   "cell_type": "code",
   "execution_count": null,
   "metadata": {},
   "outputs": [],
   "source": [
    "isinstance(out,str)"
   ]
  },
  {
   "cell_type": "code",
   "execution_count": null,
   "metadata": {},
   "outputs": [],
   "source": [
    "def pet_name_by_owner(owners, pets):\n",
    "    \"\"\"\n",
    "    pet names by owner\n",
    "\n",
    "    :Example:\n",
    "    >>> owners_fp = os.path.join('data', 'pets', 'Owners.csv')\n",
    "    >>> pets_fp = os.path.join('data', 'pets', 'Pets.csv')\n",
    "    >>> owners = pd.read_csv(owners_fp)\n",
    "    >>> pets = pd.read_csv(pets_fp)\n",
    "    >>> out = pet_name_by_owner(owners, pets)\n",
    "    >>> len(out) == len(owners)\n",
    "    True\n",
    "    >>> 'Sarah' in out.index\n",
    "    True\n",
    "    >>> 'Cookie' in out.values\n",
    "    True\n",
    "    \"\"\"\n",
    "    petmerge = pets.merge(owners,on='OwnerID')\n",
    "    grouped_owners = petmerge.groupby('OwnerID')['OwnerID'].count()\n",
    "    name_index = petmerge.sort_values('OwnerID').drop_duplicates(subset=['OwnerID'])['Name_y']#.unique()\n",
    "    df_series = pd.Series([petmerge.loc[petmerge['OwnerID'] == owner]['Name_x'].values[0]  \n",
    "                          if (petmerge.loc[petmerge['OwnerID'] == owner]['Name_x'].values.shape[0] == 1)\n",
    "                          else list(petmerge.loc[petmerge['OwnerID'] == owner]['Name_x'].values) for owner in grouped_owners.index], index=name_index)\n",
    "    return df_series"
   ]
  },
  {
   "cell_type": "code",
   "execution_count": null,
   "metadata": {},
   "outputs": [],
   "source": [
    "owners_fp = os.path.join('data', 'pets', 'Owners.csv')\n",
    "pets_fp = os.path.join('data', 'pets', 'Pets.csv')\n",
    "owners = pd.read_csv(owners_fp)\n",
    "pets = pd.read_csv(pets_fp)\n",
    "out = pet_name_by_owner(owners, pets)\n",
    "out.head(50)"
   ]
  },
  {
   "cell_type": "code",
   "execution_count": null,
   "metadata": {},
   "outputs": [],
   "source": [
    "len(out) == len(owners)"
   ]
  },
  {
   "cell_type": "code",
   "execution_count": null,
   "metadata": {},
   "outputs": [],
   "source": [
    "'Sarah' in out.index"
   ]
  },
  {
   "cell_type": "code",
   "execution_count": null,
   "metadata": {},
   "outputs": [],
   "source": [
    "'Cookie' in out.values"
   ]
  },
  {
   "cell_type": "code",
   "execution_count": null,
   "metadata": {},
   "outputs": [],
   "source": [
    "#price_merged = pd.merge(left=procedure_history, right=procedure_detail, how='left', left_on=['ProcedureType','ProcedureSubCode'], right_on=['ProcedureType','ProcedureSubCode'])\n",
    "#price_merged"
   ]
  },
  {
   "cell_type": "code",
   "execution_count": null,
   "metadata": {},
   "outputs": [],
   "source": [
    "#pet_merged = price_merged.merge(pets, how='left',on='PetID')\n",
    "#pet_merged"
   ]
  },
  {
   "cell_type": "code",
   "execution_count": null,
   "metadata": {},
   "outputs": [],
   "source": [
    "#owner_merged = pet_merged.merge(owners, how='left',on='OwnerID')\n",
    "#owner_merged"
   ]
  },
  {
   "cell_type": "code",
   "execution_count": null,
   "metadata": {},
   "outputs": [],
   "source": [
    "#owner_merged.groupby('City').sum()['Price']"
   ]
  },
  {
   "cell_type": "code",
   "execution_count": null,
   "metadata": {},
   "outputs": [],
   "source": [
    "def total_cost_per_city(owners, pets, procedure_history, procedure_detail):\n",
    "    \"\"\"\n",
    "    total cost per city\n",
    " \n",
    "    :Example:\n",
    "    >>> owners_fp = os.path.join('data', 'pets', 'Owners.csv')\n",
    "    >>> pets_fp = os.path.join('data', 'pets', 'Pets.csv')\n",
    "    >>> procedure_detail_fp = os.path.join('data', 'pets', 'ProceduresDetails.csv')\n",
    "    >>> procedure_history_fp = os.path.join('data', 'pets', 'ProceduresHistory.csv')\n",
    "    >>> owners = pd.read_csv(owners_fp)\n",
    "    >>> pets = pd.read_csv(pets_fp)\n",
    "    >>> procedure_detail = pd.read_csv(procedure_detail_fp)\n",
    "    >>> procedure_history = pd.read_csv(procedure_history_fp)\n",
    "    >>> out = total_cost_per_city(owners, pets, procedure_history, procedure_detail)\n",
    "    >>> set(out.index) <= set(owners['City'])\n",
    "    True\n",
    "    \"\"\"\n",
    "    price_merged = pd.merge(left=procedure_history, right=procedure_detail, how='left', left_on=['ProcedureType','ProcedureSubCode'], right_on=['ProcedureType','ProcedureSubCode'])\n",
    "    pet_merged = price_merged.merge(pets, how='left',on='PetID')\n",
    "    owner_merged = pet_merged.merge(owners, how='left',on='OwnerID')\n",
    "    cost_per_city = owner_merged.groupby('City').sum()['Price']\n",
    "    return cost_per_city"
   ]
  },
  {
   "cell_type": "code",
   "execution_count": null,
   "metadata": {},
   "outputs": [],
   "source": [
    "owners_fp = os.path.join('data', 'pets', 'Owners.csv')\n",
    "pets_fp = os.path.join('data', 'pets', 'Pets.csv')\n",
    "procedure_detail_fp = os.path.join('data', 'pets', 'ProceduresDetails.csv')\n",
    "procedure_history_fp = os.path.join('data', 'pets', 'ProceduresHistory.csv')\n",
    "owners = pd.read_csv(owners_fp)\n",
    "pets = pd.read_csv(pets_fp)\n",
    "procedure_detail = pd.read_csv(procedure_detail_fp)\n",
    "procedure_history = pd.read_csv(procedure_history_fp)\n",
    "out = total_cost_per_city(owners, pets, procedure_history, procedure_detail)\n",
    "out"
   ]
  },
  {
   "cell_type": "code",
   "execution_count": null,
   "metadata": {},
   "outputs": [],
   "source": [
    "set(out.index) <= set(owners['City'])"
   ]
  },
  {
   "cell_type": "markdown",
   "metadata": {},
   "source": [
    "## Congratulations! You're done!\n",
    "\n",
    "* Submit the lab on Gradescope"
   ]
  },
  {
   "cell_type": "code",
   "execution_count": null,
   "metadata": {},
   "outputs": [],
   "source": []
  }
 ],
 "metadata": {
  "kernelspec": {
   "display_name": "Python 3",
   "language": "python",
   "name": "python3"
  },
  "language_info": {
   "codemirror_mode": {
    "name": "ipython",
    "version": 3
   },
   "file_extension": ".py",
   "mimetype": "text/x-python",
   "name": "python",
   "nbconvert_exporter": "python",
   "pygments_lexer": "ipython3",
   "version": "3.9.1"
  }
 },
 "nbformat": 4,
 "nbformat_minor": 4
}
