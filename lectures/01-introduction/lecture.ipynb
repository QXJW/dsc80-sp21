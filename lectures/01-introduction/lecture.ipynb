{
 "cells": [
  {
   "cell_type": "code",
   "execution_count": null,
   "metadata": {},
   "outputs": [],
   "source": [
    "%config InlineBackend.figure_format='retina'"
   ]
  },
  {
   "cell_type": "markdown",
   "metadata": {
    "slideshow": {
     "slide_type": "slide"
    }
   },
   "source": [
    "# DSC 80\n",
    "The Practice and Application of Data Science\n",
    "\n",
    "**Spring 2021**"
   ]
  },
  {
   "cell_type": "markdown",
   "metadata": {
    "slideshow": {
     "slide_type": "slide"
    }
   },
   "source": [
    "## Lecture Outline\n",
    "* Introduction\n",
    "* What's a \"practicing data scientist\"?\n",
    "* Course overview\n",
    "* The \"Data Science Workflow\""
   ]
  },
  {
   "cell_type": "markdown",
   "metadata": {
    "slideshow": {
     "slide_type": "slide"
    }
   },
   "source": [
    "# What is a data scientist?\n",
    "\n",
    "<div class=\"image-txt-container\">\n",
    "    \n",
    "* [The Venn Diagram](http://drewconway.com/zia/2013/3/26/the-data-science-venn-diagram), Drew Conway, 2010\n",
    "* Statistics: drawing conclusions.\n",
    "* Hacking: extracting information.\n",
    "* Substantive Expertise: understanding context.\n",
    "\n",
    "<img src=\"imgs/image_0.png\">\n",
    "\n",
    "</div>"
   ]
  },
  {
   "cell_type": "markdown",
   "metadata": {
    "slideshow": {
     "slide_type": "slide"
    }
   },
   "source": [
    "# What is a data scientist?\n",
    "\n",
    "<div class=\"image-txt-container\">\n",
    "\n",
    "* [Battle of the Data Science Venn Diagrams](http://www.prooffreader.com/2016/09/battle-of-data-science-venn-diagrams.html)\n",
    "* Stephan Kolassa, 2014\n",
    "* Data Science is expanding and maturing.\n",
    "* Find a niche you enjoy!\n",
    "* Understanding a little of everything is powerful.\n",
    "\n",
    "<img src=\"imgs/image_1.png\">\n",
    "\n",
    "</div>"
   ]
  },
  {
   "cell_type": "markdown",
   "metadata": {
    "slideshow": {
     "slide_type": "slide"
    }
   },
   "source": [
    "## What is a data scientist?\n",
    "\n",
    "Who knows? What do data scientists do?\n",
    "\n",
    "* Extracts usable information from data. (~CS)\n",
    "* Uses that information to answer questions. (~Stats)\n",
    "* Uses that information to solve problems. (~Science)\n",
    "\n",
    "Let's look at a few examples..."
   ]
  },
  {
   "cell_type": "markdown",
   "metadata": {
    "slideshow": {
     "slide_type": "slide"
    }
   },
   "source": [
    "## Predicting Elections\n",
    "\n",
    "<div class=\"image-txt-container\">\n",
    "    <div></div>\n",
    "        \n",
    "* What does the electorate look like?\n",
    "* What are the important traits?\n",
    "* How do we gather/measure those traits?\n",
    "* Quantify into a model / Draw conclusion with confidence!\n",
    "        \n",
    "<img src=\"imgs/538.png\" width=\"50%\">\n",
    "</div>"
   ]
  },
  {
   "cell_type": "markdown",
   "metadata": {
    "slideshow": {
     "slide_type": "slide"
    }
   },
   "source": [
    "## Internet Advertisements\n",
    "Can using internet ads increase a dealership's truck sales?\n",
    "\n",
    "<div class=\"image-txt-container\">\n",
    "    <div></div>\n",
    "        \n",
    "* How likely is a person to click?\n",
    "* Who is it shown to?\n",
    "* How do ad clicks translate to sales? \n",
    "* Are they *causing* higher sales?\n",
    "* What data should I collect?\n",
    "\n",
    "<img src=\"imgs/internet_ads.gif\" width=\"500\">\n",
    "</div>\n",
    "\n",
    "\n"
   ]
  },
  {
   "cell_type": "markdown",
   "metadata": {
    "slideshow": {
     "slide_type": "slide"
    }
   },
   "source": [
    "## Image recognition for celebrity GIFs\n",
    "\n",
    "[Gfycat](https://www.wired.com/story/how-coders-are-fighting-bias-in-facial-recognition-software/) resolves celebrity faces to generate memes.\n",
    "\n",
    "<div class=\"image-txt-container\">\n",
    "<img src=\"imgs/Chris.png\" width=\"50%\">\n",
    "<img src=\"imgs/Twice.png\" width=\"50%\">\n",
    "</div>\n",
    "\n",
    "\n"
   ]
  },
  {
   "cell_type": "markdown",
   "metadata": {
    "slideshow": {
     "slide_type": "slide"
    }
   },
   "source": [
    "## Data Science requires responsible practice\n",
    "\n",
    "<div class=\"image-txt-container\">\n",
    "    \n",
    "- Easy to obscure complex decisions made with data:\n",
    "    * 2009 market crash.\n",
    "    * Criminal sentencing.\n",
    "    * Hiring and Admissions.\n",
    "    * Hyper-personalized ad recommendations.\n",
    "\n",
    "<img src=\"imgs/image_2.png\" width=\"50%\">\n",
    "\n",
    "</div>"
   ]
  },
  {
   "cell_type": "markdown",
   "metadata": {
    "slideshow": {
     "slide_type": "slide"
    }
   },
   "source": [
    "## Data Science requires responsible practice\n",
    "\n",
    "<div class=\"image-txt-container\">\n",
    "    \n",
    "* Reinforcing historical trends and biases:\n",
    "    - Hiring based on previous hiring data.\n",
    "    - Criminal sentencing using previous decisions.\n",
    "    - Social media, news, and politics\n",
    "\n",
    "* Data is generated by people; treat people responsibly!\n",
    "\n",
    "\n",
    "<img src=\"imgs/image_2.png\" width=\"50%\">\n",
    "\n",
    "</div>"
   ]
  },
  {
   "cell_type": "markdown",
   "metadata": {
    "slideshow": {
     "slide_type": "slide"
    }
   },
   "source": [
    "# Course Information"
   ]
  },
  {
   "cell_type": "markdown",
   "metadata": {
    "slideshow": {
     "slide_type": "slide"
    }
   },
   "source": [
    "## Course Goals\n",
    "\n",
    "* Practice translating potentially vague questions into quantitative questions about measurable observations.\n",
    "* Learn to reason about 'black-box' processes (e.g. complicated models).\n",
    "* Understand computational and statistical implications of working with data.\n",
    "* Learn to use real data tools (e.g. love the documentation!).\n",
    "* Give a taste of the \"life of a data scientist\"."
   ]
  },
  {
   "cell_type": "markdown",
   "metadata": {
    "slideshow": {
     "slide_type": "slide"
    }
   },
   "source": [
    "## Course Outcomes\n",
    "\n",
    "* Prepare you for internships and data science \"take home\" interviews!\n",
    "* Enable you to create your own portfolio of personal projects.\n",
    "* Prepare you for upper-division ML and Stats courses (material and maturity)."
   ]
  },
  {
   "cell_type": "markdown",
   "metadata": {
    "slideshow": {
     "slide_type": "slide"
    }
   },
   "source": [
    "## Course Materials and Information\n",
    "\n",
    "* The course [github repository](https://github.com/eldridgejm/dsc80-sp21): assignments, lectures, references.\n",
    "    - https://github.com/eldridgejm/dsc80-sp21\n",
    "* The course [website](http://dsc80.com/): syllabus, links, schedule.\n",
    "    - http://dsc80.com"
   ]
  },
  {
   "cell_type": "markdown",
   "metadata": {
    "slideshow": {
     "slide_type": "slide"
    }
   },
   "source": [
    "##  Course Components: Description\n",
    "\n",
    "|Component|Description|\n",
    "|---|---|\n",
    "|Labs |Practice with basic material|\n",
    "|Discussions|(Extra) Practice with basic material|\n",
    "|Projects|In-depth work on real problems|\n",
    "|First 5 weeks|Working with and reasoning about data|\n",
    "|Last 5 weeks|Creating and evaluating models|\n"
   ]
  },
  {
   "cell_type": "markdown",
   "metadata": {
    "slideshow": {
     "slide_type": "slide"
    }
   },
   "source": [
    "##  Course Components: Grade Breakdown\n",
    "\n",
    "|Component|Percentage|\n",
    "|---|---|\n",
    "|Labs (9, weekly)|25%|\n",
    "|Projects (5, bi-weekly)|30%|\n",
    "|Checkpoints|5%|\n",
    "|Midterm (mid-quarter)|15%|\n",
    "|Final (cumulative)|25%|\n",
    "|Discussions (extra credit)|5% ec|"
   ]
  },
  {
   "cell_type": "markdown",
   "metadata": {
    "slideshow": {
     "slide_type": "slide"
    }
   },
   "source": [
    "## Course Materials\n",
    "\n",
    "* This is (still) a new course (anywhere!); be patient, please. 😁\n",
    "* We kinda-sorta have a book! (finally!)\n",
    "    - https://afraenkel.github.io/practical-data-science\n",
    "    - the lecture slides serve as sources of information and practice.\n",
    "    \n",
    "* Just like a working Data Scientist:\n",
    "    - using new, evolving tools requires doing your own research!\n",
    "    - using real data require doing your own research!\n",
    "    - *You* will be responsible for assessing the correctness of your research!"
   ]
  },
  {
   "cell_type": "markdown",
   "metadata": {
    "slideshow": {
     "slide_type": "slide"
    }
   },
   "source": [
    "## Secondary references\n",
    "\n",
    "* Wes McKinney. \"Python for Data Analysis\" ([Link - requires UCSD internet](proquest.safaribooksonline.com/9781449323592))\n",
    "* Sam Lau, Joey Gonzalez, and Deb Nolan. \"Principles and Techniques of Data Science\" (https://www.textbook.ds100.org/)\n",
    "* Ani Adhikari and John DeNero. \"Computational and Inferential Thinking\" (https://www.inferentialthinking.com)\n",
    "* On-line tutorials are great, but be sure to understand the *concepts* in the lecture!"
   ]
  },
  {
   "cell_type": "markdown",
   "metadata": {
    "slideshow": {
     "slide_type": "slide"
    }
   },
   "source": [
    "## A few last remarks...\n",
    "\n",
    "* This course requires *a lot* of work; gaining fluency working with data is hard!\n",
    "* You will have to learn things on your own (e.g. love the documentation).\n",
    "* Learning to effectively check your work (and debug) pays dividends:\n",
    "    - Does my answer *look* right for the context?\n",
    "    - Does my code do what I think? (small data testing)\n",
    "    - Does my code generalize properly? (unseen data testing)"
   ]
  },
  {
   "cell_type": "markdown",
   "metadata": {
    "slideshow": {
     "slide_type": "slide"
    }
   },
   "source": [
    "# The Data Science Lifecycle"
   ]
  },
  {
   "cell_type": "markdown",
   "metadata": {
    "slideshow": {
     "slide_type": "slide"
    }
   },
   "source": [
    "## The scientific method hides complexity\n",
    "\n",
    "<div class=\"image-txt-container\">\n",
    "    \n",
    "* From what context did your hypothesis come?\n",
    "* What data are you using/measuring?\n",
    "    - What if the data isn't sufficient?\n",
    "* Under which conditions are the conclusions valid?\n",
    "* The language of modeling helps answer these questions.\n",
    "\n",
    "<img src=\"imgs/image_3.png\">\n",
    "\n",
    "</div>"
   ]
  },
  {
   "cell_type": "markdown",
   "metadata": {
    "slideshow": {
     "slide_type": "slide"
    }
   },
   "source": [
    "## Introduction to models\n",
    "\n",
    "* A **data generating process** is the real-world phenomenon under consideration.\n",
    "* The **true (probability) model** is a mathematical representation of random phenomenon that generates any representative observations.\n",
    "* The **observations** are data representing the data generating process.\n",
    "* A **(fit) statistical model** of the data is the best approximation of the data generating process under the probability model."
   ]
  },
  {
   "cell_type": "markdown",
   "metadata": {
    "slideshow": {
     "slide_type": "slide"
    }
   },
   "source": [
    "### The Data Science Life-cycle: Everything leads to more questions!\n",
    "<img src=\"imgs/DSLC.png\" width=\"40%\">"
   ]
  },
  {
   "cell_type": "markdown",
   "metadata": {
    "slideshow": {
     "slide_type": "slide"
    }
   },
   "source": [
    "<img src=\"./imgs/eeg.png\" width=60%>"
   ]
  },
  {
   "cell_type": "markdown",
   "metadata": {
    "slideshow": {
     "slide_type": "slide"
    }
   },
   "source": [
    "### Research Domain\n",
    "\n",
    "<div class=\"image-txt-container\">\n",
    "    <div></div>\n",
    "\n",
    "* What subject do we care about?\n",
    "* How is relevant data generated?\n",
    "\n",
    "<img src=\"imgs/DSLC.png\">\n",
    "</div>\n",
    "\n",
    "\n",
    "\n"
   ]
  },
  {
   "cell_type": "markdown",
   "metadata": {
    "slideshow": {
     "slide_type": "slide"
    }
   },
   "source": [
    "### Question or Hypothesis\n",
    "\n",
    "<div class=\"image-txt-container\">\n",
    "    <div></div>\n",
    "\n",
    "* What do we want to know?\n",
    "* What problem are we trying to solve?\n",
    "* What are our metrics for success?\n",
    "* Hypotheses are refined from any stage of work!\n",
    "\n",
    "<img src=\"imgs/DSLC.png\">\n",
    "</div>"
   ]
  },
  {
   "cell_type": "markdown",
   "metadata": {
    "slideshow": {
     "slide_type": "slide"
    }
   },
   "source": [
    "### Find and Clean Data\n",
    "\n",
    "<div class=\"image-txt-container\">\n",
    "    <div></div>\n",
    "\n",
    "* What data exists and can it answer the question?\n",
    "* Do we need to collect/measure our own data?\n",
    "* Cleaning the data: does it well-represent the domain?\n",
    "\n",
    "<img src=\"imgs/DSLC.png\">\n",
    "</div>\n"
   ]
  },
  {
   "cell_type": "markdown",
   "metadata": {
    "slideshow": {
     "slide_type": "slide"
    }
   },
   "source": [
    "### Data Modeling\n",
    "\n",
    "<div class=\"image-txt-container\">\n",
    "    <div></div>\n",
    "\n",
    "* What assumptions are made of data to draw conclusions?\n",
    "* What biases or anomalies exist in the data?\n",
    "* How is the data simplified to use for predictions and inference?\n",
    "\n",
    "<img src=\"imgs/DSLC.png\">\n",
    "</div>\n",
    "\n"
   ]
  },
  {
   "cell_type": "markdown",
   "metadata": {
    "slideshow": {
     "slide_type": "slide"
    }
   },
   "source": [
    "### Predictions and Inference\n",
    "\n",
    "<div class=\"image-txt-container\">\n",
    "    <div></div>\n",
    "\n",
    "* What does the data say about the world?\n",
    "* Does it answer our questions? Solve our problem?\n",
    "* Can we trust our conclusions and predictions?\n",
    "\n",
    "<img src=\"imgs/DSLC.png\">\n",
    "</div>\n",
    "\n",
    "\n"
   ]
  }
 ],
 "metadata": {
  "celltoolbar": "Slideshow",
  "kernelspec": {
   "display_name": "Python 3",
   "language": "python",
   "name": "python3"
  },
  "language_info": {
   "codemirror_mode": {
    "name": "ipython",
    "version": 3
   },
   "file_extension": ".py",
   "mimetype": "text/x-python",
   "name": "python",
   "nbconvert_exporter": "python",
   "pygments_lexer": "ipython3",
   "version": "3.8.5"
  },
  "livereveal": {
   "scroll": true,
   "transition": "none"
  }
 },
 "nbformat": 4,
 "nbformat_minor": 2
}
