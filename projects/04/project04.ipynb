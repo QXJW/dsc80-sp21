{
 "cells": [
  {
   "cell_type": "markdown",
   "metadata": {},
   "source": [
    "# Project 04: Language Models\n",
    "\n",
    "## Checkpoint Due Date (Questions 1-5): Thursday May 20, 11:59 PM\n",
    "\n",
    "## Due Date:  Thursday May 27, 11:59 PM\n"
   ]
  },
  {
   "cell_type": "markdown",
   "metadata": {},
   "source": [
    "#### Checkpoint Instructions\n",
    "* The checkpoint requires you to turn in questions 1-5.\n",
    "* The checkpoint will be graded for approximate correctness: easier than the final tests; harder than the doctests."
   ]
  },
  {
   "cell_type": "markdown",
   "metadata": {},
   "source": [
    "# Introduction to Language Models\n",
    "\n",
    "In this project, you will build *[statistical language models](https://en.wikipedia.org/wiki/Language_model)* using public domain books found on [Project Gutenberg](https://www.gutenberg.org/). Language models attempt to capture the likelihood that a given sequence of words occur in a given \"language\" (the precise term is \"corpus\" or \"corpora\"). Here, \"language\" is a broad term that, in addition to the normal usage, may mean the language of a particular author or style. Applications of language models are found in areas such as language generation, authorship attribution, auto-complete / word-suggestion, and machine translation.\n",
    "\n",
    "In this project, you will learn about a simple but effective type of language model (LM) called N-gram models. Given a sentence (that is, a sequence of words $w = w_1\\ldots w_n$), you would like to understand the probability that sentence is used: \n",
    "$$P(w) = P(w_1,\\ldots,w_n)$$\n",
    "However, sentences are built from words, and the likelihood that a word occurs where it does, depends on the words it follows. This points to using *conditional probability* to understand $P(w)$. That is, we can write:\n",
    "\n",
    "$$\n",
    "P(w) = P(w_1,\\ldots,w_n) = P(w_1) \\cdot P(w_2|w_1) \\cdot P(w_3|w_1,w_2) \\cdot\\ldots\\cdot P(w_n|w_1,\\ldots,w_{n-1})\n",
    "$$  \n",
    "This is also called the *chain rule* for probabilities.  \n",
    "**Example:** Consider the sentence $w = $ `when I eat pizza, I wipe off the grease.`\n",
    "\n",
    "$$\n",
    "P(\\mbox{when}) \\cdot P(\\mbox{I | when}) \\cdot P(\\mbox{ eat | when I})\\cdot P(\\mbox{ pizza | when I eat}) \\cdot \\ldots \\cdot P(\\mbox{ grease | when I eat pizza, I wipe off the})\n",
    "$$\n",
    "\n",
    "That is, the probability that the sentence occurs is the product of the probability that each subsequent word follows the words that came before. For example, the probability $P(\\mbox{ pizza | when I eat})$ is pretty high, as pizza is something that you eat; thus, this term would contribute to this sentence having a higher probability of occurrence.\n",
    "\n",
    "### N-gram language models\n",
    "\n",
    "In the description above, the probability that any word in the sentence (e.g. 'grease') depends on *every* word that preceded it (e.g. 'when'). However, it's often the case the likelihood a word appears in a sentence is influenced more by *nearby* words. \n",
    "* N-gram language models capture this concept that only nearby words matter; they assume the probability a word occurs only depends on the previous $(N−1)$ words. \n",
    "* That is, an N-gram model says: $P(w_n|w_1,\\ldots,w_{n-1}) = P(w_n|w_{n-(N-1)},\\ldots,w_{n-1})$.\n",
    "\n",
    "**Example: trigram model**\n",
    "\n",
    "Consider the sentence $w = $ `when I eat pizza, I wipe off the grease.`\n",
    "\n",
    "$$\n",
    "P(\\mbox{when}) \\cdot P(\\mbox{I | when}) \\cdot P(\\mbox{ eat | when I})\\cdot P(\\mbox{ pizza | I eat}) \\cdot \\ldots \\cdot P(\\mbox{ the | wipe off}) \\cdot P(\\mbox{ grease | off the})\n",
    "$$\n",
    "In this example, we see the trigram model doesn't consider the beginning of the sentence when considering the likelihood of the end word 'grease'.\n",
    "\n",
    "**Definition:** Given the descriptions and definitions above, we define the **N-grams of a text** to be the list of sliding windows of length N.\n",
    "\n",
    "For Example, the trigrams of the sentence $w$ in the example above are:\n",
    "```\n",
    "[('when', 'I', 'eat'), ('I', 'eat', 'pizza'), ... , ('wipe', 'off', 'the'), ('off', 'the', 'grease')]\n",
    "```\n",
    "\n",
    "### Computing an N-gram language model\n",
    "\n",
    "N-gram language models are a collection of conditional probabilities for sequences of words of length $N$. For example, in a trigram model, for every 3-word sequence $w_1, w_2, w_3$, you need to compute:\n",
    "$$P(w_1,w_2,w_3) = P(w_3 | w_1, w_2) = \\frac{C(w_1, w_2, w_3)}{C(w_1, w_2)}$$\n",
    "\n",
    "Where $C(w_1, w_2, w_3)$ is the number of occurrences of the trigram-sequence $w_1, w_2, w_3$ in the dataset and $C(w_1, w_2)$ is the number of occurrences of the bigram-sequence  $w_1, w_2$ in the dataset.\n",
    "\n",
    "For a general N-gram model, the conditional probabilities are computed by dividing the counts of N-grams by the (N-1)-grams they follow.\n",
    "\n",
    "\n",
    "### Tokenizing corpora\n",
    "\n",
    "Computing the probabilities of a language model from a book requires breaking up the text of book into sequences of words. This process is called *tokenization*. In reality though, the sequences are not made up entirely of words, but rather more general terms called *tokens*. In this project tokens will include not only whole words, but also punctuation and other terms. Below are a few examples of other types of tokens:\n",
    "\n",
    "* Punctuation like `,.;'`. For example, the period makes sense as a token, as certain words tend to end sentences (i.e. come before a `.` in an N-gram) and begin sentences (i.e. come after a `.` in an N-gram).\n",
    "* We have special 'START' and 'END' tokens that begin and end every word sequence (in our case, paragraphs of words in a given book). These make sense as tokens, as certain words may tend to begin and end paragraphs. \n",
    "\n",
    "It is useful for the tokens used to represent START and END to be single characters that can never be found in the text of the book you use to create our language model. Thus, you will use two ascii hidden \"[control characters](https://en.wikipedia.org/wiki/C0_and_C1_control_codes#C0_(ASCII_and_derivatives))\":\n",
    "* For START, you will use the character `\\x02` (used for 'beginning of text')\n",
    "* For END, you will use the character `\\x03` (used for 'end of text')\n"
   ]
  },
  {
   "cell_type": "markdown",
   "metadata": {},
   "source": [
    "### A note on checking your work for correctness\n",
    "\n",
    "Building a statistical model involves stringing together difficult-to-follows steps such as data-cleaning and implementing derived mathematical formulas. A fact of life in this line of work is that it can be difficult to assess the correctness of your work. \n",
    "\n",
    "* The Doctests will include checks on the inputs/outputs of your methods.\n",
    "* Doctests will include models on which you can check your work 'by hand'.\n",
    "* Additionally, **you should run your functions on *real* books and assess the reasonableness of your result** as well. Merely passing the doctests is never sufficient to guarantee correctness of your code."
   ]
  },
  {
   "cell_type": "markdown",
   "metadata": {},
   "source": [
    "# Project Outline\n",
    "\n",
    "Below is an outline of the the project. If there are terms you don't understand in following descriptions, you should review the introduction for an explanation of the terms and ideas described.\n",
    "\n",
    "1. Write code to download the text of a book from a url, returning the corpus as a string.\n",
    "1. Tokenize the corpus into sequences of words and paragraphs.\n",
    "1. Create two \"baseline\" langunage models; create text with them using sampling.\n",
    "1. Compute an N-gram language model\n",
    "1. Write code to sample from the N-gram language model; create text with them.\n",
    "1. Evaluate performance (computational) of your language model for different N.\n",
    "1. Evaluate performance (statistical) of your language model for different N.\n",
    "1. Create an auto-completion suggestion model."
   ]
  },
  {
   "cell_type": "code",
   "execution_count": 1,
   "metadata": {},
   "outputs": [],
   "source": [
    "%load_ext autoreload\n",
    "%autoreload 2"
   ]
  },
  {
   "cell_type": "code",
   "execution_count": 2,
   "metadata": {},
   "outputs": [],
   "source": [
    "import project04 as proj"
   ]
  },
  {
   "cell_type": "code",
   "execution_count": 3,
   "metadata": {},
   "outputs": [],
   "source": [
    "%matplotlib inline\n",
    "\n",
    "import pandas as pd\n",
    "import numpy as np\n",
    "import os\n",
    "import re\n",
    "import requests\n",
    "import time"
   ]
  },
  {
   "cell_type": "markdown",
   "metadata": {},
   "source": [
    "## Downloading the book(s)\n",
    "\n",
    "**Question 1**\n",
    "\n",
    "For this question, you will use `requests` to download and prepare a public domain book from [Project Gutenberg](). Create a function `get_book` that takes in the `url` of a 'Plain Text UTF-8' book and returns a string containing the contents of the book. \n",
    "\n",
    "The function should satisfy the following conditions:\n",
    "* The contents of the book consist of everything between Project Gutenberg's START and END comments.\n",
    "* The contents *will* include title/author/table of contents.\n",
    "* You should also transform any Windows new-lines (`\\r\\n`) with standard new-lines (`\\n`).\n",
    "* You should check the site's `robots.txt` as well and implement a 'pause' in your request in accordance with the website's policy. If the function is called twice in succession, it should not violate the `robots.txt` policy.\n",
    "\n",
    "*Note:* You are encouraged to find whatever books on the website that interest you to test your code and the language models you develop. The text doesn't even need to be an English-language book."
   ]
  },
  {
   "cell_type": "code",
   "execution_count": 4,
   "metadata": {},
   "outputs": [],
   "source": [
    "# Get the actual book text\n",
    "url = 'http://www.gutenberg.org/files/74/74-0.txt'\n",
    "book_string = proj.get_book(url)"
   ]
  },
  {
   "cell_type": "code",
   "execution_count": 5,
   "metadata": {},
   "outputs": [],
   "source": [
    "test = requests.get(url).text"
   ]
  },
  {
   "cell_type": "code",
   "execution_count": 6,
   "metadata": {},
   "outputs": [],
   "source": [
    "split = test.split('***')[2]\n",
    "#split.replace('\\r\\n','\\n')"
   ]
  },
  {
   "cell_type": "code",
   "execution_count": 7,
   "metadata": {},
   "outputs": [],
   "source": [
    "#test.split('***')[2].replace('\\r\\n','\\n')"
   ]
  },
  {
   "cell_type": "code",
   "execution_count": 8,
   "metadata": {},
   "outputs": [],
   "source": [
    "#text = re.sub('^[^\\*\\*\\*]+\\*\\*\\*','',test)\n",
    "#text = re.sub('^[^\\*\\*\\*]+\\*\\*\\*','',text)\n",
    "#text = re.sub('(\\*\\*\\*).*$','',text)\n",
    "#text"
   ]
  },
  {
   "cell_type": "code",
   "execution_count": 9,
   "metadata": {},
   "outputs": [],
   "source": [
    "def get_book(url):\n",
    "    \"\"\"\n",
    "    get_book that takes in the url of a 'Plain Text UTF-8' book and \n",
    "    returns a string containing the contents of the book.\n",
    "\n",
    "    The function should satisfy the following conditions:\n",
    "        - The contents of the book consist of everything between \n",
    "        Project Gutenberg's START and END comments.\n",
    "        - The contents will include title/author/table of contents.\n",
    "        - You should also transform any Windows new-lines (\\r\\n) with \n",
    "        standard new-lines (\\n).\n",
    "        - If the function is called twice in succession, it should not \n",
    "        violate the robots.txt policy.\n",
    "\n",
    "    :Example: (note '\\n' don't need to be escaped in notebooks!)\n",
    "    >>> url = 'http://www.gutenberg.org/files/57988/57988-0.txt'\n",
    "    >>> book_string = get_book(url)\n",
    "    >>> book_string[:20] == '\\\\n\\\\n\\\\n\\\\n\\\\nProduced by Chu'\n",
    "    True\n",
    "    \"\"\"\n",
    "    text = requests.get(url).text\n",
    "    text = text.split('***')[2].replace('\\r\\n','\\n')\n",
    "    return text"
   ]
  },
  {
   "cell_type": "code",
   "execution_count": 10,
   "metadata": {},
   "outputs": [],
   "source": [
    "url = 'http://www.gutenberg.org/files/57988/57988-0.txt'\n",
    "book_string = get_book(url)"
   ]
  },
  {
   "cell_type": "code",
   "execution_count": 11,
   "metadata": {},
   "outputs": [
    {
     "data": {
      "text/plain": [
       "True"
      ]
     },
     "execution_count": 11,
     "metadata": {},
     "output_type": "execute_result"
    }
   ],
   "source": [
    "book_string[:20] == '\\n\\n\\n\\n\\nProduced by Chu'"
   ]
  },
  {
   "cell_type": "code",
   "execution_count": 12,
   "metadata": {},
   "outputs": [
    {
     "data": {
      "text/plain": [
       "'\\n\\n\\n\\n\\nProduced by Chuck Greif and the Online Distributed\\nProofreading Team at http://www.pgdp.net (This file was\\nproduced from images available at The Internet Archive)\\n\\n\\n\\n\\n\\n\\n\\n\\n\\n\\n\\n                                   A\\n\\n                           SON OF THE SOIL.\\n\\n\\n\\n\\n                                   A\\n\\n                           SON OF THE SOIL.\\n\\n\\n                                  BY\\n\\n                            MRS. OLIPHANT.\\n\\n\\n                            _NEW EDITION._\\n\\n\\n                       '"
      ]
     },
     "execution_count": 12,
     "metadata": {},
     "output_type": "execute_result"
    }
   ],
   "source": [
    "book_string[:500]"
   ]
  },
  {
   "cell_type": "markdown",
   "metadata": {},
   "source": [
    "## Tokenizing the Corpus\n",
    "\n",
    "**Question 2**\n",
    "\n",
    "Now you need to tokenize the corpus in `book_string` (turn the text into a list of tokens -- i.e. words and punctuation). More specifically, create a function `tokenize` that takes in `book_string` and outputs a list of tokens satisfying the following conditions:\n",
    "* The start of any paragraph should be represented in the list with the single character `\\x02` (standing for START).\n",
    "* The end of any paragraph should be represented in the list with the single character `\\x03` (standing for STOP).\n",
    "* Tokens in the sequence of words are split apart at 'word boundaries' (see the regex lecture).\n",
    "* Tokens should include *no* whitespace.\n",
    "* Whitespace (e.g. multiple new-lines) between two paragraphs of text should be ignored.\n",
    "* Two or more newlines count as a paragraph break\n",
    "\n",
    "For example, the following sentence (the ellipses denote preceding/continuing text):\n",
    "```\n",
    "...\n",
    "My phone's dead.\n",
    "\n",
    "I didn't get your call.\n",
    "...\n",
    "```\n",
    "should tokenize to:\n",
    "```\n",
    "[ ...\n",
    "\"My\", \"phone\", \"'\", \"s\", \"dead\", \".\", \"\\x03\", \"\\x02\", \"I\", \"didn\", \"'\", \"t\", \"get\", \"your\", \"call\", \".\"\n",
    "... ]\n",
    "```\n",
    "\n",
    "*Remark:* Your tokenization function should run quickly; you should avoid loops when possible. Your `tokenize` function should run on the the complete works of Shakespeare (in `data/shakespeare`) in **under 10 seconds** to get full credit. Be sure to only request the book once (using your `get_book` function) and save it to file for testing!"
   ]
  },
  {
   "cell_type": "code",
   "execution_count": 13,
   "metadata": {},
   "outputs": [],
   "source": [
    "shakespeare_fp = os.path.join('data', 'shakespeare.txt')\n",
    "shakespeare = open(shakespeare_fp, encoding='utf-8').read()"
   ]
  },
  {
   "cell_type": "code",
   "execution_count": 14,
   "metadata": {},
   "outputs": [
    {
     "data": {
      "text/plain": [
       "\"abcabc\\nMy phone's dead. \\x03 \\x02 I didn't get your call.\\n\""
      ]
     },
     "execution_count": 14,
     "metadata": {},
     "output_type": "execute_result"
    }
   ],
   "source": [
    "test = \"abcabc\\nMy phone's dead.\\n\\nI didn't get your call.\\n\"\n",
    "test = re.sub(r'\\n\\n',\" \\x03 \\x02 \", test)\n",
    "test"
   ]
  },
  {
   "cell_type": "code",
   "execution_count": 15,
   "metadata": {},
   "outputs": [
    {
     "data": {
      "text/plain": [
       "['abcabc',\n",
       " 'My',\n",
       " 'phone',\n",
       " \"'\",\n",
       " 's',\n",
       " 'dead',\n",
       " '.',\n",
       " '\\x03',\n",
       " '\\x02',\n",
       " 'I',\n",
       " 'didn',\n",
       " \"'\",\n",
       " 't',\n",
       " 'get',\n",
       " 'your',\n",
       " 'call',\n",
       " '.']"
      ]
     },
     "execution_count": 15,
     "metadata": {},
     "output_type": "execute_result"
    }
   ],
   "source": [
    "re.findall('\\w+|[^\\w\\s]+|\\S+', test)"
   ]
  },
  {
   "cell_type": "code",
   "execution_count": 16,
   "metadata": {},
   "outputs": [],
   "source": [
    "#re.findall(r'\\w+|(\\W+\\S+)', test)"
   ]
  },
  {
   "cell_type": "code",
   "execution_count": 17,
   "metadata": {},
   "outputs": [],
   "source": [
    "#re.findall('\\b',test)"
   ]
  },
  {
   "cell_type": "code",
   "execution_count": 18,
   "metadata": {},
   "outputs": [],
   "source": [
    "#re.findall(r'\\S+', test)"
   ]
  },
  {
   "cell_type": "code",
   "execution_count": 19,
   "metadata": {},
   "outputs": [],
   "source": [
    "#re.findall(r\"\\w+|\\W+\", test)"
   ]
  },
  {
   "cell_type": "code",
   "execution_count": 20,
   "metadata": {},
   "outputs": [],
   "source": [
    "#re.findall('\\w+|[^\\w\\s]+|\\S+', test)"
   ]
  },
  {
   "cell_type": "code",
   "execution_count": 21,
   "metadata": {},
   "outputs": [],
   "source": [
    "#s = \"string. With. Punctuation?\"\n",
    "#re.findall(r'[^\\w\\s]',s)"
   ]
  },
  {
   "cell_type": "code",
   "execution_count": 22,
   "metadata": {},
   "outputs": [],
   "source": [
    "def tokenize(book_string):\n",
    "    \"\"\"\n",
    "    tokenize takes in book_string and outputs a list of tokens \n",
    "    satisfying the following conditions:\n",
    "        - The start of any paragraph should be represented in the \n",
    "        list with the single character \\x02 (standing for START).\n",
    "        - The end of any paragraph should be represented in the list \n",
    "        with the single character \\x03 (standing for STOP).\n",
    "        - Tokens in the sequence of words are split \n",
    "        apart at 'word boundaries' (see the regex lecture).\n",
    "        - Tokens should include no whitespace.\n",
    "\n",
    "    :Example:\n",
    "    >>> test_fp = os.path.join('data', 'test.txt')\n",
    "    >>> test = open(test_fp, encoding='utf-8').read()\n",
    "    >>> tokens = tokenize(test)\n",
    "    >>> tokens[0] == '\\x02'\n",
    "    True\n",
    "    >>> tokens[9] == 'dead'\n",
    "    True\n",
    "    >>> sum([x == '\\x03' for x in tokens]) == 4\n",
    "    True\n",
    "    >>> '(' in tokens\n",
    "    True\n",
    "    \"\"\"\n",
    "    subbed = re.sub(r'\\n\\n+',\" \\x03 \\x02 \", book_string)\n",
    "    subbed = '\\x02' + subbed + '\\x03'\n",
    "    tokens = re.findall('\\w+|[^\\w\\s]+|\\S+', subbed)\n",
    "    return tokens"
   ]
  },
  {
   "cell_type": "code",
   "execution_count": 23,
   "metadata": {},
   "outputs": [],
   "source": [
    "tokens = proj.tokenize(book_string)"
   ]
  },
  {
   "cell_type": "code",
   "execution_count": 24,
   "metadata": {},
   "outputs": [
    {
     "name": "stdout",
     "output_type": "stream",
     "text": [
      "408 ms ± 2.04 ms per loop (mean ± std. dev. of 7 runs, 1 loop each)\n"
     ]
    }
   ],
   "source": [
    "# time your code\n",
    "%timeit proj.tokenize(shakespeare)"
   ]
  },
  {
   "cell_type": "code",
   "execution_count": 25,
   "metadata": {},
   "outputs": [],
   "source": [
    "test_fp = os.path.join('data', 'test.txt')\n",
    "test = open(test_fp, encoding='utf-8').read()\n",
    "tokens = tokenize(test)"
   ]
  },
  {
   "cell_type": "code",
   "execution_count": 26,
   "metadata": {},
   "outputs": [
    {
     "data": {
      "text/plain": [
       "True"
      ]
     },
     "execution_count": 26,
     "metadata": {},
     "output_type": "execute_result"
    }
   ],
   "source": [
    "tokens[0] == '\\x02'"
   ]
  },
  {
   "cell_type": "code",
   "execution_count": 27,
   "metadata": {},
   "outputs": [
    {
     "data": {
      "text/plain": [
       "True"
      ]
     },
     "execution_count": 27,
     "metadata": {},
     "output_type": "execute_result"
    }
   ],
   "source": [
    "tokens[9] == 'dead'"
   ]
  },
  {
   "cell_type": "code",
   "execution_count": 28,
   "metadata": {},
   "outputs": [
    {
     "data": {
      "text/plain": [
       "True"
      ]
     },
     "execution_count": 28,
     "metadata": {},
     "output_type": "execute_result"
    }
   ],
   "source": [
    "sum([x == '\\x03' for x in tokens]) == 4"
   ]
  },
  {
   "cell_type": "code",
   "execution_count": 29,
   "metadata": {},
   "outputs": [
    {
     "data": {
      "text/plain": [
       "True"
      ]
     },
     "execution_count": 29,
     "metadata": {},
     "output_type": "execute_result"
    }
   ],
   "source": [
    "'(' in tokens"
   ]
  },
  {
   "cell_type": "markdown",
   "metadata": {},
   "source": [
    "# Creating a Language Model\n",
    "\n",
    "Now that you've learned how to (theoretically) build a language model, you have to implement it in code. Every language model you build will be a class with a few methods in common:\n",
    "\n",
    "* The `__init__` constructor: when you instantiate an LM object, you will need to pass the 'training corpus' on which your model will be trained (i.e. a list of tokens you created above with `tokenize`). The `train` method will then use that data to create a model which is saved in the `mdl` attribute. This code is given to you.\n",
    "* The `train` method takes in a list of tokens (e.g. the output of `tokenize`) and outputs a language model. This language model is usually represented as a `Series` (indexed by tokens; values are probabilities that token occurs), or a `DataFrame`.\n",
    "* The `probability` method takes in a sequence of tokens and returns the probability that this sequence occurs under the language model.\n",
    "* The `sample` method takes in a number `N > 0` and generates a string made up of `N` tokens using the language model. This method generates language.\n",
    "\n",
    "You will create three language model classes in the problems below (Uniform; Unigram; N-gram). For each of these, you will implement each of these methods."
   ]
  },
  {
   "cell_type": "markdown",
   "metadata": {},
   "source": [
    "## Baseline Models: uniform and unigram LMs\n",
    "\n",
    "### Uniform probability language model\n",
    "\n",
    "**Question 3**\n",
    "\n",
    "A uniform language model is one in which any word is equally likely to appear in any position. The starter code contains a class `UniformLM` which represents a uniform language model. Review the specifics of the class methods above (and in the starter-code) and implement the methods."
   ]
  },
  {
   "cell_type": "code",
   "execution_count": 30,
   "metadata": {},
   "outputs": [
    {
     "data": {
      "text/plain": [
       "\"get \\x02 call ( Yesterday line phone paragraphs get End \\x03 t s ( ( This ' that This I an after didn after line multiple Yesterday I breaks . that call didn get get your phone This \\x03 This I didn that line I s after comes breaks get Yesterday multiple didn call multiple an breaks I The phone comes phone This . . dead paragraphs I line an I . that End comes \\x03 that multiple phone dead t t paragraphs dead phone get paragraphs t I ( phone after dead . get your multiple ( . that\""
      ]
     },
     "execution_count": 30,
     "metadata": {},
     "output_type": "execute_result"
    }
   ],
   "source": [
    "unif = proj.UniformLM(tokens)\n",
    "unif.sample(100)"
   ]
  },
  {
   "cell_type": "code",
   "execution_count": 31,
   "metadata": {},
   "outputs": [],
   "source": [
    "class UniformLM(object):\n",
    "    \"\"\"\n",
    "    Uniform Language Model class.\n",
    "    \"\"\"\n",
    "\n",
    "    def __init__(self, tokens):\n",
    "        \"\"\"\n",
    "        Initializes a Uniform languange model using a\n",
    "        list of tokens. It trains the language model\n",
    "        using `train` and saves it to an attribute\n",
    "        self.mdl.\n",
    "        \"\"\"\n",
    "        self.mdl = self.train(tokens)\n",
    "        \n",
    "    def train(self, tokens):\n",
    "        \"\"\"\n",
    "        Trains a uniform language model given a list of tokens.\n",
    "        The output is a series indexed on distinct tokens, and\n",
    "        values giving the (uniform) probability of a token occuring\n",
    "        in the language.\n",
    "\n",
    "        :Example:\n",
    "        >>> tokens = tuple('one one two three one two four'.split())\n",
    "        >>> unif = UniformLM(tokens)\n",
    "        >>> isinstance(unif.mdl, pd.Series)\n",
    "        True\n",
    "        >>> set(unif.mdl.index) == set('one two three four'.split())\n",
    "        True\n",
    "        >>> (unif.mdl == 0.25).all()\n",
    "        True\n",
    "        \"\"\"\n",
    "        w_dict = {}\n",
    "        \n",
    "        for w in tokens:\n",
    "            if w in w_dict.keys():\n",
    "                w_dict[w] += 1\n",
    "            else:\n",
    "                w_dict[w] = 1\n",
    "        \n",
    "        keys = list(w_dict.keys())\n",
    "        \n",
    "        tf = pd.Series(1 / len(keys),index=keys)\n",
    "        return tf\n",
    "    \n",
    "    def probability(self, words):\n",
    "        \"\"\"\n",
    "        probability gives the probability a sequence of words\n",
    "        appears under the language model.\n",
    "        :param: words: a tuple of tokens\n",
    "        :returns: the probability `words` appears under the language\n",
    "        model.\n",
    "\n",
    "        :Example:\n",
    "        >>> tokens = tuple('one one two three one two four'.split())\n",
    "        >>> unif = UniformLM(tokens)\n",
    "        >>> unif.probability(('five',))\n",
    "        0\n",
    "        >>> unif.probability(('one', 'two')) == 0.0625\n",
    "        True\n",
    "        \"\"\"\n",
    "        prob = 1\n",
    "        for w in words:\n",
    "            if w not in self.mdl.keys():\n",
    "                return 0\n",
    "            prob *= self.mdl[w]\n",
    "        return prob\n",
    "        \n",
    "    def sample(self, M):\n",
    "        \"\"\"\n",
    "        sample selects tokens from the language model of length M, returning\n",
    "        a string of tokens.\n",
    "\n",
    "        :Example:\n",
    "        >>> tokens = tuple('one one two three one two four'.split())\n",
    "        >>> unif = UniformLM(tokens)\n",
    "        >>> samp = unif.sample(1000)\n",
    "        >>> isinstance(samp, str)\n",
    "        True\n",
    "        >>> len(samp.split()) == 1000\n",
    "        True\n",
    "        >>> s = pd.Series(samp.split()).value_counts(normalize=True)\n",
    "        >>> np.isclose(s, 0.25, atol=0.05).all()\n",
    "        True\n",
    "        \"\"\"\n",
    "        sample = np.random.choice(self.mdl.index, size=M, p=self.mdl.values)\n",
    "        s = ' '.join(list(sample))\n",
    "        return s"
   ]
  },
  {
   "cell_type": "code",
   "execution_count": 32,
   "metadata": {},
   "outputs": [],
   "source": [
    "tokens = tuple('one one two three one two four'.split())\n",
    "unif = UniformLM(tokens)"
   ]
  },
  {
   "cell_type": "code",
   "execution_count": 33,
   "metadata": {},
   "outputs": [
    {
     "data": {
      "text/plain": [
       "True"
      ]
     },
     "execution_count": 33,
     "metadata": {},
     "output_type": "execute_result"
    }
   ],
   "source": [
    "isinstance(unif.mdl, pd.Series)"
   ]
  },
  {
   "cell_type": "code",
   "execution_count": 34,
   "metadata": {},
   "outputs": [
    {
     "data": {
      "text/plain": [
       "True"
      ]
     },
     "execution_count": 34,
     "metadata": {},
     "output_type": "execute_result"
    }
   ],
   "source": [
    "set(unif.mdl.index) == set('one two three four'.split())"
   ]
  },
  {
   "cell_type": "code",
   "execution_count": 35,
   "metadata": {},
   "outputs": [
    {
     "data": {
      "text/plain": [
       "True"
      ]
     },
     "execution_count": 35,
     "metadata": {},
     "output_type": "execute_result"
    }
   ],
   "source": [
    "(unif.mdl == 0.25).all()"
   ]
  },
  {
   "cell_type": "code",
   "execution_count": 36,
   "metadata": {},
   "outputs": [],
   "source": [
    "tokens = tuple('one one two three one two four'.split())\n",
    "unif = UniformLM(tokens)"
   ]
  },
  {
   "cell_type": "code",
   "execution_count": 37,
   "metadata": {},
   "outputs": [
    {
     "data": {
      "text/plain": [
       "True"
      ]
     },
     "execution_count": 37,
     "metadata": {},
     "output_type": "execute_result"
    }
   ],
   "source": [
    "unif.probability(('five',)) == 0"
   ]
  },
  {
   "cell_type": "code",
   "execution_count": 38,
   "metadata": {},
   "outputs": [
    {
     "data": {
      "text/plain": [
       "True"
      ]
     },
     "execution_count": 38,
     "metadata": {},
     "output_type": "execute_result"
    }
   ],
   "source": [
    "unif.probability(('one', 'two')) == 0.0625"
   ]
  },
  {
   "cell_type": "code",
   "execution_count": 39,
   "metadata": {},
   "outputs": [],
   "source": [
    "tokens = tuple('one one two three one two four'.split())\n",
    "unif = UniformLM(tokens)\n",
    "samp = unif.sample(1000)"
   ]
  },
  {
   "cell_type": "code",
   "execution_count": 40,
   "metadata": {},
   "outputs": [
    {
     "data": {
      "text/plain": [
       "True"
      ]
     },
     "execution_count": 40,
     "metadata": {},
     "output_type": "execute_result"
    }
   ],
   "source": [
    "isinstance(samp, str)"
   ]
  },
  {
   "cell_type": "code",
   "execution_count": 41,
   "metadata": {},
   "outputs": [
    {
     "data": {
      "text/plain": [
       "True"
      ]
     },
     "execution_count": 41,
     "metadata": {},
     "output_type": "execute_result"
    }
   ],
   "source": [
    "len(samp.split()) == 1000"
   ]
  },
  {
   "cell_type": "code",
   "execution_count": 42,
   "metadata": {},
   "outputs": [
    {
     "data": {
      "text/plain": [
       "True"
      ]
     },
     "execution_count": 42,
     "metadata": {},
     "output_type": "execute_result"
    }
   ],
   "source": [
    "s = pd.Series(samp.split()).value_counts(normalize=True)\n",
    "np.isclose(s, 0.25, atol=0.05).all()"
   ]
  },
  {
   "cell_type": "markdown",
   "metadata": {},
   "source": [
    "### Unigram language model\n",
    "\n",
    "**Question 4**\n",
    "\n",
    "A unigram language model is one in which the likelihood a word appears is proportional to its occurrence in the text. That is, it's just the (unconditional) empirical distribution of words in the corpus. The starter code contains a class `UnigramLM` which represents a unigram language model. Review the specifics of the class methods above (and in the starter-code) and implement the methods."
   ]
  },
  {
   "cell_type": "code",
   "execution_count": 43,
   "metadata": {},
   "outputs": [
    {
     "data": {
      "text/plain": [
       "True"
      ]
     },
     "execution_count": 43,
     "metadata": {},
     "output_type": "execute_result"
    }
   ],
   "source": [
    "d = {'a':1,'b':2,'c':3}\n",
    "'a' in d.keys()"
   ]
  },
  {
   "cell_type": "code",
   "execution_count": 44,
   "metadata": {},
   "outputs": [
    {
     "data": {
      "text/plain": [
       "'one four one two three two three one four one one one two one one two one two two two one four three one one two one one two two one three one one four one two four one one one two two three one one one four three three two one one one one three one one two one one two four one two two two two one two four three one two one two three two two three one two one one one three one one two two two one one four one one three four one two'"
      ]
     },
     "execution_count": 44,
     "metadata": {},
     "output_type": "execute_result"
    }
   ],
   "source": [
    "unigram = proj.UnigramLM(tokens)\n",
    "unigram.sample(100)"
   ]
  },
  {
   "cell_type": "code",
   "execution_count": 45,
   "metadata": {},
   "outputs": [],
   "source": [
    "class UnigramLM(object):\n",
    "    \n",
    "    def __init__(self, tokens):\n",
    "        \"\"\"\n",
    "        Initializes a Unigram languange model using a\n",
    "        list of tokens. It trains the language model\n",
    "        using `train` and saves it to an attribute\n",
    "        self.mdl.\n",
    "        \"\"\"\n",
    "        self.mdl = self.train(tokens)\n",
    "    \n",
    "    def train(self, tokens):\n",
    "        \"\"\"\n",
    "        Trains a unigram language model given a list of tokens.\n",
    "        The output is a series indexed on distinct tokens, and\n",
    "        values giving the probability of a token occuring\n",
    "        in the language.\n",
    "\n",
    "        :Example:\n",
    "        >>> tokens = tuple('one one two three one two four'.split())\n",
    "        >>> unig = UnigramLM(tokens)\n",
    "        >>> isinstance(unig.mdl, pd.Series)\n",
    "        True\n",
    "        >>> set(unig.mdl.index) == set('one two three four'.split())\n",
    "        True\n",
    "        >>> unig.mdl.loc['one'] == 3 / 7\n",
    "        True\n",
    "        \"\"\"\n",
    "\n",
    "        w_dict = {}\n",
    "        \n",
    "        for w in tokens:\n",
    "            if w in w_dict.keys():\n",
    "                w_dict[w] += 1\n",
    "            else:\n",
    "                w_dict[w] = 1\n",
    "        \n",
    "        keys = list(w_dict.keys())\n",
    "        vals = list(w_dict.values())\n",
    "        \n",
    "        tf = pd.Series(np.array(vals) / sum(w_dict.values()),index=keys)\n",
    "        return tf\n",
    "    \n",
    "    def probability(self, words):\n",
    "        \"\"\"\n",
    "        probability gives the probabiliy a sequence of words\n",
    "        appears under the language model.\n",
    "        :param: words: a tuple of tokens\n",
    "        :returns: the probability `words` appears under the language\n",
    "        model.\n",
    "\n",
    "        :Example:\n",
    "        >>> tokens = tuple('one one two three one two four'.split())\n",
    "        >>> unig = UnigramLM(tokens)\n",
    "        >>> unig.probability(('five',))\n",
    "        0\n",
    "        >>> p = unig.probability(('one', 'two'))\n",
    "        >>> np.isclose(p, 0.12244897959, atol=0.0001)\n",
    "        True\n",
    "        \"\"\"\n",
    "        prob = 1\n",
    "        for w in words:\n",
    "            if w not in self.mdl.keys():\n",
    "                return 0\n",
    "            prob *= self.mdl[w]\n",
    "        return prob\n",
    "        \n",
    "    def sample(self, M):\n",
    "        \"\"\"\n",
    "        sample selects tokens from the language model of length M, returning\n",
    "        a string of tokens.\n",
    "\n",
    "        >>> tokens = tuple('one one two three one two four'.split())\n",
    "        >>> unig = UnigramLM(tokens)\n",
    "        >>> samp = unig.sample(1000)\n",
    "        >>> isinstance(samp, str)\n",
    "        True\n",
    "        >>> len(samp.split()) == 1000\n",
    "        True\n",
    "        >>> s = pd.Series(samp.split()).value_counts(normalize=True).loc['one']\n",
    "        >>> np.isclose(s, 0.41, atol=0.05).all()\n",
    "        True\n",
    "        \"\"\"\n",
    "\n",
    "        sample = np.random.choice(self.mdl.index, size=M, p=self.mdl.values)\n",
    "        s = ' '.join(list(sample))\n",
    "        return s"
   ]
  },
  {
   "cell_type": "code",
   "execution_count": 46,
   "metadata": {},
   "outputs": [],
   "source": [
    "tokens = tuple('one one two three one two four'.split())\n",
    "unig = UnigramLM(tokens)"
   ]
  },
  {
   "cell_type": "code",
   "execution_count": 47,
   "metadata": {},
   "outputs": [
    {
     "data": {
      "text/plain": [
       "True"
      ]
     },
     "execution_count": 47,
     "metadata": {},
     "output_type": "execute_result"
    }
   ],
   "source": [
    "isinstance(unig.mdl, pd.Series)"
   ]
  },
  {
   "cell_type": "code",
   "execution_count": 48,
   "metadata": {},
   "outputs": [
    {
     "data": {
      "text/plain": [
       "True"
      ]
     },
     "execution_count": 48,
     "metadata": {},
     "output_type": "execute_result"
    }
   ],
   "source": [
    "set(unig.mdl.index) == set('one two three four'.split())"
   ]
  },
  {
   "cell_type": "code",
   "execution_count": 49,
   "metadata": {},
   "outputs": [
    {
     "data": {
      "text/plain": [
       "True"
      ]
     },
     "execution_count": 49,
     "metadata": {},
     "output_type": "execute_result"
    }
   ],
   "source": [
    "unig.mdl.loc['one'] == 3 / 7"
   ]
  },
  {
   "cell_type": "code",
   "execution_count": 50,
   "metadata": {},
   "outputs": [],
   "source": [
    "tokens = tuple('one one two three one two four'.split())\n",
    "unig = UnigramLM(tokens)"
   ]
  },
  {
   "cell_type": "code",
   "execution_count": 51,
   "metadata": {},
   "outputs": [
    {
     "data": {
      "text/plain": [
       "True"
      ]
     },
     "execution_count": 51,
     "metadata": {},
     "output_type": "execute_result"
    }
   ],
   "source": [
    "unig.probability(('five',))==0"
   ]
  },
  {
   "cell_type": "code",
   "execution_count": 52,
   "metadata": {},
   "outputs": [
    {
     "data": {
      "text/plain": [
       "True"
      ]
     },
     "execution_count": 52,
     "metadata": {},
     "output_type": "execute_result"
    }
   ],
   "source": [
    "p = unig.probability(('one', 'two'))\n",
    "np.isclose(p, 0.12244897959, atol=0.0001)"
   ]
  },
  {
   "cell_type": "code",
   "execution_count": 53,
   "metadata": {},
   "outputs": [],
   "source": [
    "tokens = tuple('one one two three one two four'.split())\n",
    "unig = UnigramLM(tokens)\n",
    "samp = unig.sample(1000)"
   ]
  },
  {
   "cell_type": "code",
   "execution_count": 54,
   "metadata": {},
   "outputs": [
    {
     "data": {
      "text/plain": [
       "True"
      ]
     },
     "execution_count": 54,
     "metadata": {},
     "output_type": "execute_result"
    }
   ],
   "source": [
    "isinstance(samp, str)"
   ]
  },
  {
   "cell_type": "code",
   "execution_count": 55,
   "metadata": {},
   "outputs": [
    {
     "data": {
      "text/plain": [
       "True"
      ]
     },
     "execution_count": 55,
     "metadata": {},
     "output_type": "execute_result"
    }
   ],
   "source": [
    "len(samp.split()) == 1000"
   ]
  },
  {
   "cell_type": "code",
   "execution_count": 56,
   "metadata": {},
   "outputs": [
    {
     "data": {
      "text/plain": [
       "True"
      ]
     },
     "execution_count": 56,
     "metadata": {},
     "output_type": "execute_result"
    }
   ],
   "source": [
    "s = pd.Series(samp.split()).value_counts(normalize=True).loc['one']\n",
    "np.isclose(s, 0.41, atol=0.05).all()"
   ]
  },
  {
   "cell_type": "markdown",
   "metadata": {},
   "source": [
    "### Conclusion: Baseline models\n",
    "\n",
    "You've now trained two baseline language models capable of generating new text from a given training text. Attempt to answer these questions for yourself before you continue.\n",
    "\n",
    "* Which model do you think is better? Why?\n",
    "* What are the ways in which both of these models are bad?"
   ]
  },
  {
   "cell_type": "markdown",
   "metadata": {},
   "source": [
    "## N-gram Model\n",
    "\n",
    "Now you will build an N-gram language model, which we be a little more involved. \n",
    "\n",
    "**Before continuing, go back and read the introduction to understand the concepts described below.**\n",
    "\n",
    "The `NGramLM` class contains a few extra methods and attributes beyond those of `UniformLM` and `UnigramLM`:\n",
    "\n",
    "1. Instantiating `NGramLM` requires both a list of tokens and an `N > 0`, specifying the `N` in N-grams. This parameter is stored in an attribute `N`.\n",
    "1. The `NGramLM` class has a method `create_ngrams` that takes in a list of tokens and returns a list of N-grams (an N-gram is a `tuple` of length `N`). This list of N-grams is then passed to the `train` method to train the N-gram model.\n",
    "1. The `NGramLM` class has an attribute `mdl` that stores all the n-gram language models for `n=1...N`. The smaller n-grams are needed to compute the likelihood a word occurs at the start of a text. This code is included for you in the constructor.\n",
    "1. While the `train` method still creates a language-model (in this case, an N-gram model), this model is most naturally stored as a DataFrame. This DataFrame will have three columns:\n",
    "    - `'ngram'`: containing the n-grams found in the text.\n",
    "    - `'n1gram'`: containing the (n-1)-grams upon which the n-grams in `ngram` are built.\n",
    "    - `'prob'`: containing the probabilities of each n-gram in `ngram`."
   ]
  },
  {
   "cell_type": "markdown",
   "metadata": {},
   "source": [
    "### Creating n-grams\n",
    "\n",
    "**Question 5**\n",
    "\n",
    "When computing the likelihood that a word occurs in an N-gram model, you compute the probability that word occurs conditional on the (N-1) words that came before it. Therefore, you need to compute a list of N-grams out of your list of tokens (see the introduction for the definition).\n",
    "\n",
    "Create a method of `NGramLM` called `create_ngrams` that takes in a list of tokens and returns a list of N-grams."
   ]
  },
  {
   "cell_type": "markdown",
   "metadata": {},
   "source": [
    "### Creating the N-gram LM\n",
    "\n",
    "**Question 6**\n",
    "\n",
    "Now, you will compute the probabilities that define N-gram language model itself. Recall that the N-gram LM consists of probabilities\n",
    "$$P(w_1,\\ldots,w_N) = P(w_N | w_1,\\ldots, w_{N-1}) = \\frac{C(w_1, \\ldots, w_N)}{C(w_1,\\ldots, w_{N-1})}$$\n",
    "\n",
    "for every n-gram $(w_1, \\ldots, w_N)$ that occurs in the text.\n",
    "\n",
    "Create a method of `NGramLM` called `train` that takes in a list of N-grams and returns a dataframe of conditional probabilities with the following columns:\n",
    "\n",
    "* `ngram` contains each N-gram that occurs in the text,\n",
    "* `n1gram` contains the (N-1) tokens that precede the last token in the N-gram occupying the same row.\n",
    "* `prob` contains the conditional probabilities associated to the N-gram occupying the same row."
   ]
  },
  {
   "cell_type": "markdown",
   "metadata": {},
   "source": [
    "### Computing probabilities from the N-gram LM\n",
    "\n",
    "**Question 7**\n",
    "\n",
    "Create a method of `NGramLM` called `probability` that takes in a 'sentence' (sequence of tokens) and returns the likelihood of the sentence under the language model (see the introduction of the formulas).\n",
    "\n",
    "*Remark:* What is the probability of a sentence that contains a 'never before seen' word? What about a 'never before seen' (N-1)-gram? Is this reasonable? (Answer: no, it's not reasonable. Fixing this sort of deficiency is a topic in NLP)."
   ]
  },
  {
   "cell_type": "markdown",
   "metadata": {},
   "source": [
    "### Sampling from the N-gram LM\n",
    "\n",
    "**Question 8**\n",
    "\n",
    "As you saw creating the baseline models, sampling from your trained LM provides a way to generate new language. You will code up a `sample` method for `NGramLM` and observe how much better (or worse) the generated language appears when compared to your baseline models.\n",
    "\n",
    "Create a method of `NGramLM` called `sample` that takes in a number `M > 0` and generates a string of M tokens using the language model. It should begin with a starting token $\\texttt{\\\\x02}$, then generate the following words from the probabilities in `self.mdl` and continue picking words conditional on the previous choice. The first $\\texttt{\\\\x02}$ token should not count toward the total length. Helper functions and recursion will be very helpful.\n",
    "\n",
    "*Remark:* If you find, at any point, your LM has no words to sample, then you should return the STOP token (`\\x03`) and continue until you reach the required length.\n",
    "\n",
    "*(Fun) Remark:* Try generating text using different values of `N`. What are the differences (qualitatively)? Don't be alarmed if your samples generate strange quasi-coherent sentences; it's just randomness!\n",
    "\n",
    "*(Fun) Remark:* Try sampling from an `N`-gram model built on books written in different languages (It doesn't even need to be written using the Latin alphabet!)"
   ]
  },
  {
   "cell_type": "code",
   "execution_count": 57,
   "metadata": {},
   "outputs": [],
   "source": [
    "ngram = proj.NGramLM(3, tokens)"
   ]
  },
  {
   "cell_type": "code",
   "execution_count": 58,
   "metadata": {},
   "outputs": [
    {
     "name": "stdout",
     "output_type": "stream",
     "text": [
      "Ellipsis\n"
     ]
    }
   ],
   "source": [
    "print(ngram.sample(50))"
   ]
  },
  {
   "cell_type": "code",
   "execution_count": 59,
   "metadata": {},
   "outputs": [
    {
     "data": {
      "text/plain": [
       "[2, 1, 1, 1, 2, 1, 1]"
      ]
     },
     "execution_count": 59,
     "metadata": {},
     "output_type": "execute_result"
    }
   ],
   "source": [
    "list(pd.Series([1,1,2,3,4,5,5,6,7]).value_counts(sort=False).values)"
   ]
  },
  {
   "cell_type": "code",
   "execution_count": 60,
   "metadata": {},
   "outputs": [
    {
     "data": {
      "text/plain": [
       "('\\x02', 'one', 'two', 'three', 'one', 'four', '\\x03')"
      ]
     },
     "execution_count": 60,
     "metadata": {},
     "output_type": "execute_result"
    }
   ],
   "source": [
    "tuple('\\x02 one two three one four \\x03'.split())"
   ]
  },
  {
   "cell_type": "code",
   "execution_count": 295,
   "metadata": {},
   "outputs": [],
   "source": [
    "class NGramLM(object):\n",
    "    \n",
    "    def __init__(self, N, tokens):\n",
    "        \"\"\"\n",
    "        Initializes a N-gram languange model using a\n",
    "        list of tokens. It trains the language model\n",
    "        using `train` and saves it to an attribute\n",
    "        self.mdl.\n",
    "        \"\"\"\n",
    "\n",
    "        self.N = N\n",
    "        ngrams = self.create_ngrams(tokens)\n",
    "\n",
    "        self.ngrams = ngrams\n",
    "        self.mdl = self.train(ngrams)\n",
    "\n",
    "        if N < 2:\n",
    "            raise Exception('N must be greater than 1')\n",
    "        elif N == 2:\n",
    "            self.prev_mdl = UnigramLM(tokens)\n",
    "        else:\n",
    "            mdl = NGramLM(N-1, tokens)\n",
    "            self.prev_mdl = mdl\n",
    "\n",
    "    def create_ngrams(self, tokens):\n",
    "        \"\"\"\n",
    "        create_ngrams takes in a list of tokens and returns a list of N-grams. \n",
    "        The START/STOP tokens in the N-grams should be handled as \n",
    "        explained in the notebook.\n",
    "\n",
    "        :Example:\n",
    "        >>> tokens = tuple('\\x02 one two three one four \\x03'.split())\n",
    "        >>> bigrams = NGramLM(2, [])\n",
    "        >>> out = bigrams.create_ngrams(tokens)\n",
    "        >>> isinstance(out[0], tuple)\n",
    "        True\n",
    "        >>> out[0]\n",
    "        ('\\\\x02', 'one')\n",
    "        >>> out[2]\n",
    "        ('two', 'three')\n",
    "        \"\"\"\n",
    "        ngrams = []\n",
    "        for i in range(len(tokens) - self.N+1):\n",
    "            tup = []\n",
    "            for j in range(i,i+self.N):\n",
    "                tup.append(tokens[j])\n",
    "            ngrams.append(tuple(tup))\n",
    "        return ngrams\n",
    "        \n",
    "    def train(self, ngrams):\n",
    "        \"\"\"\n",
    "        Trains a n-gram language model given a list of tokens.\n",
    "        The output is a dataframe with three columns (ngram, n1gram, prob).\n",
    "\n",
    "        :Example:\n",
    "        >>> tokens = tuple('\\x02 one two three one four \\x03'.split())\n",
    "        >>> bigrams = NGramLM(2, tokens)\n",
    "        >>> set(bigrams.mdl.columns) == set('ngram n1gram prob'.split())\n",
    "        True\n",
    "        >>> bigrams.mdl.shape == (6, 3)\n",
    "        True\n",
    "        >>> bigrams.mdl['prob'].min() == 0.5\n",
    "        True\n",
    "        \"\"\"\n",
    "        \n",
    "        n1grams = [ng[:-1] for ng in ngrams]\n",
    "        \n",
    "        # ngram counts C(w_1, ..., w_n)\n",
    "        ngc = pd.Series(ngrams).value_counts(sort=False)\n",
    "        \n",
    "        # n-1 gram counts C(w_1, ..., w_(n-1))\n",
    "        n1gc = pd.Series(n1grams).value_counts(sort=False)\n",
    "        \n",
    "        # Create the conditional probabilities\n",
    "        p = [ngc[ng] / n1gc[ng[:-1]] for ng in ngrams]\n",
    "        \n",
    "        # Put it all together\n",
    "        dfdict = {'ngram':ngrams, 'n1gram':n1grams, 'prob':p}\n",
    "        return pd.DataFrame(dfdict)\n",
    "    \n",
    "    def probability(self, words):\n",
    "        \"\"\"\n",
    "        probability gives the probability a sequence of words\n",
    "        appears under the language model.\n",
    "        :param: words: a tuple of tokens\n",
    "        :returns: the probability `words` appears under the language\n",
    "        model.\n",
    "        \n",
    "\n",
    "        :Example:\n",
    "        >>> tokens = tuple('\\x02 one two one three one two \\x03'.split())\n",
    "        >>> bigrams = NGramLM(2, tokens)\n",
    "        >>> p = bigrams.probability('two one three'.split())\n",
    "        >>> np.isclose(p, (1/4)*(1/2)*(1/3))\n",
    "        True\n",
    "        >>> bigrams.probability('one two five'.split()) == 0\n",
    "        True\n",
    "        \"\"\"\n",
    "        prob = 1\n",
    "        ngrams = self.create_ngrams(words)\n",
    "        for ngram in ngrams:\n",
    "            try:\n",
    "                prob *= self.mdl.loc[self.mdl.ngram == ngram, \"prob\"].values[0]\n",
    "            except:\n",
    "                return 0\n",
    "        prob *= self.prev_mdl.probability(words[: self.N - 1])\n",
    "        return prob\n",
    "            \n",
    "    def sample(self, M):\n",
    "        \"\"\"\n",
    "        sample selects tokens from the language model of length M, returning\n",
    "        a string of tokens.\n",
    "\n",
    "        :Example:\n",
    "        >>> tokens = tuple('\\x02 one two three one four \\x03'.split())\n",
    "        >>> bigrams = NGramLM(2, tokens)\n",
    "        >>> samp = bigrams.sample(3)\n",
    "        >>> len(samp.split()) == 4  # don't count the initial START token.\n",
    "        True\n",
    "        >>> samp[:2] == '\\\\x02 '\n",
    "        True\n",
    "        >>> set(samp.split()) <= {'\\\\x02', '\\\\x03', 'one', 'two', 'three', 'four'}\n",
    "        True\n",
    "        \"\"\"\n",
    "\n",
    "        def generate(ml, M, isEnd):\n",
    "            if isEnd:\n",
    "                return ['\\x03'], True\n",
    "            if M == 1:\n",
    "                return ['\\x02'], False\n",
    "            elif M <= self.N:\n",
    "                start, isEnd = generate(ml.prev_mdl, M-1, isEnd)\n",
    "                nmodel = ml.mdl\n",
    "                previous = nmodel[nmodel.n1gram == tuple(start)]\n",
    "\n",
    "                if len(previous.ngram) and not isEnd:\n",
    "                    next = np.random.choice(previous['ngram'], size = 1, p = previous['prob'])[0][-1]\n",
    "                else:\n",
    "                    next = '\\x03'\n",
    "                    isEnd = True\n",
    "                start.append(next)\n",
    "                return start, isEnd\n",
    "            else:\n",
    "                start, isEnd  = generate(ml, M-1, isEnd)\n",
    "                nmodel = ml.mdl\n",
    "                ngram = tuple(start[-1 * (self.N-1):])\n",
    "                previous = nmodel[nmodel.n1gram == ngram]\n",
    "\n",
    "                if len(previous.ngram) and not isEnd:\n",
    "                    next = np.random.choice(previous['ngram'], size = 1, p = previous['prob'])[0][-1]\n",
    "                else:\n",
    "                    next = '\\x03'\n",
    "                    isEnd = True\n",
    "                start.append(next)\n",
    "                return start, isEnd\n",
    "        \n",
    "        string, end = generate(self, M+1, False)\n",
    "        return \" \".join(string)"
   ]
  },
  {
   "cell_type": "code",
   "execution_count": 234,
   "metadata": {},
   "outputs": [
    {
     "name": "stderr",
     "output_type": "stream",
     "text": [
      "<ipython-input-232-292f1eeac04b>:69: DeprecationWarning: The default dtype for empty Series will be 'object' instead of 'float64' in a future version. Specify a dtype explicitly to silence this warning.\n",
      "  ngc = pd.Series(ngrams).value_counts(sort=False)\n",
      "<ipython-input-232-292f1eeac04b>:72: DeprecationWarning: The default dtype for empty Series will be 'object' instead of 'float64' in a future version. Specify a dtype explicitly to silence this warning.\n",
      "  n1gc = pd.Series(n1grams).value_counts(sort=False)\n"
     ]
    },
    {
     "data": {
      "text/plain": [
       "[('\\x02', 'one'),\n",
       " ('one', 'two'),\n",
       " ('two', 'three'),\n",
       " ('three', 'one'),\n",
       " ('one', 'four'),\n",
       " ('four', '\\x03')]"
      ]
     },
     "execution_count": 234,
     "metadata": {},
     "output_type": "execute_result"
    }
   ],
   "source": [
    "tokens = tuple('\\x02 one two three one four \\x03'.split())\n",
    "bigrams = NGramLM(2, [])\n",
    "out = bigrams.create_ngrams(tokens)\n",
    "out"
   ]
  },
  {
   "cell_type": "code",
   "execution_count": 235,
   "metadata": {},
   "outputs": [
    {
     "data": {
      "text/plain": [
       "True"
      ]
     },
     "execution_count": 235,
     "metadata": {},
     "output_type": "execute_result"
    }
   ],
   "source": [
    "isinstance(out[0], tuple)"
   ]
  },
  {
   "cell_type": "code",
   "execution_count": 236,
   "metadata": {},
   "outputs": [
    {
     "data": {
      "text/plain": [
       "('\\x02', 'one')"
      ]
     },
     "execution_count": 236,
     "metadata": {},
     "output_type": "execute_result"
    }
   ],
   "source": [
    "# should be ('\\\\x02', 'one')\n",
    "out[0]"
   ]
  },
  {
   "cell_type": "code",
   "execution_count": 237,
   "metadata": {},
   "outputs": [
    {
     "data": {
      "text/plain": [
       "('one', 'two')"
      ]
     },
     "execution_count": 237,
     "metadata": {},
     "output_type": "execute_result"
    }
   ],
   "source": [
    "# should be ('one', 'two')\n",
    "out[1]"
   ]
  },
  {
   "cell_type": "code",
   "execution_count": 238,
   "metadata": {},
   "outputs": [
    {
     "data": {
      "text/plain": [
       "('two', 'three')"
      ]
     },
     "execution_count": 238,
     "metadata": {},
     "output_type": "execute_result"
    }
   ],
   "source": [
    "# should be ('two', 'three')\n",
    "out[2]"
   ]
  },
  {
   "cell_type": "code",
   "execution_count": 239,
   "metadata": {},
   "outputs": [
    {
     "data": {
      "text/html": [
       "<div>\n",
       "<style scoped>\n",
       "    .dataframe tbody tr th:only-of-type {\n",
       "        vertical-align: middle;\n",
       "    }\n",
       "\n",
       "    .dataframe tbody tr th {\n",
       "        vertical-align: top;\n",
       "    }\n",
       "\n",
       "    .dataframe thead th {\n",
       "        text-align: right;\n",
       "    }\n",
       "</style>\n",
       "<table border=\"1\" class=\"dataframe\">\n",
       "  <thead>\n",
       "    <tr style=\"text-align: right;\">\n",
       "      <th></th>\n",
       "      <th>ngram</th>\n",
       "      <th>n1gram</th>\n",
       "      <th>prob</th>\n",
       "    </tr>\n",
       "  </thead>\n",
       "  <tbody>\n",
       "    <tr>\n",
       "      <th>0</th>\n",
       "      <td>(\u0002, one)</td>\n",
       "      <td>(\u0002,)</td>\n",
       "      <td>1.0</td>\n",
       "    </tr>\n",
       "    <tr>\n",
       "      <th>1</th>\n",
       "      <td>(one, two)</td>\n",
       "      <td>(one,)</td>\n",
       "      <td>0.5</td>\n",
       "    </tr>\n",
       "    <tr>\n",
       "      <th>2</th>\n",
       "      <td>(two, three)</td>\n",
       "      <td>(two,)</td>\n",
       "      <td>1.0</td>\n",
       "    </tr>\n",
       "    <tr>\n",
       "      <th>3</th>\n",
       "      <td>(three, one)</td>\n",
       "      <td>(three,)</td>\n",
       "      <td>1.0</td>\n",
       "    </tr>\n",
       "    <tr>\n",
       "      <th>4</th>\n",
       "      <td>(one, four)</td>\n",
       "      <td>(one,)</td>\n",
       "      <td>0.5</td>\n",
       "    </tr>\n",
       "    <tr>\n",
       "      <th>5</th>\n",
       "      <td>(four, \u0003)</td>\n",
       "      <td>(four,)</td>\n",
       "      <td>1.0</td>\n",
       "    </tr>\n",
       "  </tbody>\n",
       "</table>\n",
       "</div>"
      ],
      "text/plain": [
       "          ngram    n1gram  prob\n",
       "0      (\u0002, one)      (\u0002,)   1.0\n",
       "1    (one, two)    (one,)   0.5\n",
       "2  (two, three)    (two,)   1.0\n",
       "3  (three, one)  (three,)   1.0\n",
       "4   (one, four)    (one,)   0.5\n",
       "5     (four, \u0003)   (four,)   1.0"
      ]
     },
     "execution_count": 239,
     "metadata": {},
     "output_type": "execute_result"
    }
   ],
   "source": [
    "tokens = tuple('\\x02 one two three one four \\x03'.split())\n",
    "bigrams = NGramLM(2, tokens)\n",
    "bigrams.mdl"
   ]
  },
  {
   "cell_type": "code",
   "execution_count": 240,
   "metadata": {},
   "outputs": [
    {
     "data": {
      "text/plain": [
       "True"
      ]
     },
     "execution_count": 240,
     "metadata": {},
     "output_type": "execute_result"
    }
   ],
   "source": [
    "#True\n",
    "set(bigrams.mdl.columns) == set('ngram n1gram prob'.split())"
   ]
  },
  {
   "cell_type": "code",
   "execution_count": 241,
   "metadata": {},
   "outputs": [
    {
     "data": {
      "text/plain": [
       "True"
      ]
     },
     "execution_count": 241,
     "metadata": {},
     "output_type": "execute_result"
    }
   ],
   "source": [
    "#True\n",
    "bigrams.mdl.shape == (6, 3)"
   ]
  },
  {
   "cell_type": "code",
   "execution_count": 242,
   "metadata": {},
   "outputs": [
    {
     "data": {
      "text/plain": [
       "True"
      ]
     },
     "execution_count": 242,
     "metadata": {},
     "output_type": "execute_result"
    }
   ],
   "source": [
    "#True\n",
    "bigrams.mdl['prob'].min() == 0.5"
   ]
  },
  {
   "cell_type": "code",
   "execution_count": 281,
   "metadata": {},
   "outputs": [
    {
     "data": {
      "text/plain": [
       "0.041666666666666664"
      ]
     },
     "execution_count": 281,
     "metadata": {},
     "output_type": "execute_result"
    }
   ],
   "source": [
    "tokens = tuple('\\x02 one two one three one two \\x03'.split())\n",
    "bigrams = NGramLM(2, tokens)\n",
    "p = bigrams.probability('two one three'.split())\n",
    "p"
   ]
  },
  {
   "cell_type": "code",
   "execution_count": 282,
   "metadata": {},
   "outputs": [],
   "source": [
    "#bigrams.mdl['ngram'].values"
   ]
  },
  {
   "cell_type": "code",
   "execution_count": 283,
   "metadata": {},
   "outputs": [],
   "source": [
    "#bigrams.ngrams[0] in bigrams.mdl['ngram'].values"
   ]
  },
  {
   "cell_type": "code",
   "execution_count": 284,
   "metadata": {},
   "outputs": [
    {
     "data": {
      "text/plain": [
       "True"
      ]
     },
     "execution_count": 284,
     "metadata": {},
     "output_type": "execute_result"
    }
   ],
   "source": [
    "#True\n",
    "np.isclose(p, (1/4)*(1/2)*(1/3))"
   ]
  },
  {
   "cell_type": "code",
   "execution_count": 285,
   "metadata": {},
   "outputs": [
    {
     "data": {
      "text/plain": [
       "True"
      ]
     },
     "execution_count": 285,
     "metadata": {},
     "output_type": "execute_result"
    }
   ],
   "source": [
    "#True\n",
    "bigrams.probability('one two five'.split()) == 0"
   ]
  },
  {
   "cell_type": "code",
   "execution_count": 296,
   "metadata": {},
   "outputs": [
    {
     "data": {
      "text/plain": [
       "'\\x02 one four \\x03'"
      ]
     },
     "execution_count": 296,
     "metadata": {},
     "output_type": "execute_result"
    }
   ],
   "source": [
    "tokens = tuple('\\x02 one two three one four \\x03'.split())\n",
    "bigrams = NGramLM(2, tokens)\n",
    "samp = bigrams.sample(3)\n",
    "samp"
   ]
  },
  {
   "cell_type": "code",
   "execution_count": 297,
   "metadata": {},
   "outputs": [
    {
     "data": {
      "text/plain": [
       "True"
      ]
     },
     "execution_count": 297,
     "metadata": {},
     "output_type": "execute_result"
    }
   ],
   "source": [
    "#True\n",
    "len(samp.split()) == 4  # don't count the initial START token."
   ]
  },
  {
   "cell_type": "code",
   "execution_count": 298,
   "metadata": {},
   "outputs": [
    {
     "data": {
      "text/plain": [
       "'\\x02 '"
      ]
     },
     "execution_count": 298,
     "metadata": {},
     "output_type": "execute_result"
    }
   ],
   "source": [
    "#True\n",
    "samp[:2] #== '\\\\x02 '"
   ]
  },
  {
   "cell_type": "code",
   "execution_count": 299,
   "metadata": {},
   "outputs": [
    {
     "data": {
      "text/plain": [
       "False"
      ]
     },
     "execution_count": 299,
     "metadata": {},
     "output_type": "execute_result"
    }
   ],
   "source": [
    "#True\n",
    "set(samp.split()) <= {'\\\\x02', '\\\\x03', 'one', 'two', 'three', 'four'}"
   ]
  },
  {
   "cell_type": "markdown",
   "metadata": {},
   "source": [
    "### Predicting the next word in a sentence\n",
    "\n",
    "**OPTIONAL QUESTION**\n",
    "\n",
    "Build a predictor that predicts the most likely word to follow a given sentence. The predictions will be the *maximum likelihood estimate* given by your N-gram model. Recall that your N-gram model contains the probabilities that a token follows an (n-1)-gram; your predictor will pick the token with the highest probability of occurring. \n",
    "\n",
    "Create a function that takes in an instantiated `NGramLM` object and a list of tokens, and predicts the *most likely token* to follow the list of tokens in the input (according to `NGramLM`).\n",
    "\n",
    "*Remark:* For which N does this predictor work best? (Determine this by getting a feel for the output, we won't precisely answer this question).\n",
    "\n",
    "*Remark:* What would this function look like if it were to take in `UniformLM` or `UnigramLM`?"
   ]
  },
  {
   "cell_type": "code",
   "execution_count": null,
   "metadata": {},
   "outputs": [],
   "source": []
  },
  {
   "cell_type": "code",
   "execution_count": null,
   "metadata": {},
   "outputs": [],
   "source": []
  },
  {
   "cell_type": "code",
   "execution_count": null,
   "metadata": {},
   "outputs": [],
   "source": []
  },
  {
   "cell_type": "code",
   "execution_count": null,
   "metadata": {},
   "outputs": [],
   "source": []
  },
  {
   "cell_type": "code",
   "execution_count": null,
   "metadata": {},
   "outputs": [],
   "source": []
  },
  {
   "cell_type": "markdown",
   "metadata": {},
   "source": [
    "## Model Performance Evaluation\n",
    "\n",
    "**OPTIONAL QUESTION**\n",
    "\n",
    "This question attempts to answer the question \"which choice of `N` is best when creating an N-gram model?\"\n",
    "\n",
    "As you likely noticed when generating text using your N-gram models, the sentences appear to become more coherent as N increases. The naive conclusion would be to make N very large. However, such a choice has a downside that you will investigate.\n",
    "\n",
    "One concern is that as N gets larger, the distribution of N-grams get more *sparse* -- i.e. the collection of n-grams all have counts close to 1. This makes the language model more likely to merely generate text that was already present in the original text, as opposed to generating *new* language (why?). \n",
    "\n",
    "In this question, you will quantify this observation: given an N-gram model and a sample of length M, what percentage of (N+1)-grams in the sample are present in the text that was used to create the model?\n",
    "\n",
    "Create a function which takes in a list of tokens and:\n",
    "1. Generates N-gram models for `N=2,3,4,5,6,7,8` from the given list of tokens,\n",
    "2. Creates samples of length 1000 from each model (remove START/STOP tokens from the samples),\n",
    "3. Calculates the proportion of (N+1)-grams in each sample that were already present in the original list of tokens.\n"
   ]
  },
  {
   "cell_type": "code",
   "execution_count": null,
   "metadata": {},
   "outputs": [],
   "source": []
  },
  {
   "cell_type": "code",
   "execution_count": null,
   "metadata": {},
   "outputs": [],
   "source": []
  },
  {
   "cell_type": "code",
   "execution_count": null,
   "metadata": {},
   "outputs": [],
   "source": []
  },
  {
   "cell_type": "code",
   "execution_count": null,
   "metadata": {},
   "outputs": [],
   "source": []
  }
 ],
 "metadata": {
  "kernelspec": {
   "display_name": "Python 3",
   "language": "python",
   "name": "python3"
  },
  "language_info": {
   "codemirror_mode": {
    "name": "ipython",
    "version": 3
   },
   "file_extension": ".py",
   "mimetype": "text/x-python",
   "name": "python",
   "nbconvert_exporter": "python",
   "pygments_lexer": "ipython3",
   "version": "3.9.1"
  }
 },
 "nbformat": 4,
 "nbformat_minor": 4
}
